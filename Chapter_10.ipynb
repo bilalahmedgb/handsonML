{
  "nbformat": 4,
  "nbformat_minor": 0,
  "metadata": {
    "colab": {
      "name": "Chapter_10",
      "provenance": [],
      "collapsed_sections": [],
      "authorship_tag": "ABX9TyOMWHmJpZ/IMN+LT8uO7F0c",
      "include_colab_link": true
    },
    "kernelspec": {
      "name": "python3",
      "display_name": "Python 3"
    },
    "accelerator": "GPU"
  },
  "cells": [
    {
      "cell_type": "markdown",
      "metadata": {
        "id": "view-in-github",
        "colab_type": "text"
      },
      "source": [
        "<a href=\"https://colab.research.google.com/github/bilalahmedgb/handsonML/blob/main/Chapter_10.ipynb\" target=\"_parent\"><img src=\"https://colab.research.google.com/assets/colab-badge.svg\" alt=\"Open In Colab\"/></a>"
      ]
    },
    {
      "cell_type": "code",
      "metadata": {
        "id": "xBzS6iKiyoVA"
      },
      "source": [
        "import numpy as np\r\n",
        "import matplotlib.pyplot as plt\r\n",
        "import matplotlib as mpl"
      ],
      "execution_count": 25,
      "outputs": []
    },
    {
      "cell_type": "code",
      "metadata": {
        "id": "0CBJIJbY2pJN"
      },
      "source": [
        "from sklearn.datasets import load_iris\r\n",
        "from sklearn.linear_model import Perceptron\r\n",
        "\r\n",
        "iris = load_iris()\r\n",
        "X = iris.data[:, (2, 3)]\r\n",
        "y = (iris.target == 0).astype(np.int) #Iris setosa\r\n",
        "\r\n",
        "per_clf = Perceptron()\r\n",
        "per_clf.fit(X, y)\r\n",
        "\r\n",
        "y_pred = per_clf.predict([[2, 0.5]])"
      ],
      "execution_count": 26,
      "outputs": []
    },
    {
      "cell_type": "code",
      "metadata": {
        "id": "tLXZcdXRqKww"
      },
      "source": [
        "import tensorflow as tf\r\n",
        "from tensorflow import keras"
      ],
      "execution_count": 27,
      "outputs": []
    },
    {
      "cell_type": "code",
      "metadata": {
        "id": "1tGbk2PMqDDR"
      },
      "source": [
        "fashion_mnist = keras.datasets.fashion_mnist\r\n",
        "(X_train_full, y_train_full), (X_test, y_test) = fashion_mnist.load_data()"
      ],
      "execution_count": 28,
      "outputs": []
    },
    {
      "cell_type": "code",
      "metadata": {
        "id": "SO-cbu5sqN_5"
      },
      "source": [
        "X_valid, X_train = X_train_full[:5000]/255.0, X_train_full[5000:]/255.0\r\n",
        "y_valid, y_train = y_train_full[:5000], y_train_full[5000:]\r\n",
        "X_test = X_test/255."
      ],
      "execution_count": 29,
      "outputs": []
    },
    {
      "cell_type": "code",
      "metadata": {
        "colab": {
          "base_uri": "https://localhost:8080/",
          "height": 265
        },
        "id": "8stOQXsqqPUS",
        "outputId": "82567c98-20a0-405e-cb31-ae3748443ea6"
      },
      "source": [
        "plt.imshow(X_train[0], cmap=\"binary\")\r\n",
        "plt.axis(\"off\")\r\n",
        "display(plt.show())"
      ],
      "execution_count": 30,
      "outputs": [
        {
          "output_type": "display_data",
          "data": {
            "image/png": "[encoded data removed]",
            "text/plain": [
              "<Figure size 432x288 with 1 Axes>"
            ]
          },
          "metadata": {
            "tags": [],
            "needs_background": "light"
          }
        },
        {
          "output_type": "display_data",
          "data": {
            "text/plain": [
              "None"
            ]
          },
          "metadata": {
            "tags": []
          }
        }
      ]
    },
    {
      "cell_type": "code",
      "metadata": {
        "colab": {
          "base_uri": "https://localhost:8080/"
        },
        "id": "0K-TCpTWqQoI",
        "outputId": "90365129-60dc-4aa9-cac3-8bfab5c31c59"
      },
      "source": [
        "y_train"
      ],
      "execution_count": 31,
      "outputs": [
        {
          "output_type": "execute_result",
          "data": {
            "text/plain": [
              "array([4, 0, 7, ..., 3, 0, 5], dtype=uint8)"
            ]
          },
          "metadata": {
            "tags": []
          },
          "execution_count": 31
        }
      ]
    },
    {
      "cell_type": "code",
      "metadata": {
        "id": "sgR4D5afqUWx"
      },
      "source": [
        "class_names = [\"T-shirt/top\", \"Trouser\", \"Pullover\", \"Dress\", \"Coat\",\r\n",
        "              \"Sandal\", \"Shirt\", \"Sneaker\", \"Bag\", \"Ankle boot\"]"
      ],
      "execution_count": 32,
      "outputs": []
    },
    {
      "cell_type": "code",
      "metadata": {
        "colab": {
          "base_uri": "https://localhost:8080/",
          "height": 35
        },
        "id": "pR-isfgyqVfp",
        "outputId": "60f6e45c-b1c8-4a81-a39a-7b43a121f6ac"
      },
      "source": [
        "class_names[y_train[0]]"
      ],
      "execution_count": 33,
      "outputs": [
        {
          "output_type": "execute_result",
          "data": {
            "application/vnd.google.colaboratory.intrinsic+json": {
              "type": "string"
            },
            "text/plain": [
              "'Coat'"
            ]
          },
          "metadata": {
            "tags": []
          },
          "execution_count": 33
        }
      ]
    },
    {
      "cell_type": "code",
      "metadata": {
        "colab": {
          "base_uri": "https://localhost:8080/",
          "height": 325
        },
        "id": "BhlFGtZNqWyQ",
        "outputId": "4c9d004c-befb-41a4-b2c4-d4878a4e38e1"
      },
      "source": [
        "n_rows = 4\r\n",
        "n_cols = 10\r\n",
        "plt.figure(figsize=(n_cols * 1.2, n_rows * 1.2))\r\n",
        "for row in range(n_rows):\r\n",
        "  for col in range(n_cols):\r\n",
        "    index = n_cols * row + col\r\n",
        "    plt.subplot(n_rows, n_cols, index+1)\r\n",
        "    plt.imshow(X_train[index], cmap=\"binary\", interpolation=\"nearest\")\r\n",
        "    plt.axis(\"off\")\r\n",
        "    plt.title(class_names[y_train[index]], fontsize=12)\r\n",
        "plt.subplots_adjust(wspace=0.2, hspace=0.5)\r\n",
        "display(plt.show())"
      ],
      "execution_count": 34,
      "outputs": [
        {
          "output_type": "display_data",
          "data": {
            "image/png": "[encoded data removed]",
            "text/plain": [
              "<Figure size 864x345.6 with 40 Axes>"
            ]
          },
          "metadata": {
            "tags": [],
            "needs_background": "light"
          }
        },
        {
          "output_type": "display_data",
          "data": {
            "text/plain": [
              "None"
            ]
          },
          "metadata": {
            "tags": []
          }
        }
      ]
    },
    {
      "cell_type": "code",
      "metadata": {
        "id": "vUfFQ5NmqYgS"
      },
      "source": [
        "model = keras.models.Sequential()\r\n",
        "model.add(keras.layers.Flatten(input_shape=[28,28]))\r\n",
        "model.add(keras.layers.Dense(300, activation=\"relu\"))\r\n",
        "model.add(keras.layers.Dense(100, activation=\"relu\"))\r\n",
        "model.add(keras.layers.Dense(10, activation=\"softmax\"))"
      ],
      "execution_count": 35,
      "outputs": []
    },
    {
      "cell_type": "code",
      "metadata": {
        "id": "aeWvuq3iqZl5"
      },
      "source": [
        "keras.backend.clear_session()\r\n",
        "np.random.seed(42)\r\n",
        "tf.random.set_seed(42)"
      ],
      "execution_count": 36,
      "outputs": []
    },
    {
      "cell_type": "code",
      "metadata": {
        "id": "TX3wIb_xqa7X"
      },
      "source": [
        "model = keras.models.Sequential([\r\n",
        "  keras.layers.Flatten(input_shape=[28, 28]),\r\n",
        "  keras.layers.Dense(300, activation=\"relu\"),\r\n",
        "  keras.layers.Dense(100, activation=\"relu\"),\r\n",
        "  keras.layers.Dense(10, activation=\"softmax\")\r\n",
        "])"
      ],
      "execution_count": 37,
      "outputs": []
    },
    {
      "cell_type": "code",
      "metadata": {
        "colab": {
          "base_uri": "https://localhost:8080/"
        },
        "id": "FF0aTGQUqcfr",
        "outputId": "ef1624a1-105d-430e-f448-0a720abedb28"
      },
      "source": [
        "model.layers"
      ],
      "execution_count": 38,
      "outputs": [
        {
          "output_type": "execute_result",
          "data": {
            "text/plain": [
              "[<tensorflow.python.keras.layers.core.Flatten at 0x7f010dc03d30>,\n",
              " <tensorflow.python.keras.layers.core.Dense at 0x7f010dc03ef0>,\n",
              " <tensorflow.python.keras.layers.core.Dense at 0x7f010043e6d8>,\n",
              " <tensorflow.python.keras.layers.core.Dense at 0x7f010dbe3588>]"
            ]
          },
          "metadata": {
            "tags": []
          },
          "execution_count": 38
        }
      ]
    },
    {
      "cell_type": "code",
      "metadata": {
        "colab": {
          "base_uri": "https://localhost:8080/"
        },
        "id": "ihy7C27Iqdts",
        "outputId": "57db8e51-aaa8-45af-e66e-deaeac692d1c"
      },
      "source": [
        "model.summary()"
      ],
      "execution_count": 39,
      "outputs": [
        {
          "output_type": "stream",
          "text": [
            "Model: \"sequential\"\n",
            "_________________________________________________________________\n",
            "Layer (type)                 Output Shape              Param #   \n",
            "=================================================================\n",
            "flatten (Flatten)            (None, 784)               0         \n",
            "_________________________________________________________________\n",
            "dense (Dense)                (None, 300)               235500    \n",
            "_________________________________________________________________\n",
            "dense_1 (Dense)              (None, 100)               30100     \n",
            "_________________________________________________________________\n",
            "dense_2 (Dense)              (None, 10)                1010      \n",
            "=================================================================\n",
            "Total params: 266,610\n",
            "Trainable params: 266,610\n",
            "Non-trainable params: 0\n",
            "_________________________________________________________________\n"
          ],
          "name": "stdout"
        }
      ]
    },
    {
      "cell_type": "code",
      "metadata": {
        "colab": {
          "base_uri": "https://localhost:8080/",
          "height": 533
        },
        "id": "KsLU2OOzqgqi",
        "outputId": "45988034-72ec-419b-ad7f-5481a8b5db1e"
      },
      "source": [
        "keras.utils.plot_model(model, \"my_fashion_mnist_model.png\", show_shapes=True)"
      ],
      "execution_count": 40,
      "outputs": [
        {
          "output_type": "execute_result",
          "data": {
            "image/png": "[encoded data removed]",
            "text/plain": [
              "<IPython.core.display.Image object>"
            ]
          },
          "metadata": {
            "tags": []
          },
          "execution_count": 40
        }
      ]
    },
    {
      "cell_type": "code",
      "metadata": {
        "id": "CNEwuAr8qlRu"
      },
      "source": [
        "hidden1 = model.layers[1]"
      ],
      "execution_count": 41,
      "outputs": []
    },
    {
      "cell_type": "code",
      "metadata": {
        "colab": {
          "base_uri": "https://localhost:8080/",
          "height": 35
        },
        "id": "-1U_r9ChqmQG",
        "outputId": "623167f2-272d-4b00-8c81-ad1819726cca"
      },
      "source": [
        "hidden1.name"
      ],
      "execution_count": 42,
      "outputs": [
        {
          "output_type": "execute_result",
          "data": {
            "application/vnd.google.colaboratory.intrinsic+json": {
              "type": "string"
            },
            "text/plain": [
              "'dense'"
            ]
          },
          "metadata": {
            "tags": []
          },
          "execution_count": 42
        }
      ]
    },
    {
      "cell_type": "code",
      "metadata": {
        "colab": {
          "base_uri": "https://localhost:8080/"
        },
        "id": "iBO4S4mUqnYl",
        "outputId": "c715754e-ae41-43fe-c78d-cc8828b1e873"
      },
      "source": [
        "model.get_layer('dense') is hidden1"
      ],
      "execution_count": 43,
      "outputs": [
        {
          "output_type": "execute_result",
          "data": {
            "text/plain": [
              "True"
            ]
          },
          "metadata": {
            "tags": []
          },
          "execution_count": 43
        }
      ]
    },
    {
      "cell_type": "code",
      "metadata": {
        "id": "xbpscQXSq_aa"
      },
      "source": [
        "weights, biases = hidden1.get_weights()"
      ],
      "execution_count": 44,
      "outputs": []
    },
    {
      "cell_type": "code",
      "metadata": {
        "id": "SN56Zl9LrBMG",
        "outputId": "1f6cdaad-2ca8-4149-b443-4f030f120d62",
        "colab": {
          "base_uri": "https://localhost:8080/"
        }
      },
      "source": [
        "biases"
      ],
      "execution_count": 45,
      "outputs": [
        {
          "output_type": "execute_result",
          "data": {
            "text/plain": [
              "array([0., 0., 0., 0., 0., 0., 0., 0., 0., 0., 0., 0., 0., 0., 0., 0., 0.,\n",
              "       0., 0., 0., 0., 0., 0., 0., 0., 0., 0., 0., 0., 0., 0., 0., 0., 0.,\n",
              "       0., 0., 0., 0., 0., 0., 0., 0., 0., 0., 0., 0., 0., 0., 0., 0., 0.,\n",
              "       0., 0., 0., 0., 0., 0., 0., 0., 0., 0., 0., 0., 0., 0., 0., 0., 0.,\n",
              "       0., 0., 0., 0., 0., 0., 0., 0., 0., 0., 0., 0., 0., 0., 0., 0., 0.,\n",
              "       0., 0., 0., 0., 0., 0., 0., 0., 0., 0., 0., 0., 0., 0., 0., 0., 0.,\n",
              "       0., 0., 0., 0., 0., 0., 0., 0., 0., 0., 0., 0., 0., 0., 0., 0., 0.,\n",
              "       0., 0., 0., 0., 0., 0., 0., 0., 0., 0., 0., 0., 0., 0., 0., 0., 0.,\n",
              "       0., 0., 0., 0., 0., 0., 0., 0., 0., 0., 0., 0., 0., 0., 0., 0., 0.,\n",
              "       0., 0., 0., 0., 0., 0., 0., 0., 0., 0., 0., 0., 0., 0., 0., 0., 0.,\n",
              "       0., 0., 0., 0., 0., 0., 0., 0., 0., 0., 0., 0., 0., 0., 0., 0., 0.,\n",
              "       0., 0., 0., 0., 0., 0., 0., 0., 0., 0., 0., 0., 0., 0., 0., 0., 0.,\n",
              "       0., 0., 0., 0., 0., 0., 0., 0., 0., 0., 0., 0., 0., 0., 0., 0., 0.,\n",
              "       0., 0., 0., 0., 0., 0., 0., 0., 0., 0., 0., 0., 0., 0., 0., 0., 0.,\n",
              "       0., 0., 0., 0., 0., 0., 0., 0., 0., 0., 0., 0., 0., 0., 0., 0., 0.,\n",
              "       0., 0., 0., 0., 0., 0., 0., 0., 0., 0., 0., 0., 0., 0., 0., 0., 0.,\n",
              "       0., 0., 0., 0., 0., 0., 0., 0., 0., 0., 0., 0., 0., 0., 0., 0., 0.,\n",
              "       0., 0., 0., 0., 0., 0., 0., 0., 0., 0., 0.], dtype=float32)"
            ]
          },
          "metadata": {
            "tags": []
          },
          "execution_count": 45
        }
      ]
    },
    {
      "cell_type": "code",
      "metadata": {
        "id": "yDpfaUcorQy7",
        "outputId": "46d7f6d4-4687-4366-ce89-e693730fc3b3",
        "colab": {
          "base_uri": "https://localhost:8080/"
        }
      },
      "source": [
        "weights"
      ],
      "execution_count": 46,
      "outputs": [
        {
          "output_type": "execute_result",
          "data": {
            "text/plain": [
              "array([[ 0.02448617, -0.00877795, -0.02189048, ..., -0.02766046,\n",
              "         0.03859074, -0.06889391],\n",
              "       [ 0.00476504, -0.03105379, -0.0586676 , ...,  0.00602964,\n",
              "        -0.02763776, -0.04165364],\n",
              "       [-0.06189284, -0.06901957,  0.07102345, ..., -0.04238207,\n",
              "         0.07121518, -0.07331658],\n",
              "       ...,\n",
              "       [-0.03048757,  0.02155137, -0.05400612, ..., -0.00113463,\n",
              "         0.00228987,  0.05581069],\n",
              "       [ 0.07061854, -0.06960931,  0.07038955, ..., -0.00384101,\n",
              "         0.00034875,  0.02878492],\n",
              "       [-0.06022581,  0.01577859, -0.02585464, ..., -0.00527829,\n",
              "         0.00272203, -0.06793761]], dtype=float32)"
            ]
          },
          "metadata": {
            "tags": []
          },
          "execution_count": 46
        }
      ]
    },
    {
      "cell_type": "code",
      "metadata": {
        "id": "JHAcziYSrsQl"
      },
      "source": [
        "#If we are not sure of the Input size, we can ignore, keras will wait till we build()\r\n",
        "# model2 = keras.models.Sequential([\r\n",
        "#   keras.layers.Dense('300', activation=\"relu\"),\r\n",
        "#   keras.layers.Dense('100', activation=\"relu\"),\r\n",
        "#   keras.layers.Dense('10', activation=\"softmax\")\r\n",
        "# ])"
      ],
      "execution_count": 47,
      "outputs": []
    },
    {
      "cell_type": "code",
      "metadata": {
        "id": "i6Ge-klSruB0"
      },
      "source": [
        "model.compile(loss=\"sparse_categorical_crossentropy\", optimizer=\"sgd\", metrics=[\"accuracy\"])"
      ],
      "execution_count": 48,
      "outputs": []
    },
    {
      "cell_type": "code",
      "metadata": {
        "id": "5JIoUGd7rvMq",
        "outputId": "ebd237bb-3018-4039-d109-bff6a33d76ee",
        "colab": {
          "base_uri": "https://localhost:8080/"
        }
      },
      "source": [
        "history = model.fit(X_train, y_train, epochs=30,\r\n",
        "                    validation_data=(X_valid, y_valid))"
      ],
      "execution_count": 49,
      "outputs": [
        {
          "output_type": "stream",
          "text": [
            "Epoch 1/30\n",
            "1719/1719 [==============================] - 6s 2ms/step - loss: 1.0187 - accuracy: 0.6805 - val_loss: 0.5213 - val_accuracy: 0.8226\n",
            "Epoch 2/30\n",
            "1719/1719 [==============================] - 4s 2ms/step - loss: 0.5028 - accuracy: 0.8262 - val_loss: 0.4349 - val_accuracy: 0.8528\n",
            "Epoch 3/30\n",
            "1719/1719 [==============================] - 4s 2ms/step - loss: 0.4483 - accuracy: 0.8424 - val_loss: 0.5279 - val_accuracy: 0.8008\n",
            "Epoch 4/30\n",
            "1719/1719 [==============================] - 4s 2ms/step - loss: 0.4207 - accuracy: 0.8530 - val_loss: 0.3917 - val_accuracy: 0.8646\n",
            "Epoch 5/30\n",
            "1719/1719 [==============================] - 4s 2ms/step - loss: 0.4060 - accuracy: 0.8586 - val_loss: 0.3742 - val_accuracy: 0.8686\n",
            "Epoch 6/30\n",
            "1719/1719 [==============================] - 4s 2ms/step - loss: 0.3753 - accuracy: 0.8674 - val_loss: 0.3715 - val_accuracy: 0.8724\n",
            "Epoch 7/30\n",
            "1719/1719 [==============================] - 3s 2ms/step - loss: 0.3652 - accuracy: 0.8709 - val_loss: 0.3610 - val_accuracy: 0.8722\n",
            "Epoch 8/30\n",
            "1719/1719 [==============================] - 4s 2ms/step - loss: 0.3479 - accuracy: 0.8755 - val_loss: 0.3855 - val_accuracy: 0.8610\n",
            "Epoch 9/30\n",
            "1719/1719 [==============================] - 4s 2ms/step - loss: 0.3485 - accuracy: 0.8758 - val_loss: 0.3585 - val_accuracy: 0.8706\n",
            "Epoch 10/30\n",
            "1719/1719 [==============================] - 4s 2ms/step - loss: 0.3295 - accuracy: 0.8835 - val_loss: 0.3422 - val_accuracy: 0.8778\n",
            "Epoch 11/30\n",
            "1719/1719 [==============================] - 4s 2ms/step - loss: 0.3217 - accuracy: 0.8840 - val_loss: 0.3446 - val_accuracy: 0.8768\n",
            "Epoch 12/30\n",
            "1719/1719 [==============================] - 4s 2ms/step - loss: 0.3120 - accuracy: 0.8876 - val_loss: 0.3299 - val_accuracy: 0.8834\n",
            "Epoch 13/30\n",
            "1719/1719 [==============================] - 4s 2ms/step - loss: 0.3052 - accuracy: 0.8896 - val_loss: 0.3271 - val_accuracy: 0.8870\n",
            "Epoch 14/30\n",
            "1719/1719 [==============================] - 4s 2ms/step - loss: 0.2989 - accuracy: 0.8918 - val_loss: 0.3408 - val_accuracy: 0.8782\n",
            "Epoch 15/30\n",
            "1719/1719 [==============================] - 4s 2ms/step - loss: 0.2933 - accuracy: 0.8942 - val_loss: 0.3223 - val_accuracy: 0.8842\n",
            "Epoch 16/30\n",
            "1719/1719 [==============================] - 4s 2ms/step - loss: 0.2858 - accuracy: 0.8980 - val_loss: 0.3099 - val_accuracy: 0.8900\n",
            "Epoch 17/30\n",
            "1719/1719 [==============================] - 4s 2ms/step - loss: 0.2778 - accuracy: 0.9010 - val_loss: 0.3566 - val_accuracy: 0.8720\n",
            "Epoch 18/30\n",
            "1719/1719 [==============================] - 4s 2ms/step - loss: 0.2775 - accuracy: 0.8993 - val_loss: 0.3141 - val_accuracy: 0.8900\n",
            "Epoch 19/30\n",
            "1719/1719 [==============================] - 4s 2ms/step - loss: 0.2739 - accuracy: 0.9024 - val_loss: 0.3098 - val_accuracy: 0.8906\n",
            "Epoch 20/30\n",
            "1719/1719 [==============================] - 4s 2ms/step - loss: 0.2693 - accuracy: 0.9040 - val_loss: 0.3260 - val_accuracy: 0.8824\n",
            "Epoch 21/30\n",
            "1719/1719 [==============================] - 4s 2ms/step - loss: 0.2670 - accuracy: 0.9044 - val_loss: 0.3047 - val_accuracy: 0.8922\n",
            "Epoch 22/30\n",
            "1719/1719 [==============================] - 4s 2ms/step - loss: 0.2612 - accuracy: 0.9053 - val_loss: 0.2962 - val_accuracy: 0.8960\n",
            "Epoch 23/30\n",
            "1719/1719 [==============================] - 4s 2ms/step - loss: 0.2546 - accuracy: 0.9078 - val_loss: 0.2984 - val_accuracy: 0.8928\n",
            "Epoch 24/30\n",
            "1719/1719 [==============================] - 4s 2ms/step - loss: 0.2448 - accuracy: 0.9121 - val_loss: 0.3083 - val_accuracy: 0.8880\n",
            "Epoch 25/30\n",
            "1719/1719 [==============================] - 4s 2ms/step - loss: 0.2490 - accuracy: 0.9111 - val_loss: 0.2955 - val_accuracy: 0.8940\n",
            "Epoch 26/30\n",
            "1719/1719 [==============================] - 4s 2ms/step - loss: 0.2425 - accuracy: 0.9137 - val_loss: 0.3069 - val_accuracy: 0.8914\n",
            "Epoch 27/30\n",
            "1719/1719 [==============================] - 4s 2ms/step - loss: 0.2368 - accuracy: 0.9166 - val_loss: 0.3027 - val_accuracy: 0.8948\n",
            "Epoch 28/30\n",
            "1719/1719 [==============================] - 4s 2ms/step - loss: 0.2313 - accuracy: 0.9164 - val_loss: 0.2973 - val_accuracy: 0.8952\n",
            "Epoch 29/30\n",
            "1719/1719 [==============================] - 4s 2ms/step - loss: 0.2280 - accuracy: 0.9176 - val_loss: 0.3082 - val_accuracy: 0.8896\n",
            "Epoch 30/30\n",
            "1719/1719 [==============================] - 4s 2ms/step - loss: 0.2250 - accuracy: 0.9211 - val_loss: 0.3015 - val_accuracy: 0.8942\n"
          ],
          "name": "stdout"
        }
      ]
    },
    {
      "cell_type": "code",
      "metadata": {
        "id": "HuqEYhXSrwN6",
        "outputId": "8031720d-0bb1-40e6-fd11-929fdb6e3f25",
        "colab": {
          "base_uri": "https://localhost:8080/"
        }
      },
      "source": [
        "history.params"
      ],
      "execution_count": 50,
      "outputs": [
        {
          "output_type": "execute_result",
          "data": {
            "text/plain": [
              "{'epochs': 30, 'steps': 1719, 'verbose': 1}"
            ]
          },
          "metadata": {
            "tags": []
          },
          "execution_count": 50
        }
      ]
    },
    {
      "cell_type": "code",
      "metadata": {
        "id": "zc78uhb_ryNG",
        "outputId": "9865c31a-bebf-47c5-9825-53051a27a5a7",
        "colab": {
          "base_uri": "https://localhost:8080/"
        }
      },
      "source": [
        "print(history.epoch)"
      ],
      "execution_count": 51,
      "outputs": [
        {
          "output_type": "stream",
          "text": [
            "[0, 1, 2, 3, 4, 5, 6, 7, 8, 9, 10, 11, 12, 13, 14, 15, 16, 17, 18, 19, 20, 21, 22, 23, 24, 25, 26, 27, 28, 29]\n"
          ],
          "name": "stdout"
        }
      ]
    },
    {
      "cell_type": "code",
      "metadata": {
        "id": "JMSACzGTr4Ou",
        "outputId": "17c793dd-33ab-4887-ebf4-f7af8cb4bb45",
        "colab": {
          "base_uri": "https://localhost:8080/"
        }
      },
      "source": [
        "history.history.keys()"
      ],
      "execution_count": 52,
      "outputs": [
        {
          "output_type": "execute_result",
          "data": {
            "text/plain": [
              "dict_keys(['loss', 'accuracy', 'val_loss', 'val_accuracy'])"
            ]
          },
          "metadata": {
            "tags": []
          },
          "execution_count": 52
        }
      ]
    },
    {
      "cell_type": "code",
      "metadata": {
        "id": "D5li36ZHr5o5",
        "outputId": "3fd5df22-e7cd-40d7-d710-31992f359176",
        "colab": {
          "base_uri": "https://localhost:8080/"
        }
      },
      "source": [
        "history.history"
      ],
      "execution_count": 53,
      "outputs": [
        {
          "output_type": "execute_result",
          "data": {
            "text/plain": [
              "{'accuracy': [0.7643091082572937,\n",
              "  0.8315636515617371,\n",
              "  0.8456000089645386,\n",
              "  0.8565818071365356,\n",
              "  0.8622000217437744,\n",
              "  0.8677272796630859,\n",
              "  0.871436357498169,\n",
              "  0.874854564666748,\n",
              "  0.8789818286895752,\n",
              "  0.8819817900657654,\n",
              "  0.8839091062545776,\n",
              "  0.8867272734642029,\n",
              "  0.8892909288406372,\n",
              "  0.8917818069458008,\n",
              "  0.8939818143844604,\n",
              "  0.8971999883651733,\n",
              "  0.8976181745529175,\n",
              "  0.9000181555747986,\n",
              "  0.9022908806800842,\n",
              "  0.9035817980766296,\n",
              "  0.9052909016609192,\n",
              "  0.9071817994117737,\n",
              "  0.9083818197250366,\n",
              "  0.9104727506637573,\n",
              "  0.9124181866645813,\n",
              "  0.9139999747276306,\n",
              "  0.9158545732498169,\n",
              "  0.9160727262496948,\n",
              "  0.9183454513549805,\n",
              "  0.9194545745849609],\n",
              " 'loss': [0.7237027883529663,\n",
              "  0.4842100441455841,\n",
              "  0.4390987455844879,\n",
              "  0.4122406244277954,\n",
              "  0.39384883642196655,\n",
              "  0.3751632571220398,\n",
              "  0.36308398842811584,\n",
              "  0.35165902972221375,\n",
              "  0.3414646089076996,\n",
              "  0.33198902010917664,\n",
              "  0.324044793844223,\n",
              "  0.31485337018966675,\n",
              "  0.30790218710899353,\n",
              "  0.3019029498100281,\n",
              "  0.2944642901420593,\n",
              "  0.28870826959609985,\n",
              "  0.2837264835834503,\n",
              "  0.277632474899292,\n",
              "  0.27264437079429626,\n",
              "  0.2671491503715515,\n",
              "  0.26230528950691223,\n",
              "  0.2574373483657837,\n",
              "  0.2532917261123657,\n",
              "  0.2483845204114914,\n",
              "  0.24416574835777283,\n",
              "  0.24049723148345947,\n",
              "  0.23598909378051758,\n",
              "  0.23283903300762177,\n",
              "  0.2284242957830429,\n",
              "  0.22497184574604034],\n",
              " 'val_accuracy': [0.8226000070571899,\n",
              "  0.8528000116348267,\n",
              "  0.8008000254631042,\n",
              "  0.8646000027656555,\n",
              "  0.8686000108718872,\n",
              "  0.8723999857902527,\n",
              "  0.8722000122070312,\n",
              "  0.8610000014305115,\n",
              "  0.8705999851226807,\n",
              "  0.8777999877929688,\n",
              "  0.876800000667572,\n",
              "  0.883400022983551,\n",
              "  0.8870000243186951,\n",
              "  0.8781999945640564,\n",
              "  0.8841999769210815,\n",
              "  0.8899999856948853,\n",
              "  0.871999979019165,\n",
              "  0.8899999856948853,\n",
              "  0.8906000256538391,\n",
              "  0.8823999762535095,\n",
              "  0.8921999931335449,\n",
              "  0.8960000276565552,\n",
              "  0.892799973487854,\n",
              "  0.8880000114440918,\n",
              "  0.8939999938011169,\n",
              "  0.8913999795913696,\n",
              "  0.8948000073432922,\n",
              "  0.8952000141143799,\n",
              "  0.8895999789237976,\n",
              "  0.8942000269889832],\n",
              " 'val_loss': [0.5213177800178528,\n",
              "  0.43493521213531494,\n",
              "  0.5279301404953003,\n",
              "  0.39171546697616577,\n",
              "  0.3741972744464874,\n",
              "  0.37145549058914185,\n",
              "  0.36103639006614685,\n",
              "  0.3854644000530243,\n",
              "  0.3584892451763153,\n",
              "  0.3421635627746582,\n",
              "  0.3446318507194519,\n",
              "  0.32991766929626465,\n",
              "  0.327087938785553,\n",
              "  0.34078407287597656,\n",
              "  0.32225313782691956,\n",
              "  0.30988284945487976,\n",
              "  0.35661524534225464,\n",
              "  0.3140568733215332,\n",
              "  0.30980703234672546,\n",
              "  0.3260354995727539,\n",
              "  0.3046610653400421,\n",
              "  0.29618045687675476,\n",
              "  0.29836779832839966,\n",
              "  0.3083448112010956,\n",
              "  0.2955251932144165,\n",
              "  0.306851863861084,\n",
              "  0.30268678069114685,\n",
              "  0.29731300473213196,\n",
              "  0.3081791400909424,\n",
              "  0.30147817730903625]}"
            ]
          },
          "metadata": {
            "tags": []
          },
          "execution_count": 53
        }
      ]
    },
    {
      "cell_type": "code",
      "metadata": {
        "id": "I3MEhDbyr7JD",
        "outputId": "a9927d25-231c-44f1-c271-f1ca494a9e95",
        "colab": {
          "base_uri": "https://localhost:8080/",
          "height": 341
        }
      },
      "source": [
        "import pandas as pd\r\n",
        "\r\n",
        "pd.DataFrame(history.history).plot(figsize=(8,5))\r\n",
        "plt.grid(True)\r\n",
        "plt.gca().set_ylim(0, 1) #gca gives the current axes, we are setting the Y axis range\r\n",
        "display(plt.show())"
      ],
      "execution_count": 54,
      "outputs": [
        {
          "output_type": "display_data",
          "data": {
            "image/png": "[encoded data removed]",
            "text/plain": [
              "<Figure size 576x360 with 1 Axes>"
            ]
          },
          "metadata": {
            "tags": [],
            "needs_background": "light"
          }
        },
        {
          "output_type": "display_data",
          "data": {
            "text/plain": [
              "None"
            ]
          },
          "metadata": {
            "tags": []
          }
        }
      ]
    },
    {
      "cell_type": "code",
      "metadata": {
        "id": "XH5rzFkXsFFM",
        "outputId": "54825317-3fce-42e3-b165-3b57f369af0d",
        "colab": {
          "base_uri": "https://localhost:8080/"
        }
      },
      "source": [
        "model.evaluate(X_test, y_test)"
      ],
      "execution_count": 55,
      "outputs": [
        {
          "output_type": "stream",
          "text": [
            "313/313 [==============================] - 1s 2ms/step - loss: 0.3358 - accuracy: 0.8838\n"
          ],
          "name": "stdout"
        },
        {
          "output_type": "execute_result",
          "data": {
            "text/plain": [
              "[0.3358292877674103, 0.8838000297546387]"
            ]
          },
          "metadata": {
            "tags": []
          },
          "execution_count": 55
        }
      ]
    },
    {
      "cell_type": "code",
      "metadata": {
        "id": "RxNLBDsFsGqY",
        "outputId": "efff876e-625c-443f-b465-f3b79845eafa",
        "colab": {
          "base_uri": "https://localhost:8080/"
        }
      },
      "source": [
        "X_new = X_test[:3]\r\n",
        "y_proba = model.predict(X_new)\r\n",
        "y_proba.round(2)"
      ],
      "execution_count": 56,
      "outputs": [
        {
          "output_type": "execute_result",
          "data": {
            "text/plain": [
              "array([[0.  , 0.  , 0.  , 0.  , 0.  , 0.01, 0.  , 0.03, 0.  , 0.96],\n",
              "       [0.  , 0.  , 0.99, 0.  , 0.01, 0.  , 0.  , 0.  , 0.  , 0.  ],\n",
              "       [0.  , 1.  , 0.  , 0.  , 0.  , 0.  , 0.  , 0.  , 0.  , 0.  ]],\n",
              "      dtype=float32)"
            ]
          },
          "metadata": {
            "tags": []
          },
          "execution_count": 56
        }
      ]
    },
    {
      "cell_type": "code",
      "metadata": {
        "id": "SrEygLpTsH5n",
        "outputId": "945e127e-6013-48c1-bd37-d287a7b3b503",
        "colab": {
          "base_uri": "https://localhost:8080/"
        }
      },
      "source": [
        "y_pred = model.predict_classes(X_new)\r\n",
        "y_pred"
      ],
      "execution_count": 57,
      "outputs": [
        {
          "output_type": "stream",
          "text": [
            "/usr/local/lib/python3.6/dist-packages/tensorflow/python/keras/engine/sequential.py:450: UserWarning: `model.predict_classes()` is deprecated and will be removed after 2021-01-01. Please use instead:* `np.argmax(model.predict(x), axis=-1)`,   if your model does multi-class classification   (e.g. if it uses a `softmax` last-layer activation).* `(model.predict(x) > 0.5).astype(\"int32\")`,   if your model does binary classification   (e.g. if it uses a `sigmoid` last-layer activation).\n",
            "  warnings.warn('`model.predict_classes()` is deprecated and '\n"
          ],
          "name": "stderr"
        },
        {
          "output_type": "execute_result",
          "data": {
            "text/plain": [
              "array([9, 2, 1])"
            ]
          },
          "metadata": {
            "tags": []
          },
          "execution_count": 57
        }
      ]
    },
    {
      "cell_type": "code",
      "metadata": {
        "id": "cV2HhjY1sJDC",
        "outputId": "93799add-07bb-416b-d285-169390c114c3",
        "colab": {
          "base_uri": "https://localhost:8080/"
        }
      },
      "source": [
        "np.array(class_names)[y_pred]"
      ],
      "execution_count": 58,
      "outputs": [
        {
          "output_type": "execute_result",
          "data": {
            "text/plain": [
              "array(['Ankle boot', 'Pullover', 'Trouser'], dtype='<U11')"
            ]
          },
          "metadata": {
            "tags": []
          },
          "execution_count": 58
        }
      ]
    },
    {
      "cell_type": "code",
      "metadata": {
        "id": "4p4f5zEpsKPx",
        "outputId": "6a920acd-b9bd-41cc-f4ca-0e397874bf8a",
        "colab": {
          "base_uri": "https://localhost:8080/"
        }
      },
      "source": [
        "y_test[:3]"
      ],
      "execution_count": 59,
      "outputs": [
        {
          "output_type": "execute_result",
          "data": {
            "text/plain": [
              "array([9, 2, 1], dtype=uint8)"
            ]
          },
          "metadata": {
            "tags": []
          },
          "execution_count": 59
        }
      ]
    },
    {
      "cell_type": "code",
      "metadata": {
        "id": "PNRlUxgRsNSN"
      },
      "source": [
        "#Regression MLP"
      ],
      "execution_count": 60,
      "outputs": []
    },
    {
      "cell_type": "code",
      "metadata": {
        "id": "78HK_hLAsOYm",
        "outputId": "5414e392-0ecf-436e-bb79-4950e1321f55",
        "colab": {
          "base_uri": "https://localhost:8080/"
        }
      },
      "source": [
        "from sklearn.datasets import fetch_california_housing\r\n",
        "from sklearn.model_selection import train_test_split\r\n",
        "from sklearn.preprocessing import StandardScaler\r\n",
        "\r\n",
        "housing = fetch_california_housing()\r\n",
        "\r\n",
        "X_train_full, X_test, y_train_full, y_test = train_test_split(housing.data, housing.target)\r\n",
        "\r\n",
        "X_train, X_valid, y_train, y_valid = train_test_split(X_train_full, y_train_full )"
      ],
      "execution_count": 61,
      "outputs": [
        {
          "output_type": "stream",
          "text": [
            "Downloading Cal. housing from https://ndownloader.figshare.com/files/5976036 to /root/scikit_learn_data\n"
          ],
          "name": "stderr"
        }
      ]
    },
    {
      "cell_type": "code",
      "metadata": {
        "id": "U5SMc73QsRD6"
      },
      "source": [
        "scaler = StandardScaler()\r\n",
        "X_train = scaler.fit_transform(X_train)\r\n",
        "X_valid = scaler.transform(X_valid)\r\n",
        "X_test = scaler.transform(X_test)"
      ],
      "execution_count": 62,
      "outputs": []
    },
    {
      "cell_type": "code",
      "metadata": {
        "id": "2sOQpKjAsSEJ",
        "outputId": "a4f7496a-fcb9-4729-8dc7-92f54fd4ea7d",
        "colab": {
          "base_uri": "https://localhost:8080/"
        }
      },
      "source": [
        "y_valid.shape"
      ],
      "execution_count": 63,
      "outputs": [
        {
          "output_type": "execute_result",
          "data": {
            "text/plain": [
              "(3870,)"
            ]
          },
          "metadata": {
            "tags": []
          },
          "execution_count": 63
        }
      ]
    },
    {
      "cell_type": "code",
      "metadata": {
        "id": "b28lbRyHsT5j",
        "outputId": "f3b13770-3c75-49cf-950a-af39d6e8443e",
        "colab": {
          "base_uri": "https://localhost:8080/"
        }
      },
      "source": [
        "model = keras.models.Sequential([\r\n",
        "        keras.layers.Dense(30, activation=\"relu\", input_shape=X_train.shape[1:]),\r\n",
        "        keras.layers.Dense(1)\r\n",
        "])\r\n",
        "\r\n",
        "model.compile(loss=\"mean_squared_error\", optimizer=\"sgd\")\r\n",
        "history = model.fit(X_train, y_train, epochs=30, validation_data=(X_valid, y_valid))\r\n",
        "\r\n",
        "mse_test = model.evaluate(X_test, y_test)\r\n",
        "\r\n",
        "X_new = X_test[:3] #to test the model\r\n",
        "y_pred = model.predict(X_new)"
      ],
      "execution_count": 64,
      "outputs": [
        {
          "output_type": "stream",
          "text": [
            "Epoch 1/30\n",
            "363/363 [==============================] - 1s 2ms/step - loss: 1.2270 - val_loss: 0.6806\n",
            "Epoch 2/30\n",
            "363/363 [==============================] - 1s 2ms/step - loss: 0.6066 - val_loss: 0.5710\n",
            "Epoch 3/30\n",
            "363/363 [==============================] - 1s 2ms/step - loss: 0.6332 - val_loss: 0.4964\n",
            "Epoch 4/30\n",
            "363/363 [==============================] - 1s 2ms/step - loss: 0.4747 - val_loss: 0.4785\n",
            "Epoch 5/30\n",
            "363/363 [==============================] - 1s 2ms/step - loss: 0.4391 - val_loss: 0.4615\n",
            "Epoch 6/30\n",
            "363/363 [==============================] - 1s 2ms/step - loss: 0.4368 - val_loss: 0.4553\n",
            "Epoch 7/30\n",
            "363/363 [==============================] - 1s 2ms/step - loss: 0.4267 - val_loss: 0.4433\n",
            "Epoch 8/30\n",
            "363/363 [==============================] - 1s 2ms/step - loss: 0.4165 - val_loss: 0.4446\n",
            "Epoch 9/30\n",
            "363/363 [==============================] - 1s 2ms/step - loss: 0.4189 - val_loss: 0.4326\n",
            "Epoch 10/30\n",
            "363/363 [==============================] - 1s 2ms/step - loss: 0.4096 - val_loss: 0.4306\n",
            "Epoch 11/30\n",
            "363/363 [==============================] - 1s 2ms/step - loss: 0.4137 - val_loss: 0.4265\n",
            "Epoch 12/30\n",
            "363/363 [==============================] - 1s 2ms/step - loss: 0.3898 - val_loss: 0.4244\n",
            "Epoch 13/30\n",
            "363/363 [==============================] - 1s 3ms/step - loss: 0.3825 - val_loss: 0.4245\n",
            "Epoch 14/30\n",
            "363/363 [==============================] - 1s 2ms/step - loss: 0.4071 - val_loss: 0.4323\n",
            "Epoch 15/30\n",
            "363/363 [==============================] - 1s 2ms/step - loss: 0.3939 - val_loss: 0.4282\n",
            "Epoch 16/30\n",
            "363/363 [==============================] - 1s 2ms/step - loss: 0.3943 - val_loss: 0.4094\n",
            "Epoch 17/30\n",
            "363/363 [==============================] - 1s 2ms/step - loss: 0.3693 - val_loss: 0.4161\n",
            "Epoch 18/30\n",
            "363/363 [==============================] - 1s 2ms/step - loss: 0.3968 - val_loss: 0.4063\n",
            "Epoch 19/30\n",
            "363/363 [==============================] - 1s 2ms/step - loss: 0.3758 - val_loss: 0.4043\n",
            "Epoch 20/30\n",
            "363/363 [==============================] - 1s 2ms/step - loss: 0.3709 - val_loss: 0.4053\n",
            "Epoch 21/30\n",
            "363/363 [==============================] - 1s 2ms/step - loss: 0.3843 - val_loss: 0.4053\n",
            "Epoch 22/30\n",
            "363/363 [==============================] - 1s 2ms/step - loss: 0.3749 - val_loss: 0.4053\n",
            "Epoch 23/30\n",
            "363/363 [==============================] - 1s 2ms/step - loss: 0.3811 - val_loss: 0.4014\n",
            "Epoch 24/30\n",
            "363/363 [==============================] - 1s 2ms/step - loss: 0.3601 - val_loss: 0.3991\n",
            "Epoch 25/30\n",
            "363/363 [==============================] - 1s 2ms/step - loss: 0.3612 - val_loss: 0.4000\n",
            "Epoch 26/30\n",
            "363/363 [==============================] - 1s 2ms/step - loss: 0.3513 - val_loss: 0.4008\n",
            "Epoch 27/30\n",
            "363/363 [==============================] - 1s 2ms/step - loss: 0.3606 - val_loss: 0.4117\n",
            "Epoch 28/30\n",
            "363/363 [==============================] - 1s 2ms/step - loss: 0.3708 - val_loss: 0.4021\n",
            "Epoch 29/30\n",
            "363/363 [==============================] - 1s 2ms/step - loss: 0.3515 - val_loss: 0.3949\n",
            "Epoch 30/30\n",
            "363/363 [==============================] - 1s 2ms/step - loss: 0.3596 - val_loss: 0.3945\n",
            "162/162 [==============================] - 0s 1ms/step - loss: 0.3684\n"
          ],
          "name": "stdout"
        }
      ]
    },
    {
      "cell_type": "code",
      "metadata": {
        "id": "wj1NvFQ2sVoF",
        "outputId": "c04fedce-6e17-4cd3-9de0-c8104132cbe3",
        "colab": {
          "base_uri": "https://localhost:8080/"
        }
      },
      "source": [
        "y_pred"
      ],
      "execution_count": 65,
      "outputs": [
        {
          "output_type": "execute_result",
          "data": {
            "text/plain": [
              "array([[0.5265773],\n",
              "       [1.789429 ],\n",
              "       [3.6217597]], dtype=float32)"
            ]
          },
          "metadata": {
            "tags": []
          },
          "execution_count": 65
        }
      ]
    },
    {
      "cell_type": "code",
      "metadata": {
        "id": "qHica5TFtFat"
      },
      "source": [
        "#Complex Models using Funcitonal API"
      ],
      "execution_count": 66,
      "outputs": []
    },
    {
      "cell_type": "code",
      "metadata": {
        "id": "PJ6ESlzvtvK1"
      },
      "source": [
        "input_ = keras.layers.Input(shape=X_train.shape[1:])\r\n",
        "hidden1 = keras.layers.Dense(30, activation=\"relu\")(input_)\r\n",
        "hidden2 = keras.layers.Dense(30, activation=\"relu\")(hidden1)\r\n",
        "concat = keras.layers.concatenate([input_, hidden2])\r\n",
        "output = keras.layers.Dense(1)(concat)\r\n",
        "\r\n",
        "model = keras.Model(inputs=[input_], outputs=[output])"
      ],
      "execution_count": 70,
      "outputs": []
    },
    {
      "cell_type": "code",
      "metadata": {
        "id": "l8SsVorGvJhh",
        "outputId": "860ad5b0-b3a8-40b0-de24-97b7d332f40e",
        "colab": {
          "base_uri": "https://localhost:8080/"
        }
      },
      "source": [
        "model.summary()"
      ],
      "execution_count": 72,
      "outputs": [
        {
          "output_type": "stream",
          "text": [
            "Model: \"model_1\"\n",
            "__________________________________________________________________________________________________\n",
            "Layer (type)                    Output Shape         Param #     Connected to                     \n",
            "==================================================================================================\n",
            "input_4 (InputLayer)            [(None, 8)]          0                                            \n",
            "__________________________________________________________________________________________________\n",
            "dense_11 (Dense)                (None, 30)           270         input_4[0][0]                    \n",
            "__________________________________________________________________________________________________\n",
            "dense_12 (Dense)                (None, 30)           930         dense_11[0][0]                   \n",
            "__________________________________________________________________________________________________\n",
            "concatenate_1 (Concatenate)     (None, 38)           0           input_4[0][0]                    \n",
            "                                                                 dense_12[0][0]                   \n",
            "__________________________________________________________________________________________________\n",
            "dense_13 (Dense)                (None, 1)            39          concatenate_1[0][0]              \n",
            "==================================================================================================\n",
            "Total params: 1,239\n",
            "Trainable params: 1,239\n",
            "Non-trainable params: 0\n",
            "__________________________________________________________________________________________________\n"
          ],
          "name": "stdout"
        }
      ]
    },
    {
      "cell_type": "code",
      "metadata": {
        "id": "VsWg7ydyvO36",
        "outputId": "ec4a73e1-1a82-45e6-e402-a0002e7f7146",
        "colab": {
          "base_uri": "https://localhost:8080/"
        }
      },
      "source": [
        "model.compile(loss=\"mean_squared_error\", optimizer=\"sgd\")\r\n",
        "history = model.fit(X_train, y_train, epochs=20, validation_data=(X_valid, y_valid))\r\n",
        "\r\n",
        "mse_test = model.evaluate(X_test, y_test)\r\n",
        "y_pred = model.predict(X_new)"
      ],
      "execution_count": 73,
      "outputs": [
        {
          "output_type": "stream",
          "text": [
            "Epoch 1/20\n",
            "363/363 [==============================] - 1s 3ms/step - loss: 1.5528 - val_loss: 1.8897\n",
            "Epoch 2/20\n",
            "363/363 [==============================] - 1s 2ms/step - loss: 1.5564 - val_loss: 1.2710\n",
            "Epoch 3/20\n",
            "363/363 [==============================] - 1s 2ms/step - loss: 3.4573 - val_loss: 33.7187\n",
            "Epoch 4/20\n",
            "363/363 [==============================] - 1s 2ms/step - loss: 43.9395 - val_loss: 114.8945\n",
            "Epoch 5/20\n",
            "363/363 [==============================] - 1s 2ms/step - loss: nan - val_loss: nan\n",
            "Epoch 6/20\n",
            "363/363 [==============================] - 1s 2ms/step - loss: nan - val_loss: nan\n",
            "Epoch 7/20\n",
            "363/363 [==============================] - 1s 2ms/step - loss: nan - val_loss: nan\n",
            "Epoch 8/20\n",
            "363/363 [==============================] - 1s 2ms/step - loss: nan - val_loss: nan\n",
            "Epoch 9/20\n",
            "363/363 [==============================] - 1s 2ms/step - loss: nan - val_loss: nan\n",
            "Epoch 10/20\n",
            "363/363 [==============================] - 1s 3ms/step - loss: nan - val_loss: nan\n",
            "Epoch 11/20\n",
            "363/363 [==============================] - 1s 2ms/step - loss: nan - val_loss: nan\n",
            "Epoch 12/20\n",
            "363/363 [==============================] - 1s 2ms/step - loss: nan - val_loss: nan\n",
            "Epoch 13/20\n",
            "363/363 [==============================] - 1s 2ms/step - loss: nan - val_loss: nan\n",
            "Epoch 14/20\n",
            "363/363 [==============================] - 1s 2ms/step - loss: nan - val_loss: nan\n",
            "Epoch 15/20\n",
            "363/363 [==============================] - 1s 2ms/step - loss: nan - val_loss: nan\n",
            "Epoch 16/20\n",
            "363/363 [==============================] - 1s 2ms/step - loss: nan - val_loss: nan\n",
            "Epoch 17/20\n",
            "363/363 [==============================] - 1s 3ms/step - loss: nan - val_loss: nan\n",
            "Epoch 18/20\n",
            "363/363 [==============================] - 1s 3ms/step - loss: nan - val_loss: nan\n",
            "Epoch 19/20\n",
            "363/363 [==============================] - 1s 3ms/step - loss: nan - val_loss: nan\n",
            "Epoch 20/20\n",
            "363/363 [==============================] - 1s 2ms/step - loss: nan - val_loss: nan\n",
            "162/162 [==============================] - 0s 1ms/step - loss: nan\n"
          ],
          "name": "stdout"
        }
      ]
    },
    {
      "cell_type": "code",
      "metadata": {
        "id": "CyBKDjd8vy1Y"
      },
      "source": [
        "#To pass multiple Inputs to different flow in the model"
      ],
      "execution_count": 74,
      "outputs": []
    },
    {
      "cell_type": "code",
      "metadata": {
        "id": "e9-AeJz-za9M"
      },
      "source": [
        "input_A = keras.layers.Input(shape=[5], name=\"wide_input\")\r\n",
        "input_B = keras.layers.Input(shape=[6], name=\"deep_input\")\r\n",
        "hidden1 = keras.layers.Dense(30, activation=\"relu\")(input_B)\r\n",
        "hidden2 = keras.layers.Dense(30, activation=\"relu\")(hidden1)\r\n",
        "concat = keras.layers.concatenate([input_A, hidden2])\r\n",
        "output = keras.layers.Dense(1, name=\"output\")(concat)\r\n",
        "\r\n",
        "model = keras.Model(inputs=[input_A, input_B], outputs=[output])"
      ],
      "execution_count": 79,
      "outputs": []
    },
    {
      "cell_type": "code",
      "metadata": {
        "id": "II1zAN--1qOB",
        "outputId": "9363071d-5f39-42ce-8d52-169cf6748b8e",
        "colab": {
          "base_uri": "https://localhost:8080/"
        }
      },
      "source": [
        "#Since there are two inputs to the Model, we are passing two inputs below\r\n",
        "\r\n",
        "model.compile(loss=\"mse\", optimizer=keras.optimizers.SGD(lr=1e-3))\r\n",
        "\r\n",
        "X_train_A, X_train_B = X_train[:, :5], X_train[:, 2:]\r\n",
        "X_valid_A, X_valid_B = X_valid[:, :5], X_valid[:, 2:]\r\n",
        "X_test_A, X_test_B = X_test[:, :5], X_test[:, 2:]\r\n",
        "X_new_A, X_new_B = X_test_A[:3], X_test_B[:3]\r\n",
        "\r\n",
        "history = model.fit((X_train_A, X_train_B), y_train, epochs=20,\r\n",
        "                    validation_data=((X_valid_A, X_valid_B), y_valid))\r\n",
        "mse_test = model.evaluate((X_test_A, X_test_B), y_test)\r\n",
        "y_pred = model.predict((X_new_A, X_new_B))"
      ],
      "execution_count": 80,
      "outputs": [
        {
          "output_type": "stream",
          "text": [
            "Epoch 1/20\n",
            "363/363 [==============================] - 1s 3ms/step - loss: 3.0690 - val_loss: 0.8608\n",
            "Epoch 2/20\n",
            "363/363 [==============================] - 1s 2ms/step - loss: 0.7970 - val_loss: 0.6731\n",
            "Epoch 3/20\n",
            "363/363 [==============================] - 1s 2ms/step - loss: 0.6540 - val_loss: 0.6210\n",
            "Epoch 4/20\n",
            "363/363 [==============================] - 1s 2ms/step - loss: 0.6001 - val_loss: 0.5885\n",
            "Epoch 5/20\n",
            "363/363 [==============================] - 1s 2ms/step - loss: 0.5586 - val_loss: 0.5646\n",
            "Epoch 6/20\n",
            "363/363 [==============================] - 1s 2ms/step - loss: 0.5528 - val_loss: 0.5501\n",
            "Epoch 7/20\n",
            "363/363 [==============================] - 1s 2ms/step - loss: 0.5273 - val_loss: 0.5370\n",
            "Epoch 8/20\n",
            "363/363 [==============================] - 1s 2ms/step - loss: 0.5131 - val_loss: 0.5279\n",
            "Epoch 9/20\n",
            "363/363 [==============================] - 1s 2ms/step - loss: 0.5196 - val_loss: 0.5205\n",
            "Epoch 10/20\n",
            "363/363 [==============================] - 1s 2ms/step - loss: 0.5042 - val_loss: 0.5147\n",
            "Epoch 11/20\n",
            "363/363 [==============================] - 1s 2ms/step - loss: 0.5099 - val_loss: 0.5094\n",
            "Epoch 12/20\n",
            "363/363 [==============================] - 1s 2ms/step - loss: 0.4801 - val_loss: 0.5049\n",
            "Epoch 13/20\n",
            "363/363 [==============================] - 1s 2ms/step - loss: 0.4739 - val_loss: 0.5008\n",
            "Epoch 14/20\n",
            "363/363 [==============================] - 1s 2ms/step - loss: 0.5045 - val_loss: 0.4970\n",
            "Epoch 15/20\n",
            "363/363 [==============================] - 1s 2ms/step - loss: 0.4860 - val_loss: 0.4946\n",
            "Epoch 16/20\n",
            "363/363 [==============================] - 1s 2ms/step - loss: 0.4853 - val_loss: 0.4912\n",
            "Epoch 17/20\n",
            "363/363 [==============================] - 1s 2ms/step - loss: 0.4600 - val_loss: 0.4895\n",
            "Epoch 18/20\n",
            "363/363 [==============================] - 1s 2ms/step - loss: 0.4938 - val_loss: 0.4856\n",
            "Epoch 19/20\n",
            "363/363 [==============================] - 1s 2ms/step - loss: 0.4669 - val_loss: 0.4842\n",
            "Epoch 20/20\n",
            "363/363 [==============================] - 1s 2ms/step - loss: 0.4633 - val_loss: 0.4823\n",
            "162/162 [==============================] - 0s 1ms/step - loss: 0.4756\n"
          ],
          "name": "stdout"
        }
      ]
    },
    {
      "cell_type": "code",
      "metadata": {
        "id": "-7PuiqAz2nVu",
        "outputId": "80472678-7528-45fc-b7e5-8434a0ac4493",
        "colab": {
          "base_uri": "https://localhost:8080/"
        }
      },
      "source": [
        "y_pred"
      ],
      "execution_count": 81,
      "outputs": [
        {
          "output_type": "execute_result",
          "data": {
            "text/plain": [
              "array([[0.575694 ],\n",
              "       [1.8347062],\n",
              "       [3.0409474]], dtype=float32)"
            ]
          },
          "metadata": {
            "tags": []
          },
          "execution_count": 81
        }
      ]
    },
    {
      "cell_type": "code",
      "metadata": {
        "id": "CVJqavQU4JeC"
      },
      "source": [
        "input_A = keras.layers.Input(shape=[5], name=\"wide_input\")\r\n",
        "input_B = keras.layers.Input(shape=[6], name=\"deep_input\")\r\n",
        "hidden1 = keras.layers.Dense(30, activation=\"relu\")(input_B)\r\n",
        "hidden2 = keras.layers.Dense(30, activation=\"relu\")(hidden1)\r\n",
        "concat = keras.layers.concatenate([input_A, hidden2])\r\n",
        "output = keras.layers.Dense(1, name=\"output\")(concat)\r\n",
        "aux_output = keras.layers.Dense(1, name=\"aux_output\")(hidden2)\r\n",
        "\r\n",
        "model = keras.Model(inputs=[input_A, input_B], outputs=[output, aux_output])"
      ],
      "execution_count": 82,
      "outputs": []
    },
    {
      "cell_type": "code",
      "metadata": {
        "id": "sA1eOTP_4eZt"
      },
      "source": [
        "model.compile(loss=[\"mse\", \"mse\"], loss_weights=[0.9, 0.1]  ,optimizer=keras.optimizers.SGD(lr=1e-3))"
      ],
      "execution_count": 83,
      "outputs": []
    },
    {
      "cell_type": "code",
      "metadata": {
        "id": "xFhUDEmG4v0O",
        "outputId": "a6e3c81c-07c1-4559-f681-86ffff2d8b5b",
        "colab": {
          "base_uri": "https://localhost:8080/"
        }
      },
      "source": [
        "history = model.fit([X_train_A, X_train_B], [y_train, y_train], epochs=20,\r\n",
        "                    validation_data=([X_valid_A, X_valid_B], [y_valid, y_valid]))"
      ],
      "execution_count": 84,
      "outputs": [
        {
          "output_type": "stream",
          "text": [
            "Epoch 1/20\n",
            "363/363 [==============================] - 2s 4ms/step - loss: 3.5753 - output_loss: 3.4396 - aux_output_loss: 4.7962 - val_loss: 1.1994 - val_output_loss: 0.9384 - val_aux_output_loss: 3.5490\n",
            "Epoch 2/20\n",
            "363/363 [==============================] - 1s 4ms/step - loss: 1.1400 - output_loss: 0.9023 - aux_output_loss: 3.2787 - val_loss: 0.8843 - val_output_loss: 0.7048 - val_aux_output_loss: 2.5003\n",
            "Epoch 3/20\n",
            "363/363 [==============================] - 1s 3ms/step - loss: 0.8534 - output_loss: 0.6872 - aux_output_loss: 2.3490 - val_loss: 0.7790 - val_output_loss: 0.6466 - val_aux_output_loss: 1.9704\n",
            "Epoch 4/20\n",
            "363/363 [==============================] - 1s 3ms/step - loss: 0.7444 - output_loss: 0.6199 - aux_output_loss: 1.8651 - val_loss: 0.7255 - val_output_loss: 0.6166 - val_aux_output_loss: 1.7054\n",
            "Epoch 5/20\n",
            "363/363 [==============================] - 1s 3ms/step - loss: 0.6907 - output_loss: 0.5864 - aux_output_loss: 1.6301 - val_loss: 0.6926 - val_output_loss: 0.5953 - val_aux_output_loss: 1.5684\n",
            "Epoch 6/20\n",
            "363/363 [==============================] - 1s 3ms/step - loss: 0.6707 - output_loss: 0.5763 - aux_output_loss: 1.5199 - val_loss: 0.6713 - val_output_loss: 0.5804 - val_aux_output_loss: 1.4900\n",
            "Epoch 7/20\n",
            "363/363 [==============================] - 1s 3ms/step - loss: 0.6407 - output_loss: 0.5517 - aux_output_loss: 1.4423 - val_loss: 0.6523 - val_output_loss: 0.5656 - val_aux_output_loss: 1.4332\n",
            "Epoch 8/20\n",
            "363/363 [==============================] - 1s 3ms/step - loss: 0.6233 - output_loss: 0.5383 - aux_output_loss: 1.3887 - val_loss: 0.6384 - val_output_loss: 0.5553 - val_aux_output_loss: 1.3871\n",
            "Epoch 9/20\n",
            "363/363 [==============================] - 1s 3ms/step - loss: 0.6271 - output_loss: 0.5412 - aux_output_loss: 1.4003 - val_loss: 0.6264 - val_output_loss: 0.5462 - val_aux_output_loss: 1.3488\n",
            "Epoch 10/20\n",
            "363/363 [==============================] - 1s 3ms/step - loss: 0.6038 - output_loss: 0.5260 - aux_output_loss: 1.3039 - val_loss: 0.6162 - val_output_loss: 0.5388 - val_aux_output_loss: 1.3130\n",
            "Epoch 11/20\n",
            "363/363 [==============================] - 1s 3ms/step - loss: 0.6026 - output_loss: 0.5270 - aux_output_loss: 1.2833 - val_loss: 0.6068 - val_output_loss: 0.5322 - val_aux_output_loss: 1.2786\n",
            "Epoch 12/20\n",
            "363/363 [==============================] - 1s 3ms/step - loss: 0.5660 - output_loss: 0.4949 - aux_output_loss: 1.2067 - val_loss: 0.5970 - val_output_loss: 0.5249 - val_aux_output_loss: 1.2452\n",
            "Epoch 13/20\n",
            "363/363 [==============================] - 1s 3ms/step - loss: 0.5646 - output_loss: 0.4933 - aux_output_loss: 1.2059 - val_loss: 0.5901 - val_output_loss: 0.5205 - val_aux_output_loss: 1.2171\n",
            "Epoch 14/20\n",
            "363/363 [==============================] - 1s 3ms/step - loss: 0.5902 - output_loss: 0.5234 - aux_output_loss: 1.1915 - val_loss: 0.5827 - val_output_loss: 0.5155 - val_aux_output_loss: 1.1874\n",
            "Epoch 15/20\n",
            "363/363 [==============================] - 1s 3ms/step - loss: 0.5670 - output_loss: 0.5009 - aux_output_loss: 1.1618 - val_loss: 0.5774 - val_output_loss: 0.5128 - val_aux_output_loss: 1.1590\n",
            "Epoch 16/20\n",
            "363/363 [==============================] - 1s 3ms/step - loss: 0.5642 - output_loss: 0.5027 - aux_output_loss: 1.1178 - val_loss: 0.5711 - val_output_loss: 0.5085 - val_aux_output_loss: 1.1340\n",
            "Epoch 17/20\n",
            "363/363 [==============================] - 1s 3ms/step - loss: 0.5367 - output_loss: 0.4755 - aux_output_loss: 1.0876 - val_loss: 0.5665 - val_output_loss: 0.5063 - val_aux_output_loss: 1.1086\n",
            "Epoch 18/20\n",
            "363/363 [==============================] - 1s 3ms/step - loss: 0.5693 - output_loss: 0.5097 - aux_output_loss: 1.1052 - val_loss: 0.5601 - val_output_loss: 0.5020 - val_aux_output_loss: 1.0837\n",
            "Epoch 19/20\n",
            "363/363 [==============================] - 1s 3ms/step - loss: 0.5408 - output_loss: 0.4842 - aux_output_loss: 1.0510 - val_loss: 0.5560 - val_output_loss: 0.4998 - val_aux_output_loss: 1.0625\n",
            "Epoch 20/20\n",
            "363/363 [==============================] - 1s 3ms/step - loss: 0.5355 - output_loss: 0.4793 - aux_output_loss: 1.0411 - val_loss: 0.5526 - val_output_loss: 0.4983 - val_aux_output_loss: 1.0415\n"
          ],
          "name": "stdout"
        }
      ]
    },
    {
      "cell_type": "code",
      "metadata": {
        "id": "7FOA4Br75JyE",
        "outputId": "240feeee-0787-445b-a839-52b5cae7ccbd",
        "colab": {
          "base_uri": "https://localhost:8080/"
        }
      },
      "source": [
        "total_loss, main_loss, aux_loss = model.evaluate([X_test_A, X_test_B], [y_test, y_test])\r\n",
        "\r\n",
        "y_pred_main, y_pred_aux = model.predict([X_new_A, X_new_B])"
      ],
      "execution_count": 86,
      "outputs": [
        {
          "output_type": "stream",
          "text": [
            "162/162 [==============================] - 0s 2ms/step - loss: 0.5491 - output_loss: 0.4973 - aux_output_loss: 1.0149\n",
            "WARNING:tensorflow:5 out of the last 6 calls to <function Model.make_predict_function.<locals>.predict_function at 0x7f010e16aae8> triggered tf.function retracing. Tracing is expensive and the excessive number of tracings could be due to (1) creating @tf.function repeatedly in a loop, (2) passing tensors with different shapes, (3) passing Python objects instead of tensors. For (1), please define your @tf.function outside of the loop. For (2), @tf.function has experimental_relax_shapes=True option that relaxes argument shapes that can avoid unnecessary retracing. For (3), please refer to https://www.tensorflow.org/guide/function#controlling_retracing and https://www.tensorflow.org/api_docs/python/tf/function for  more details.\n"
          ],
          "name": "stdout"
        }
      ]
    },
    {
      "cell_type": "code",
      "metadata": {
        "id": "aKCMtwAk5ycW",
        "outputId": "9bcb1134-1da3-453e-d167-26e324752a5e",
        "colab": {
          "base_uri": "https://localhost:8080/"
        }
      },
      "source": [
        "y_pred_main\r\n",
        "\r\n",
        "y_pred_aux"
      ],
      "execution_count": 88,
      "outputs": [
        {
          "output_type": "execute_result",
          "data": {
            "text/plain": [
              "array([[1.4318697],\n",
              "       [1.7698102],\n",
              "       [2.211674 ]], dtype=float32)"
            ]
          },
          "metadata": {
            "tags": []
          },
          "execution_count": 88
        }
      ]
    },
    {
      "cell_type": "code",
      "metadata": {
        "id": "wgEetpO27pxx"
      },
      "source": [
        "#Saving and Restoring"
      ],
      "execution_count": 89,
      "outputs": []
    },
    {
      "cell_type": "code",
      "metadata": {
        "id": "_dTSV65u7sdM"
      },
      "source": [
        "model = keras.models.Sequential([\r\n",
        "            keras.layers.Dense(30, activation=\"relu\", input_shape=[8]),\r\n",
        "            keras.layers.Dense(30, activation=\"relu\"),\r\n",
        "            keras.layers.Dense(1)\r\n",
        "])"
      ],
      "execution_count": 90,
      "outputs": []
    },
    {
      "cell_type": "code",
      "metadata": {
        "id": "Jzcmi9yN8AIe",
        "outputId": "9e995000-a054-4ede-d705-9d9a1b363332",
        "colab": {
          "base_uri": "https://localhost:8080/"
        }
      },
      "source": [
        "model.compile(loss=\"mse\", optimizer=keras.optimizers.SGD(learning_rate=1e-3))\r\n",
        "\r\n",
        "history = model.fit(X_train, y_train, epochs=10, validation_data=(X_valid, y_valid))\r\n",
        "mse_test = model.evaluate(X_test, y_test)"
      ],
      "execution_count": 92,
      "outputs": [
        {
          "output_type": "stream",
          "text": [
            "Epoch 1/10\n",
            "363/363 [==============================] - 1s 2ms/step - loss: 2.9764 - val_loss: 1.0726\n",
            "Epoch 2/10\n",
            "363/363 [==============================] - 1s 2ms/step - loss: 1.0507 - val_loss: 0.8088\n",
            "Epoch 3/10\n",
            "363/363 [==============================] - 1s 2ms/step - loss: 0.7914 - val_loss: 0.7308\n",
            "Epoch 4/10\n",
            "363/363 [==============================] - 1s 2ms/step - loss: 0.6894 - val_loss: 0.6826\n",
            "Epoch 5/10\n",
            "363/363 [==============================] - 1s 2ms/step - loss: 0.6550 - val_loss: 0.6468\n",
            "Epoch 6/10\n",
            "363/363 [==============================] - 1s 2ms/step - loss: 0.6335 - val_loss: 0.6205\n",
            "Epoch 7/10\n",
            "363/363 [==============================] - 1s 2ms/step - loss: 0.6069 - val_loss: 0.6015\n",
            "Epoch 8/10\n",
            "363/363 [==============================] - 1s 2ms/step - loss: 0.5795 - val_loss: 0.5850\n",
            "Epoch 9/10\n",
            "363/363 [==============================] - 1s 2ms/step - loss: 0.5743 - val_loss: 0.5722\n",
            "Epoch 10/10\n",
            "363/363 [==============================] - 1s 2ms/step - loss: 0.5673 - val_loss: 0.5612\n",
            "162/162 [==============================] - 0s 1ms/step - loss: 0.5569\n"
          ],
          "name": "stdout"
        }
      ]
    },
    {
      "cell_type": "code",
      "metadata": {
        "id": "BXX_uxid8WV_"
      },
      "source": [
        "model.save(\"my_keras_model.h5\")"
      ],
      "execution_count": 93,
      "outputs": []
    },
    {
      "cell_type": "code",
      "metadata": {
        "id": "z-qFZv528pTA"
      },
      "source": [
        "model = keras.models.load_model(\"my_keras_model.h5\")"
      ],
      "execution_count": 94,
      "outputs": []
    },
    {
      "cell_type": "code",
      "metadata": {
        "id": "aIOkOXaB8twn",
        "outputId": "2898e53d-ec3e-4abb-94fe-e948c8498768",
        "colab": {
          "base_uri": "https://localhost:8080/"
        }
      },
      "source": [
        "model.predict(X_new)"
      ],
      "execution_count": 95,
      "outputs": [
        {
          "output_type": "stream",
          "text": [
            "WARNING:tensorflow:6 out of the last 7 calls to <function Model.make_predict_function.<locals>.predict_function at 0x7f00a20daa60> triggered tf.function retracing. Tracing is expensive and the excessive number of tracings could be due to (1) creating @tf.function repeatedly in a loop, (2) passing tensors with different shapes, (3) passing Python objects instead of tensors. For (1), please define your @tf.function outside of the loop. For (2), @tf.function has experimental_relax_shapes=True option that relaxes argument shapes that can avoid unnecessary retracing. For (3), please refer to https://www.tensorflow.org/guide/function#controlling_retracing and https://www.tensorflow.org/api_docs/python/tf/function for  more details.\n"
          ],
          "name": "stdout"
        },
        {
          "output_type": "execute_result",
          "data": {
            "text/plain": [
              "array([[0.78717834],\n",
              "       [1.3195046 ],\n",
              "       [2.6677089 ]], dtype=float32)"
            ]
          },
          "metadata": {
            "tags": []
          },
          "execution_count": 95
        }
      ]
    },
    {
      "cell_type": "code",
      "metadata": {
        "id": "ykLb3cxM8wDP"
      },
      "source": [
        "model.save_weights(\"my_keras_weights.ckpt\")"
      ],
      "execution_count": 98,
      "outputs": []
    },
    {
      "cell_type": "code",
      "metadata": {
        "id": "4LHP1Ak1814P",
        "outputId": "fda06daa-2054-41d6-8b34-bf8ac6a33817",
        "colab": {
          "base_uri": "https://localhost:8080/"
        }
      },
      "source": [
        "model.load_weights(\"my_keras_weights.ckpt\")"
      ],
      "execution_count": 99,
      "outputs": [
        {
          "output_type": "execute_result",
          "data": {
            "text/plain": [
              "<tensorflow.python.training.tracking.util.CheckpointLoadStatus at 0x7f00a20481d0>"
            ]
          },
          "metadata": {
            "tags": []
          },
          "execution_count": 99
        }
      ]
    },
    {
      "cell_type": "code",
      "metadata": {
        "id": "7cL-IRDe848U"
      },
      "source": [
        "#Callback during Training"
      ],
      "execution_count": 100,
      "outputs": []
    },
    {
      "cell_type": "code",
      "metadata": {
        "id": "osqmP4aA95RJ"
      },
      "source": [
        "keras.backend.clear_session()"
      ],
      "execution_count": 101,
      "outputs": []
    },
    {
      "cell_type": "code",
      "metadata": {
        "id": "Pp5BQtV097bS"
      },
      "source": [
        "model = keras.models.Sequential([\r\n",
        "    keras.layers.Dense(30, activation=\"relu\", input_shape=[8]),\r\n",
        "    keras.layers.Dense(30, activation=\"relu\"),\r\n",
        "    keras.layers.Dense(1)\r\n",
        "])    "
      ],
      "execution_count": 102,
      "outputs": []
    },
    {
      "cell_type": "code",
      "metadata": {
        "id": "uaaFG6VM9-dL",
        "outputId": "6a977519-d9d4-40f9-a01f-36b1c9d1ac1b",
        "colab": {
          "base_uri": "https://localhost:8080/"
        }
      },
      "source": [
        "model.compile(loss=\"mse\", optimizer=keras.optimizers.SGD(lr=1e-3))\r\n",
        "checkpoint_cb = keras.callbacks.ModelCheckpoint(\"my_keras_model.h5\", save_best_only=True)\r\n",
        "history = model.fit(X_train, y_train, epochs=10,\r\n",
        "                    validation_data=(X_valid, y_valid),\r\n",
        "                    callbacks=[checkpoint_cb])\r\n",
        "\r\n",
        "model = keras.models.load_model(\"my_keras_model.h5\") # rollback to best model\r\n",
        "mse_test = model.evaluate(X_test, y_test)"
      ],
      "execution_count": 104,
      "outputs": [
        {
          "output_type": "stream",
          "text": [
            "Epoch 1/10\n",
            "363/363 [==============================] - 1s 2ms/step - loss: 2.6452 - val_loss: 0.7914\n",
            "Epoch 2/10\n",
            "363/363 [==============================] - 1s 2ms/step - loss: 0.7975 - val_loss: 0.7057\n",
            "Epoch 3/10\n",
            "363/363 [==============================] - 1s 2ms/step - loss: 0.6829 - val_loss: 0.6629\n",
            "Epoch 4/10\n",
            "363/363 [==============================] - 1s 3ms/step - loss: 0.6320 - val_loss: 0.6281\n",
            "Epoch 5/10\n",
            "363/363 [==============================] - 1s 2ms/step - loss: 0.6048 - val_loss: 0.5986\n",
            "Epoch 6/10\n",
            "363/363 [==============================] - 1s 2ms/step - loss: 0.5886 - val_loss: 0.5750\n",
            "Epoch 7/10\n",
            "363/363 [==============================] - 1s 3ms/step - loss: 0.5605 - val_loss: 0.5550\n",
            "Epoch 8/10\n",
            "363/363 [==============================] - 1s 2ms/step - loss: 0.5309 - val_loss: 0.5387\n",
            "Epoch 9/10\n",
            "363/363 [==============================] - 1s 2ms/step - loss: 0.5287 - val_loss: 0.5251\n",
            "Epoch 10/10\n",
            "363/363 [==============================] - 1s 2ms/step - loss: 0.5151 - val_loss: 0.5138\n",
            "162/162 [==============================] - 0s 1ms/step - loss: 0.5058\n"
          ],
          "name": "stdout"
        }
      ]
    },
    {
      "cell_type": "code",
      "metadata": {
        "id": "_pbXLbci-uJj",
        "outputId": "5dae0a32-adaa-4ac2-be69-7238afba0833",
        "colab": {
          "base_uri": "https://localhost:8080/"
        }
      },
      "source": [
        "model.compile(loss=\"mse\", optimizer=keras.optimizers.SGD(lr=1e-3))\r\n",
        "early_stopping_cb = keras.callbacks.EarlyStopping(patience=10,\r\n",
        "                                                  restore_best_weights=True)\r\n",
        "history = model.fit(X_train, y_train, epochs=100,\r\n",
        "                    validation_data=(X_valid, y_valid),\r\n",
        "                    callbacks=[checkpoint_cb, early_stopping_cb])\r\n",
        "mse_test = model.evaluate(X_test, y_test)"
      ],
      "execution_count": 105,
      "outputs": [
        {
          "output_type": "stream",
          "text": [
            "Epoch 1/100\n",
            "363/363 [==============================] - 1s 2ms/step - loss: 0.5081 - val_loss: 0.5057\n",
            "Epoch 2/100\n",
            "363/363 [==============================] - 1s 2ms/step - loss: 0.5079 - val_loss: 0.4962\n",
            "Epoch 3/100\n",
            "363/363 [==============================] - 1s 2ms/step - loss: 0.4755 - val_loss: 0.4894\n",
            "Epoch 4/100\n",
            "363/363 [==============================] - 1s 2ms/step - loss: 0.4692 - val_loss: 0.4857\n",
            "Epoch 5/100\n",
            "363/363 [==============================] - 1s 2ms/step - loss: 0.4585 - val_loss: 0.4785\n",
            "Epoch 6/100\n",
            "363/363 [==============================] - 1s 2ms/step - loss: 0.4657 - val_loss: 0.4754\n",
            "Epoch 7/100\n",
            "363/363 [==============================] - 1s 2ms/step - loss: 0.4571 - val_loss: 0.4705\n",
            "Epoch 8/100\n",
            "363/363 [==============================] - 1s 2ms/step - loss: 0.4494 - val_loss: 0.4671\n",
            "Epoch 9/100\n",
            "363/363 [==============================] - 1s 2ms/step - loss: 0.4571 - val_loss: 0.4639\n",
            "Epoch 10/100\n",
            "363/363 [==============================] - 1s 2ms/step - loss: 0.4494 - val_loss: 0.4615\n",
            "Epoch 11/100\n",
            "363/363 [==============================] - 1s 2ms/step - loss: 0.4507 - val_loss: 0.4594\n",
            "Epoch 12/100\n",
            "363/363 [==============================] - 1s 2ms/step - loss: 0.4310 - val_loss: 0.4561\n",
            "Epoch 13/100\n",
            "363/363 [==============================] - 1s 2ms/step - loss: 0.4272 - val_loss: 0.4535\n",
            "Epoch 14/100\n",
            "363/363 [==============================] - 1s 2ms/step - loss: 0.4572 - val_loss: 0.4518\n",
            "Epoch 15/100\n",
            "363/363 [==============================] - 1s 2ms/step - loss: 0.4399 - val_loss: 0.4514\n",
            "Epoch 16/100\n",
            "363/363 [==============================] - 1s 2ms/step - loss: 0.4425 - val_loss: 0.4481\n",
            "Epoch 17/100\n",
            "363/363 [==============================] - 1s 2ms/step - loss: 0.4172 - val_loss: 0.4481\n",
            "Epoch 18/100\n",
            "363/363 [==============================] - 1s 2ms/step - loss: 0.4525 - val_loss: 0.4448\n",
            "Epoch 19/100\n",
            "363/363 [==============================] - 1s 2ms/step - loss: 0.4284 - val_loss: 0.4441\n",
            "Epoch 20/100\n",
            "363/363 [==============================] - 1s 2ms/step - loss: 0.4213 - val_loss: 0.4438\n",
            "Epoch 21/100\n",
            "363/363 [==============================] - 1s 2ms/step - loss: 0.4336 - val_loss: 0.4408\n",
            "Epoch 22/100\n",
            "363/363 [==============================] - 1s 2ms/step - loss: 0.4323 - val_loss: 0.4391\n",
            "Epoch 23/100\n",
            "363/363 [==============================] - 1s 2ms/step - loss: 0.4367 - val_loss: 0.4376\n",
            "Epoch 24/100\n",
            "363/363 [==============================] - 1s 3ms/step - loss: 0.4089 - val_loss: 0.4356\n",
            "Epoch 25/100\n",
            "363/363 [==============================] - 1s 2ms/step - loss: 0.4140 - val_loss: 0.4359\n",
            "Epoch 26/100\n",
            "363/363 [==============================] - 1s 2ms/step - loss: 0.4043 - val_loss: 0.4363\n",
            "Epoch 27/100\n",
            "363/363 [==============================] - 1s 2ms/step - loss: 0.4162 - val_loss: 0.4332\n",
            "Epoch 28/100\n",
            "363/363 [==============================] - 1s 2ms/step - loss: 0.4188 - val_loss: 0.4302\n",
            "Epoch 29/100\n",
            "363/363 [==============================] - 1s 2ms/step - loss: 0.4035 - val_loss: 0.4310\n",
            "Epoch 30/100\n",
            "363/363 [==============================] - 1s 2ms/step - loss: 0.4121 - val_loss: 0.4287\n",
            "Epoch 31/100\n",
            "363/363 [==============================] - 1s 2ms/step - loss: 0.4216 - val_loss: 0.4301\n",
            "Epoch 32/100\n",
            "363/363 [==============================] - 1s 3ms/step - loss: 0.4236 - val_loss: 0.4292\n",
            "Epoch 33/100\n",
            "363/363 [==============================] - 1s 2ms/step - loss: 0.4046 - val_loss: 0.4282\n",
            "Epoch 34/100\n",
            "363/363 [==============================] - 1s 3ms/step - loss: 0.4281 - val_loss: 0.4268\n",
            "Epoch 35/100\n",
            "363/363 [==============================] - 1s 2ms/step - loss: 0.3885 - val_loss: 0.4244\n",
            "Epoch 36/100\n",
            "363/363 [==============================] - 1s 2ms/step - loss: 0.4058 - val_loss: 0.4233\n",
            "Epoch 37/100\n",
            "363/363 [==============================] - 1s 2ms/step - loss: 0.3955 - val_loss: 0.4239\n",
            "Epoch 38/100\n",
            "363/363 [==============================] - 1s 2ms/step - loss: 0.3922 - val_loss: 0.4207\n",
            "Epoch 39/100\n",
            "363/363 [==============================] - 1s 2ms/step - loss: 0.4186 - val_loss: 0.4221\n",
            "Epoch 40/100\n",
            "363/363 [==============================] - 1s 2ms/step - loss: 0.3950 - val_loss: 0.4205\n",
            "Epoch 41/100\n",
            "363/363 [==============================] - 1s 2ms/step - loss: 0.4050 - val_loss: 0.4186\n",
            "Epoch 42/100\n",
            "363/363 [==============================] - 1s 2ms/step - loss: 0.3859 - val_loss: 0.4188\n",
            "Epoch 43/100\n",
            "363/363 [==============================] - 1s 2ms/step - loss: 0.3944 - val_loss: 0.4161\n",
            "Epoch 44/100\n",
            "363/363 [==============================] - 1s 2ms/step - loss: 0.3957 - val_loss: 0.4155\n",
            "Epoch 45/100\n",
            "363/363 [==============================] - 1s 2ms/step - loss: 0.3975 - val_loss: 0.4149\n",
            "Epoch 46/100\n",
            "363/363 [==============================] - 1s 2ms/step - loss: 0.3848 - val_loss: 0.4140\n",
            "Epoch 47/100\n",
            "363/363 [==============================] - 1s 2ms/step - loss: 0.3868 - val_loss: 0.4127\n",
            "Epoch 48/100\n",
            "363/363 [==============================] - 1s 2ms/step - loss: 0.3782 - val_loss: 0.4124\n",
            "Epoch 49/100\n",
            "363/363 [==============================] - 1s 2ms/step - loss: 0.3823 - val_loss: 0.4122\n",
            "Epoch 50/100\n",
            "363/363 [==============================] - 1s 2ms/step - loss: 0.3879 - val_loss: 0.4118\n",
            "Epoch 51/100\n",
            "363/363 [==============================] - 1s 2ms/step - loss: 0.4176 - val_loss: 0.4104\n",
            "Epoch 52/100\n",
            "363/363 [==============================] - 1s 2ms/step - loss: 0.3894 - val_loss: 0.4100\n",
            "Epoch 53/100\n",
            "363/363 [==============================] - 1s 2ms/step - loss: 0.3937 - val_loss: 0.4076\n",
            "Epoch 54/100\n",
            "363/363 [==============================] - 1s 2ms/step - loss: 0.3796 - val_loss: 0.4069\n",
            "Epoch 55/100\n",
            "363/363 [==============================] - 1s 2ms/step - loss: 0.3721 - val_loss: 0.4069\n",
            "Epoch 56/100\n",
            "363/363 [==============================] - 1s 2ms/step - loss: 0.3935 - val_loss: 0.4056\n",
            "Epoch 57/100\n",
            "363/363 [==============================] - 1s 2ms/step - loss: 0.3747 - val_loss: 0.4058\n",
            "Epoch 58/100\n",
            "363/363 [==============================] - 1s 2ms/step - loss: 0.3794 - val_loss: 0.4039\n",
            "Epoch 59/100\n",
            "363/363 [==============================] - 1s 2ms/step - loss: 0.3732 - val_loss: 0.4036\n",
            "Epoch 60/100\n",
            "363/363 [==============================] - 1s 2ms/step - loss: 0.3779 - val_loss: 0.4051\n",
            "Epoch 61/100\n",
            "363/363 [==============================] - 1s 2ms/step - loss: 0.3839 - val_loss: 0.4024\n",
            "Epoch 62/100\n",
            "363/363 [==============================] - 1s 2ms/step - loss: 0.3694 - val_loss: 0.4053\n",
            "Epoch 63/100\n",
            "363/363 [==============================] - 1s 2ms/step - loss: 0.3892 - val_loss: 0.4008\n",
            "Epoch 64/100\n",
            "363/363 [==============================] - 1s 2ms/step - loss: 0.3617 - val_loss: 0.4017\n",
            "Epoch 65/100\n",
            "363/363 [==============================] - 1s 2ms/step - loss: 0.3744 - val_loss: 0.4008\n",
            "Epoch 66/100\n",
            "363/363 [==============================] - 1s 2ms/step - loss: 0.3866 - val_loss: 0.3996\n",
            "Epoch 67/100\n",
            "363/363 [==============================] - 1s 2ms/step - loss: 0.3647 - val_loss: 0.3991\n",
            "Epoch 68/100\n",
            "363/363 [==============================] - 1s 2ms/step - loss: 0.3694 - val_loss: 0.4005\n",
            "Epoch 69/100\n",
            "363/363 [==============================] - 1s 2ms/step - loss: 0.3664 - val_loss: 0.4006\n",
            "Epoch 70/100\n",
            "363/363 [==============================] - 1s 2ms/step - loss: 0.3775 - val_loss: 0.4000\n",
            "Epoch 71/100\n",
            "363/363 [==============================] - 1s 2ms/step - loss: 0.3742 - val_loss: 0.3968\n",
            "Epoch 72/100\n",
            "363/363 [==============================] - 1s 2ms/step - loss: 0.3602 - val_loss: 0.3963\n",
            "Epoch 73/100\n",
            "363/363 [==============================] - 1s 2ms/step - loss: 0.3932 - val_loss: 0.3952\n",
            "Epoch 74/100\n",
            "363/363 [==============================] - 1s 2ms/step - loss: 0.3620 - val_loss: 0.3947\n",
            "Epoch 75/100\n",
            "363/363 [==============================] - 1s 2ms/step - loss: 0.3795 - val_loss: 0.3947\n",
            "Epoch 76/100\n",
            "363/363 [==============================] - 1s 2ms/step - loss: 0.3684 - val_loss: 0.3932\n",
            "Epoch 77/100\n",
            "363/363 [==============================] - 1s 2ms/step - loss: 0.3568 - val_loss: 0.3937\n",
            "Epoch 78/100\n",
            "363/363 [==============================] - 1s 2ms/step - loss: 0.3719 - val_loss: 0.3940\n",
            "Epoch 79/100\n",
            "363/363 [==============================] - 1s 2ms/step - loss: 0.3538 - val_loss: 0.3921\n",
            "Epoch 80/100\n",
            "363/363 [==============================] - 1s 2ms/step - loss: 0.3645 - val_loss: 0.3917\n",
            "Epoch 81/100\n",
            "363/363 [==============================] - 1s 2ms/step - loss: 0.3719 - val_loss: 0.3910\n",
            "Epoch 82/100\n",
            "363/363 [==============================] - 1s 2ms/step - loss: 0.3613 - val_loss: 0.3930\n",
            "Epoch 83/100\n",
            "363/363 [==============================] - 1s 2ms/step - loss: 0.3575 - val_loss: 0.3915\n",
            "Epoch 84/100\n",
            "363/363 [==============================] - 1s 2ms/step - loss: 0.3566 - val_loss: 0.3908\n",
            "Epoch 85/100\n",
            "363/363 [==============================] - 1s 2ms/step - loss: 0.3574 - val_loss: 0.3932\n",
            "Epoch 86/100\n",
            "363/363 [==============================] - 1s 2ms/step - loss: 0.3600 - val_loss: 0.3890\n",
            "Epoch 87/100\n",
            "363/363 [==============================] - 1s 2ms/step - loss: 0.3695 - val_loss: 0.3888\n",
            "Epoch 88/100\n",
            "363/363 [==============================] - 1s 2ms/step - loss: 0.3535 - val_loss: 0.3883\n",
            "Epoch 89/100\n",
            "363/363 [==============================] - 1s 2ms/step - loss: 0.3717 - val_loss: 0.3883\n",
            "Epoch 90/100\n",
            "363/363 [==============================] - 1s 2ms/step - loss: 0.3692 - val_loss: 0.3890\n",
            "Epoch 91/100\n",
            "363/363 [==============================] - 1s 3ms/step - loss: 0.3510 - val_loss: 0.3868\n",
            "Epoch 92/100\n",
            "363/363 [==============================] - 1s 2ms/step - loss: 0.3680 - val_loss: 0.3895\n",
            "Epoch 93/100\n",
            "363/363 [==============================] - 1s 2ms/step - loss: 0.3628 - val_loss: 0.3871\n",
            "Epoch 94/100\n",
            "363/363 [==============================] - 1s 2ms/step - loss: 0.3477 - val_loss: 0.3868\n",
            "Epoch 95/100\n",
            "363/363 [==============================] - 1s 2ms/step - loss: 0.3497 - val_loss: 0.3850\n",
            "Epoch 96/100\n",
            "363/363 [==============================] - 1s 2ms/step - loss: 0.3500 - val_loss: 0.3892\n",
            "Epoch 97/100\n",
            "363/363 [==============================] - 1s 2ms/step - loss: 0.3615 - val_loss: 0.3850\n",
            "Epoch 98/100\n",
            "363/363 [==============================] - 1s 2ms/step - loss: 0.3533 - val_loss: 0.3836\n",
            "Epoch 99/100\n",
            "363/363 [==============================] - 1s 2ms/step - loss: 0.3431 - val_loss: 0.3830\n",
            "Epoch 100/100\n",
            "363/363 [==============================] - 1s 2ms/step - loss: 0.3516 - val_loss: 0.3823\n",
            "162/162 [==============================] - 0s 1ms/step - loss: 0.3677\n"
          ],
          "name": "stdout"
        }
      ]
    }
  ]
}