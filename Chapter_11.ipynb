{
  "nbformat": 4,
  "nbformat_minor": 0,
  "metadata": {
    "colab": {
      "name": "Untitled0.ipynb",
      "provenance": [],
      "authorship_tag": "ABX9TyOKdTdTpKtOCFLXx5idkTwL",
      "include_colab_link": true
    },
    "kernelspec": {
      "name": "python3",
      "display_name": "Python 3"
    }
  },
  "cells": [
    {
      "cell_type": "markdown",
      "metadata": {
        "id": "view-in-github",
        "colab_type": "text"
      },
      "source": [
        "<a href=\"https://colab.research.google.com/github/bilalahmedgb/handsonML/blob/main/Chapter_11.ipynb\" target=\"_parent\"><img src=\"https://colab.research.google.com/assets/colab-badge.svg\" alt=\"Open In Colab\"/></a>"
      ]
    },
    {
      "cell_type": "code",
      "metadata": {
        "id": "8FwDpfCKRWWs"
      },
      "source": [
        "import numpy as np\r\n",
        "import matplotlib.pyplot as plt\r\n",
        "import matplotlib as mpl"
      ],
      "execution_count": 1,
      "outputs": []
    },
    {
      "cell_type": "code",
      "metadata": {
        "id": "DLbgwXAdRqa2"
      },
      "source": [
        "import tensorflow as tf\r\n",
        "from tensorflow import keras"
      ],
      "execution_count": 2,
      "outputs": []
    },
    {
      "cell_type": "code",
      "metadata": {
        "id": "D0uGoaI_RTvi",
        "colab": {
          "base_uri": "https://localhost:8080/"
        },
        "outputId": "ad683855-1a04-492e-b25c-76214c1fffd9"
      },
      "source": [
        "(X_train_full, y_train_full), (X_test, y_test) = keras.datasets.fashion_mnist.load_data()\r\n",
        "\r\n",
        "X_train_full = X_train_full/255.\r\n",
        "X_test = X_test/255.\r\n",
        "\r\n",
        "X_valid, X_train = X_train_full[:5000], X_train_full[5000:]\r\n",
        "y_valid, y_train = y_train_full[:5000], y_train_full[5000:]\r\n"
      ],
      "execution_count": 3,
      "outputs": [
        {
          "output_type": "stream",
          "text": [
            "Downloading data from https://storage.googleapis.com/tensorflow/tf-keras-datasets/train-labels-idx1-ubyte.gz\n",
            "32768/29515 [=================================] - 0s 0us/step\n",
            "Downloading data from https://storage.googleapis.com/tensorflow/tf-keras-datasets/train-images-idx3-ubyte.gz\n",
            "26427392/26421880 [==============================] - 0s 0us/step\n",
            "Downloading data from https://storage.googleapis.com/tensorflow/tf-keras-datasets/t10k-labels-idx1-ubyte.gz\n",
            "8192/5148 [===============================================] - 0s 0us/step\n",
            "Downloading data from https://storage.googleapis.com/tensorflow/tf-keras-datasets/t10k-images-idx3-ubyte.gz\n",
            "4423680/4422102 [==============================] - 0s 0us/step\n"
          ],
          "name": "stdout"
        }
      ]
    },
    {
      "cell_type": "code",
      "metadata": {
        "id": "42KZvyUYUcTX"
      },
      "source": [
        "pixel_means = X_train.mean(axis=0, keepdims=True)\r\n",
        "pixel_stds = X_train.std(axis=0, keepdims=True)\r\n",
        "X_train_scaled = (X_train - pixel_means) / pixel_stds\r\n",
        "X_valid_scaled = (X_valid - pixel_means) / pixel_stds\r\n",
        "X_test_scaled = (X_test - pixel_means) / pixel_stds"
      ],
      "execution_count": 4,
      "outputs": []
    },
    {
      "cell_type": "code",
      "metadata": {
        "id": "FZG9gkN1SMDK"
      },
      "source": [
        "model = keras.models.Sequential()\r\n",
        "model.add(keras.layers.Flatten(input_shape=[28, 28]))\r\n",
        "model.add(keras.layers.Dense(300, activation=\"relu\", kernel_initializer=\"he_normal\"))\r\n",
        "for layer in range(99):\r\n",
        "  model.add(keras.layers.Dense(100, activation=\"relu\", kernel_initializer=\"he_normal\"))\r\n",
        "model.add(keras.layers.Dense(10, activation=\"softmax\"))"
      ],
      "execution_count": 5,
      "outputs": []
    },
    {
      "cell_type": "code",
      "metadata": {
        "id": "W3-Qyp-WT2m-",
        "colab": {
          "base_uri": "https://localhost:8080/"
        },
        "outputId": "942a89d8-4c4a-488e-b5b8-78d707d80983"
      },
      "source": [
        "model.summary()"
      ],
      "execution_count": 6,
      "outputs": [
        {
          "output_type": "stream",
          "text": [
            "Model: \"sequential\"\n",
            "_________________________________________________________________\n",
            "Layer (type)                 Output Shape              Param #   \n",
            "=================================================================\n",
            "flatten (Flatten)            (None, 784)               0         \n",
            "_________________________________________________________________\n",
            "dense (Dense)                (None, 300)               235500    \n",
            "_________________________________________________________________\n",
            "dense_1 (Dense)              (None, 100)               30100     \n",
            "_________________________________________________________________\n",
            "dense_2 (Dense)              (None, 100)               10100     \n",
            "_________________________________________________________________\n",
            "dense_3 (Dense)              (None, 100)               10100     \n",
            "_________________________________________________________________\n",
            "dense_4 (Dense)              (None, 100)               10100     \n",
            "_________________________________________________________________\n",
            "dense_5 (Dense)              (None, 100)               10100     \n",
            "_________________________________________________________________\n",
            "dense_6 (Dense)              (None, 100)               10100     \n",
            "_________________________________________________________________\n",
            "dense_7 (Dense)              (None, 100)               10100     \n",
            "_________________________________________________________________\n",
            "dense_8 (Dense)              (None, 100)               10100     \n",
            "_________________________________________________________________\n",
            "dense_9 (Dense)              (None, 100)               10100     \n",
            "_________________________________________________________________\n",
            "dense_10 (Dense)             (None, 100)               10100     \n",
            "_________________________________________________________________\n",
            "dense_11 (Dense)             (None, 100)               10100     \n",
            "_________________________________________________________________\n",
            "dense_12 (Dense)             (None, 100)               10100     \n",
            "_________________________________________________________________\n",
            "dense_13 (Dense)             (None, 100)               10100     \n",
            "_________________________________________________________________\n",
            "dense_14 (Dense)             (None, 100)               10100     \n",
            "_________________________________________________________________\n",
            "dense_15 (Dense)             (None, 100)               10100     \n",
            "_________________________________________________________________\n",
            "dense_16 (Dense)             (None, 100)               10100     \n",
            "_________________________________________________________________\n",
            "dense_17 (Dense)             (None, 100)               10100     \n",
            "_________________________________________________________________\n",
            "dense_18 (Dense)             (None, 100)               10100     \n",
            "_________________________________________________________________\n",
            "dense_19 (Dense)             (None, 100)               10100     \n",
            "_________________________________________________________________\n",
            "dense_20 (Dense)             (None, 100)               10100     \n",
            "_________________________________________________________________\n",
            "dense_21 (Dense)             (None, 100)               10100     \n",
            "_________________________________________________________________\n",
            "dense_22 (Dense)             (None, 100)               10100     \n",
            "_________________________________________________________________\n",
            "dense_23 (Dense)             (None, 100)               10100     \n",
            "_________________________________________________________________\n",
            "dense_24 (Dense)             (None, 100)               10100     \n",
            "_________________________________________________________________\n",
            "dense_25 (Dense)             (None, 100)               10100     \n",
            "_________________________________________________________________\n",
            "dense_26 (Dense)             (None, 100)               10100     \n",
            "_________________________________________________________________\n",
            "dense_27 (Dense)             (None, 100)               10100     \n",
            "_________________________________________________________________\n",
            "dense_28 (Dense)             (None, 100)               10100     \n",
            "_________________________________________________________________\n",
            "dense_29 (Dense)             (None, 100)               10100     \n",
            "_________________________________________________________________\n",
            "dense_30 (Dense)             (None, 100)               10100     \n",
            "_________________________________________________________________\n",
            "dense_31 (Dense)             (None, 100)               10100     \n",
            "_________________________________________________________________\n",
            "dense_32 (Dense)             (None, 100)               10100     \n",
            "_________________________________________________________________\n",
            "dense_33 (Dense)             (None, 100)               10100     \n",
            "_________________________________________________________________\n",
            "dense_34 (Dense)             (None, 100)               10100     \n",
            "_________________________________________________________________\n",
            "dense_35 (Dense)             (None, 100)               10100     \n",
            "_________________________________________________________________\n",
            "dense_36 (Dense)             (None, 100)               10100     \n",
            "_________________________________________________________________\n",
            "dense_37 (Dense)             (None, 100)               10100     \n",
            "_________________________________________________________________\n",
            "dense_38 (Dense)             (None, 100)               10100     \n",
            "_________________________________________________________________\n",
            "dense_39 (Dense)             (None, 100)               10100     \n",
            "_________________________________________________________________\n",
            "dense_40 (Dense)             (None, 100)               10100     \n",
            "_________________________________________________________________\n",
            "dense_41 (Dense)             (None, 100)               10100     \n",
            "_________________________________________________________________\n",
            "dense_42 (Dense)             (None, 100)               10100     \n",
            "_________________________________________________________________\n",
            "dense_43 (Dense)             (None, 100)               10100     \n",
            "_________________________________________________________________\n",
            "dense_44 (Dense)             (None, 100)               10100     \n",
            "_________________________________________________________________\n",
            "dense_45 (Dense)             (None, 100)               10100     \n",
            "_________________________________________________________________\n",
            "dense_46 (Dense)             (None, 100)               10100     \n",
            "_________________________________________________________________\n",
            "dense_47 (Dense)             (None, 100)               10100     \n",
            "_________________________________________________________________\n",
            "dense_48 (Dense)             (None, 100)               10100     \n",
            "_________________________________________________________________\n",
            "dense_49 (Dense)             (None, 100)               10100     \n",
            "_________________________________________________________________\n",
            "dense_50 (Dense)             (None, 100)               10100     \n",
            "_________________________________________________________________\n",
            "dense_51 (Dense)             (None, 100)               10100     \n",
            "_________________________________________________________________\n",
            "dense_52 (Dense)             (None, 100)               10100     \n",
            "_________________________________________________________________\n",
            "dense_53 (Dense)             (None, 100)               10100     \n",
            "_________________________________________________________________\n",
            "dense_54 (Dense)             (None, 100)               10100     \n",
            "_________________________________________________________________\n",
            "dense_55 (Dense)             (None, 100)               10100     \n",
            "_________________________________________________________________\n",
            "dense_56 (Dense)             (None, 100)               10100     \n",
            "_________________________________________________________________\n",
            "dense_57 (Dense)             (None, 100)               10100     \n",
            "_________________________________________________________________\n",
            "dense_58 (Dense)             (None, 100)               10100     \n",
            "_________________________________________________________________\n",
            "dense_59 (Dense)             (None, 100)               10100     \n",
            "_________________________________________________________________\n",
            "dense_60 (Dense)             (None, 100)               10100     \n",
            "_________________________________________________________________\n",
            "dense_61 (Dense)             (None, 100)               10100     \n",
            "_________________________________________________________________\n",
            "dense_62 (Dense)             (None, 100)               10100     \n",
            "_________________________________________________________________\n",
            "dense_63 (Dense)             (None, 100)               10100     \n",
            "_________________________________________________________________\n",
            "dense_64 (Dense)             (None, 100)               10100     \n",
            "_________________________________________________________________\n",
            "dense_65 (Dense)             (None, 100)               10100     \n",
            "_________________________________________________________________\n",
            "dense_66 (Dense)             (None, 100)               10100     \n",
            "_________________________________________________________________\n",
            "dense_67 (Dense)             (None, 100)               10100     \n",
            "_________________________________________________________________\n",
            "dense_68 (Dense)             (None, 100)               10100     \n",
            "_________________________________________________________________\n",
            "dense_69 (Dense)             (None, 100)               10100     \n",
            "_________________________________________________________________\n",
            "dense_70 (Dense)             (None, 100)               10100     \n",
            "_________________________________________________________________\n",
            "dense_71 (Dense)             (None, 100)               10100     \n",
            "_________________________________________________________________\n",
            "dense_72 (Dense)             (None, 100)               10100     \n",
            "_________________________________________________________________\n",
            "dense_73 (Dense)             (None, 100)               10100     \n",
            "_________________________________________________________________\n",
            "dense_74 (Dense)             (None, 100)               10100     \n",
            "_________________________________________________________________\n",
            "dense_75 (Dense)             (None, 100)               10100     \n",
            "_________________________________________________________________\n",
            "dense_76 (Dense)             (None, 100)               10100     \n",
            "_________________________________________________________________\n",
            "dense_77 (Dense)             (None, 100)               10100     \n",
            "_________________________________________________________________\n",
            "dense_78 (Dense)             (None, 100)               10100     \n",
            "_________________________________________________________________\n",
            "dense_79 (Dense)             (None, 100)               10100     \n",
            "_________________________________________________________________\n",
            "dense_80 (Dense)             (None, 100)               10100     \n",
            "_________________________________________________________________\n",
            "dense_81 (Dense)             (None, 100)               10100     \n",
            "_________________________________________________________________\n",
            "dense_82 (Dense)             (None, 100)               10100     \n",
            "_________________________________________________________________\n",
            "dense_83 (Dense)             (None, 100)               10100     \n",
            "_________________________________________________________________\n",
            "dense_84 (Dense)             (None, 100)               10100     \n",
            "_________________________________________________________________\n",
            "dense_85 (Dense)             (None, 100)               10100     \n",
            "_________________________________________________________________\n",
            "dense_86 (Dense)             (None, 100)               10100     \n",
            "_________________________________________________________________\n",
            "dense_87 (Dense)             (None, 100)               10100     \n",
            "_________________________________________________________________\n",
            "dense_88 (Dense)             (None, 100)               10100     \n",
            "_________________________________________________________________\n",
            "dense_89 (Dense)             (None, 100)               10100     \n",
            "_________________________________________________________________\n",
            "dense_90 (Dense)             (None, 100)               10100     \n",
            "_________________________________________________________________\n",
            "dense_91 (Dense)             (None, 100)               10100     \n",
            "_________________________________________________________________\n",
            "dense_92 (Dense)             (None, 100)               10100     \n",
            "_________________________________________________________________\n",
            "dense_93 (Dense)             (None, 100)               10100     \n",
            "_________________________________________________________________\n",
            "dense_94 (Dense)             (None, 100)               10100     \n",
            "_________________________________________________________________\n",
            "dense_95 (Dense)             (None, 100)               10100     \n",
            "_________________________________________________________________\n",
            "dense_96 (Dense)             (None, 100)               10100     \n",
            "_________________________________________________________________\n",
            "dense_97 (Dense)             (None, 100)               10100     \n",
            "_________________________________________________________________\n",
            "dense_98 (Dense)             (None, 100)               10100     \n",
            "_________________________________________________________________\n",
            "dense_99 (Dense)             (None, 100)               10100     \n",
            "_________________________________________________________________\n",
            "dense_100 (Dense)            (None, 10)                1010      \n",
            "=================================================================\n",
            "Total params: 1,256,410\n",
            "Trainable params: 1,256,410\n",
            "Non-trainable params: 0\n",
            "_________________________________________________________________\n"
          ],
          "name": "stdout"
        }
      ]
    },
    {
      "cell_type": "code",
      "metadata": {
        "id": "dmUOdAoaUB94"
      },
      "source": [
        "model.compile(loss=\"sparse_categorical_crossentropy\",\r\n",
        "              optimizer=keras.optimizers.SGD(lr=1e-3),\r\n",
        "              metrics=[\"accuracy\"])"
      ],
      "execution_count": 7,
      "outputs": []
    },
    {
      "cell_type": "code",
      "metadata": {
        "id": "LO6dFI33USHo",
        "colab": {
          "base_uri": "https://localhost:8080/"
        },
        "outputId": "0160b900-fb6d-425e-be5d-7c6104cdad30"
      },
      "source": [
        "history = model.fit(X_train, y_train, epochs=5,\r\n",
        "                    validation_data=(X_valid_scaled, y_valid))  "
      ],
      "execution_count": 8,
      "outputs": [
        {
          "output_type": "stream",
          "text": [
            "Epoch 1/5\n",
            "1719/1719 [==============================] - 29s 15ms/step - loss: 2.0861 - accuracy: 0.2030 - val_loss: 2.6179 - val_accuracy: 0.1498\n",
            "Epoch 2/5\n",
            "1719/1719 [==============================] - 25s 15ms/step - loss: 1.4446 - accuracy: 0.4142 - val_loss: 2.9312 - val_accuracy: 0.2716\n",
            "Epoch 3/5\n",
            "1719/1719 [==============================] - 25s 15ms/step - loss: 0.9774 - accuracy: 0.5859 - val_loss: 2.1276 - val_accuracy: 0.2328\n",
            "Epoch 4/5\n",
            "1719/1719 [==============================] - 25s 14ms/step - loss: 1.1251 - accuracy: 0.5357 - val_loss: 2.3639 - val_accuracy: 0.3226\n",
            "Epoch 5/5\n",
            "1719/1719 [==============================] - 25s 15ms/step - loss: 0.8905 - accuracy: 0.6432 - val_loss: 1.9392 - val_accuracy: 0.3848\n"
          ],
          "name": "stdout"
        }
      ]
    },
    {
      "cell_type": "markdown",
      "metadata": {
        "id": "Z2EjkIJwVJmq"
      },
      "source": [
        "# Batch Normalization"
      ]
    },
    {
      "cell_type": "code",
      "metadata": {
        "id": "WX9ak8oIVJRR"
      },
      "source": [
        "model = keras.models.Sequential([\r\n",
        "              keras.layers.Flatten(input_shape=[28, 28]),\r\n",
        "              keras.layers.BatchNormalization(),\r\n",
        "              keras.layers.Dense(300, activation=\"relu\"),\r\n",
        "              keras.layers.BatchNormalization(),\r\n",
        "              keras.layers.Dense(100, activation=\"relu\"),\r\n",
        "              keras.layers.BatchNormalization(),\r\n",
        "              keras.layers.Dense(10, activation=\"softmax\")\r\n",
        "])"
      ],
      "execution_count": 9,
      "outputs": []
    },
    {
      "cell_type": "code",
      "metadata": {
        "id": "H0iIREeKVpa4",
        "colab": {
          "base_uri": "https://localhost:8080/"
        },
        "outputId": "6f9ccf60-1d0e-4058-c295-19299a9bc368"
      },
      "source": [
        "model.summary()"
      ],
      "execution_count": 10,
      "outputs": [
        {
          "output_type": "stream",
          "text": [
            "Model: \"sequential_1\"\n",
            "_________________________________________________________________\n",
            "Layer (type)                 Output Shape              Param #   \n",
            "=================================================================\n",
            "flatten_1 (Flatten)          (None, 784)               0         \n",
            "_________________________________________________________________\n",
            "batch_normalization (BatchNo (None, 784)               3136      \n",
            "_________________________________________________________________\n",
            "dense_101 (Dense)            (None, 300)               235500    \n",
            "_________________________________________________________________\n",
            "batch_normalization_1 (Batch (None, 300)               1200      \n",
            "_________________________________________________________________\n",
            "dense_102 (Dense)            (None, 100)               30100     \n",
            "_________________________________________________________________\n",
            "batch_normalization_2 (Batch (None, 100)               400       \n",
            "_________________________________________________________________\n",
            "dense_103 (Dense)            (None, 10)                1010      \n",
            "=================================================================\n",
            "Total params: 271,346\n",
            "Trainable params: 268,978\n",
            "Non-trainable params: 2,368\n",
            "_________________________________________________________________\n"
          ],
          "name": "stdout"
        }
      ]
    },
    {
      "cell_type": "code",
      "metadata": {
        "id": "NmDeSFzHVrVV",
        "colab": {
          "base_uri": "https://localhost:8080/"
        },
        "outputId": "5513399e-33b2-4f2a-aa2b-086971db1e70"
      },
      "source": [
        "bn1 = model.layers[1]\r\n",
        "[(var.name, var.trainable) for var in bn1.variables] "
      ],
      "execution_count": 11,
      "outputs": [
        {
          "output_type": "execute_result",
          "data": {
            "text/plain": [
              "[('batch_normalization/gamma:0', True),\n",
              " ('batch_normalization/beta:0', True),\n",
              " ('batch_normalization/moving_mean:0', False),\n",
              " ('batch_normalization/moving_variance:0', False)]"
            ]
          },
          "metadata": {
            "tags": []
          },
          "execution_count": 11
        }
      ]
    },
    {
      "cell_type": "code",
      "metadata": {
        "id": "VFCJiWq8WASl"
      },
      "source": [
        "model.compile(loss=\"sparse_categorical_crossentropy\",\r\n",
        "              optimizer=keras.optimizers.SGD(lr=1e-3),\r\n",
        "              metrics=[\"accuracy\"])"
      ],
      "execution_count": 12,
      "outputs": []
    },
    {
      "cell_type": "code",
      "metadata": {
        "id": "3Tm_R_rQWW-H",
        "colab": {
          "base_uri": "https://localhost:8080/"
        },
        "outputId": "ee10ece5-9396-498c-aaac-77b91d33ca42"
      },
      "source": [
        "history = model.fit(X_train, y_train, epochs=10,\r\n",
        "                    validation_data=(X_valid, y_valid))"
      ],
      "execution_count": 13,
      "outputs": [
        {
          "output_type": "stream",
          "text": [
            "Epoch 1/10\n",
            "1719/1719 [==============================] - 10s 5ms/step - loss: 1.1978 - accuracy: 0.6090 - val_loss: 0.5573 - val_accuracy: 0.8104\n",
            "Epoch 2/10\n",
            "1719/1719 [==============================] - 9s 5ms/step - loss: 0.5995 - accuracy: 0.7932 - val_loss: 0.4745 - val_accuracy: 0.8398\n",
            "Epoch 3/10\n",
            "1719/1719 [==============================] - 9s 5ms/step - loss: 0.5193 - accuracy: 0.8187 - val_loss: 0.4425 - val_accuracy: 0.8496\n",
            "Epoch 4/10\n",
            "1719/1719 [==============================] - 9s 5ms/step - loss: 0.4781 - accuracy: 0.8321 - val_loss: 0.4196 - val_accuracy: 0.8554\n",
            "Epoch 5/10\n",
            "1719/1719 [==============================] - 9s 5ms/step - loss: 0.4559 - accuracy: 0.8389 - val_loss: 0.4045 - val_accuracy: 0.8602\n",
            "Epoch 6/10\n",
            "1719/1719 [==============================] - 9s 5ms/step - loss: 0.4452 - accuracy: 0.8428 - val_loss: 0.3926 - val_accuracy: 0.8626\n",
            "Epoch 7/10\n",
            "1719/1719 [==============================] - 9s 5ms/step - loss: 0.4246 - accuracy: 0.8511 - val_loss: 0.3829 - val_accuracy: 0.8664\n",
            "Epoch 8/10\n",
            "1719/1719 [==============================] - 9s 5ms/step - loss: 0.4157 - accuracy: 0.8517 - val_loss: 0.3759 - val_accuracy: 0.8690\n",
            "Epoch 9/10\n",
            "1719/1719 [==============================] - 9s 5ms/step - loss: 0.4032 - accuracy: 0.8566 - val_loss: 0.3703 - val_accuracy: 0.8670\n",
            "Epoch 10/10\n",
            "1719/1719 [==============================] - 9s 5ms/step - loss: 0.3905 - accuracy: 0.8609 - val_loss: 0.3646 - val_accuracy: 0.8696\n"
          ],
          "name": "stdout"
        }
      ]
    },
    {
      "cell_type": "code",
      "metadata": {
        "id": "odL2xZy9Wd2d"
      },
      "source": [
        "#Creating model with use_bias=False"
      ],
      "execution_count": 14,
      "outputs": []
    },
    {
      "cell_type": "code",
      "metadata": {
        "id": "CayqfZXCXGKx"
      },
      "source": [
        "model = keras.models.Sequential([\r\n",
        "    keras.layers.Flatten(input_shape=[28, 28]),\r\n",
        "    keras.layers.BatchNormalization(),\r\n",
        "    keras.layers.Dense(300, activation=\"relu\", kernel_initializer=\"he_normal\", use_bias=False),\r\n",
        "    keras.layers.BatchNormalization(),\r\n",
        "    keras.layers.Dense(100, activation=\"relu\", kernel_initializer=\"he_normal\", use_bias=False),\r\n",
        "    keras.layers.BatchNormalization(),\r\n",
        "    keras.layers.Dense(10, activation=\"softmax\")\r\n",
        "])"
      ],
      "execution_count": 15,
      "outputs": []
    },
    {
      "cell_type": "code",
      "metadata": {
        "id": "I5x_u3GHXZq0"
      },
      "source": [
        "model.compile(loss=\"sparse_categorical_crossentropy\",\r\n",
        "              optimizer=keras.optimizers.SGD(lr=1e-3),\r\n",
        "              metrics=[\"accuracy\"])"
      ],
      "execution_count": 16,
      "outputs": []
    },
    {
      "cell_type": "code",
      "metadata": {
        "id": "A4ULPOgLXdzO",
        "colab": {
          "base_uri": "https://localhost:8080/"
        },
        "outputId": "ad7a0452-4b2a-4593-adb3-4ba01a010711"
      },
      "source": [
        "history = model.fit(X_train, y_train, epochs=10,\r\n",
        "                    validation_data=(X_valid, y_valid))"
      ],
      "execution_count": 17,
      "outputs": [
        {
          "output_type": "stream",
          "text": [
            "Epoch 1/10\n",
            "1719/1719 [==============================] - 10s 5ms/step - loss: 1.3101 - accuracy: 0.5696 - val_loss: 0.5867 - val_accuracy: 0.8040\n",
            "Epoch 2/10\n",
            "1719/1719 [==============================] - 10s 6ms/step - loss: 0.6449 - accuracy: 0.7792 - val_loss: 0.5023 - val_accuracy: 0.8316\n",
            "Epoch 3/10\n",
            "1719/1719 [==============================] - 9s 5ms/step - loss: 0.5698 - accuracy: 0.8052 - val_loss: 0.4625 - val_accuracy: 0.8418\n",
            "Epoch 4/10\n",
            "1719/1719 [==============================] - 9s 5ms/step - loss: 0.5230 - accuracy: 0.8179 - val_loss: 0.4385 - val_accuracy: 0.8498\n",
            "Epoch 5/10\n",
            "1719/1719 [==============================] - 9s 5ms/step - loss: 0.4918 - accuracy: 0.8300 - val_loss: 0.4205 - val_accuracy: 0.8554\n",
            "Epoch 6/10\n",
            "1719/1719 [==============================] - 9s 5ms/step - loss: 0.4736 - accuracy: 0.8344 - val_loss: 0.4090 - val_accuracy: 0.8600\n",
            "Epoch 7/10\n",
            "1719/1719 [==============================] - 14s 8ms/step - loss: 0.4602 - accuracy: 0.8396 - val_loss: 0.3982 - val_accuracy: 0.8626\n",
            "Epoch 8/10\n",
            "1719/1719 [==============================] - 9s 5ms/step - loss: 0.4483 - accuracy: 0.8421 - val_loss: 0.3890 - val_accuracy: 0.8646\n",
            "Epoch 9/10\n",
            "1719/1719 [==============================] - 9s 5ms/step - loss: 0.4327 - accuracy: 0.8490 - val_loss: 0.3815 - val_accuracy: 0.8688\n",
            "Epoch 10/10\n",
            "1719/1719 [==============================] - 9s 5ms/step - loss: 0.4180 - accuracy: 0.8530 - val_loss: 0.3757 - val_accuracy: 0.8682\n"
          ],
          "name": "stdout"
        }
      ]
    },
    {
      "cell_type": "markdown",
      "metadata": {
        "id": "9-r0W5A8-3Lo"
      },
      "source": [
        "# Reusing Pretrained Layers"
      ]
    },
    {
      "cell_type": "code",
      "metadata": {
        "id": "-Gvm3cIk-5tY"
      },
      "source": [
        "def split_dataset(X, y):\r\n",
        "    y_5_or_6 = (y == 5) | (y == 6) # sandals or shirts\r\n",
        "    y_A = y[~y_5_or_6]\r\n",
        "    y_A[y_A > 6] -= 2 # class indices 7, 8, 9 should be moved to 5, 6, 7\r\n",
        "    y_B = (y[y_5_or_6] == 6).astype(np.float32) # binary classification task: is it a shirt (class 6)?\r\n",
        "    return ((X[~y_5_or_6], y_A),\r\n",
        "            (X[y_5_or_6], y_B))"
      ],
      "execution_count": 18,
      "outputs": []
    },
    {
      "cell_type": "code",
      "metadata": {
        "id": "cYrkdZOr-7Hy"
      },
      "source": [
        "(X_train_A, y_train_A), (X_train_B, y_train_B) = split_dataset(X_train, y_train)\r\n",
        "(X_valid_A, y_valid_A), (X_valid_B, y_valid_B) = split_dataset(X_valid, y_valid)\r\n",
        "(X_test_A, y_test_A), (X_test_B, y_test_B) = split_dataset(X_test, y_test)\r\n",
        "X_train_B = X_train_B[:200]\r\n",
        "y_train_B = y_train_B[:200]"
      ],
      "execution_count": 19,
      "outputs": []
    },
    {
      "cell_type": "code",
      "metadata": {
        "id": "8VCUl4-3_fET"
      },
      "source": [
        "#type(y_train_B)"
      ],
      "execution_count": 20,
      "outputs": []
    },
    {
      "cell_type": "code",
      "metadata": {
        "colab": {
          "base_uri": "https://localhost:8080/"
        },
        "id": "c2tQt1bH_CXc",
        "outputId": "2a59a9e7-a7f5-431b-b213-e196d44edf1b"
      },
      "source": [
        "y_train_A[:30]"
      ],
      "execution_count": 21,
      "outputs": [
        {
          "output_type": "execute_result",
          "data": {
            "text/plain": [
              "array([4, 0, 5, 7, 7, 7, 4, 4, 3, 4, 0, 1, 6, 3, 4, 3, 2, 6, 5, 3, 4, 5,\n",
              "       1, 3, 4, 2, 0, 6, 7, 1], dtype=uint8)"
            ]
          },
          "metadata": {
            "tags": []
          },
          "execution_count": 21
        }
      ]
    },
    {
      "cell_type": "code",
      "metadata": {
        "colab": {
          "base_uri": "https://localhost:8080/"
        },
        "id": "NJ3jANL-_L8Y",
        "outputId": "23a4584d-fad9-4faf-ce58-0ef59bdc336e"
      },
      "source": [
        "y_train_B[:30]"
      ],
      "execution_count": 22,
      "outputs": [
        {
          "output_type": "execute_result",
          "data": {
            "text/plain": [
              "array([1., 1., 0., 0., 0., 0., 1., 1., 1., 0., 0., 1., 1., 0., 0., 0., 0.,\n",
              "       0., 0., 1., 1., 0., 0., 1., 1., 0., 1., 1., 1., 1.], dtype=float32)"
            ]
          },
          "metadata": {
            "tags": []
          },
          "execution_count": 22
        }
      ]
    },
    {
      "cell_type": "code",
      "metadata": {
        "id": "3RNCqOop_R-N"
      },
      "source": [
        "tf.random.set_seed(42)\r\n",
        "np.random.seed(42)"
      ],
      "execution_count": 23,
      "outputs": []
    },
    {
      "cell_type": "code",
      "metadata": {
        "id": "0rtdhPMI_1Go"
      },
      "source": [
        "model_A = keras.models.Sequential()\r\n",
        "model_A.add(keras.layers.Flatten(input_shape=[28,28]))\r\n",
        "\r\n",
        "for n_hidden in (300, 100, 50, 50, 50):\r\n",
        "  model_A.add(keras.layers.Dense(n_hidden, activation=\"selu\"))\r\n",
        "model_A.add(keras.layers.Dense(8, activation=\"softmax\"))"
      ],
      "execution_count": 24,
      "outputs": []
    },
    {
      "cell_type": "code",
      "metadata": {
        "colab": {
          "base_uri": "https://localhost:8080/"
        },
        "id": "6fAWEilNAQaP",
        "outputId": "4b137023-678d-4c0a-ac77-eb26ba3eb6c2"
      },
      "source": [
        "model_A.summary()"
      ],
      "execution_count": 25,
      "outputs": [
        {
          "output_type": "stream",
          "text": [
            "Model: \"sequential_3\"\n",
            "_________________________________________________________________\n",
            "Layer (type)                 Output Shape              Param #   \n",
            "=================================================================\n",
            "flatten_3 (Flatten)          (None, 784)               0         \n",
            "_________________________________________________________________\n",
            "dense_107 (Dense)            (None, 300)               235500    \n",
            "_________________________________________________________________\n",
            "dense_108 (Dense)            (None, 100)               30100     \n",
            "_________________________________________________________________\n",
            "dense_109 (Dense)            (None, 50)                5050      \n",
            "_________________________________________________________________\n",
            "dense_110 (Dense)            (None, 50)                2550      \n",
            "_________________________________________________________________\n",
            "dense_111 (Dense)            (None, 50)                2550      \n",
            "_________________________________________________________________\n",
            "dense_112 (Dense)            (None, 8)                 408       \n",
            "=================================================================\n",
            "Total params: 276,158\n",
            "Trainable params: 276,158\n",
            "Non-trainable params: 0\n",
            "_________________________________________________________________\n"
          ],
          "name": "stdout"
        }
      ]
    },
    {
      "cell_type": "code",
      "metadata": {
        "id": "0odVvBHJAc8L"
      },
      "source": [
        "model_A.compile(loss=\"sparse_categorical_crossentropy\",\r\n",
        "                optimizer=keras.optimizers.SGD(learning_rate=1e-3),\r\n",
        "                metrics=[\"accuracy\"])"
      ],
      "execution_count": 26,
      "outputs": []
    },
    {
      "cell_type": "code",
      "metadata": {
        "colab": {
          "base_uri": "https://localhost:8080/"
        },
        "id": "OjFsuxhgAtG7",
        "outputId": "b86a4d16-7244-4f88-d3f8-39d483284e9a"
      },
      "source": [
        "history = model_A.fit(X_train_A, y_train_A, epochs=20,\r\n",
        "                      validation_data=(X_valid_A, y_valid_A))"
      ],
      "execution_count": 27,
      "outputs": [
        {
          "output_type": "stream",
          "text": [
            "Epoch 1/20\n",
            "1375/1375 [==============================] - 5s 4ms/step - loss: 0.9248 - accuracy: 0.6994 - val_loss: 0.3890 - val_accuracy: 0.8677\n",
            "Epoch 2/20\n",
            "1375/1375 [==============================] - 5s 3ms/step - loss: 0.3651 - accuracy: 0.8748 - val_loss: 0.3289 - val_accuracy: 0.8824\n",
            "Epoch 3/20\n",
            "1375/1375 [==============================] - 4s 3ms/step - loss: 0.3182 - accuracy: 0.8897 - val_loss: 0.3013 - val_accuracy: 0.8991\n",
            "Epoch 4/20\n",
            "1375/1375 [==============================] - 4s 3ms/step - loss: 0.3048 - accuracy: 0.8954 - val_loss: 0.2892 - val_accuracy: 0.9013\n",
            "Epoch 5/20\n",
            "1375/1375 [==============================] - 4s 3ms/step - loss: 0.2803 - accuracy: 0.9029 - val_loss: 0.2774 - val_accuracy: 0.9066\n",
            "Epoch 6/20\n",
            "1375/1375 [==============================] - 5s 3ms/step - loss: 0.2700 - accuracy: 0.9080 - val_loss: 0.2733 - val_accuracy: 0.9071\n",
            "Epoch 7/20\n",
            "1375/1375 [==============================] - 4s 3ms/step - loss: 0.2625 - accuracy: 0.9091 - val_loss: 0.2720 - val_accuracy: 0.9091\n",
            "Epoch 8/20\n",
            "1375/1375 [==============================] - 5s 3ms/step - loss: 0.2608 - accuracy: 0.9117 - val_loss: 0.2589 - val_accuracy: 0.9141\n",
            "Epoch 9/20\n",
            "1375/1375 [==============================] - 4s 3ms/step - loss: 0.2557 - accuracy: 0.9108 - val_loss: 0.2562 - val_accuracy: 0.9143\n",
            "Epoch 10/20\n",
            "1375/1375 [==============================] - 4s 3ms/step - loss: 0.2510 - accuracy: 0.9138 - val_loss: 0.2540 - val_accuracy: 0.9165\n",
            "Epoch 11/20\n",
            "1375/1375 [==============================] - 4s 3ms/step - loss: 0.2430 - accuracy: 0.9170 - val_loss: 0.2494 - val_accuracy: 0.9155\n",
            "Epoch 12/20\n",
            "1375/1375 [==============================] - 4s 3ms/step - loss: 0.2422 - accuracy: 0.9171 - val_loss: 0.2511 - val_accuracy: 0.9128\n",
            "Epoch 13/20\n",
            "1375/1375 [==============================] - 4s 3ms/step - loss: 0.2359 - accuracy: 0.9181 - val_loss: 0.2446 - val_accuracy: 0.9163\n",
            "Epoch 14/20\n",
            "1375/1375 [==============================] - 4s 3ms/step - loss: 0.2266 - accuracy: 0.9232 - val_loss: 0.2413 - val_accuracy: 0.9178\n",
            "Epoch 15/20\n",
            "1375/1375 [==============================] - 4s 3ms/step - loss: 0.2224 - accuracy: 0.9242 - val_loss: 0.2446 - val_accuracy: 0.9193\n",
            "Epoch 16/20\n",
            "1375/1375 [==============================] - 4s 3ms/step - loss: 0.2260 - accuracy: 0.9218 - val_loss: 0.2386 - val_accuracy: 0.9195\n",
            "Epoch 17/20\n",
            "1375/1375 [==============================] - 4s 3ms/step - loss: 0.2191 - accuracy: 0.9250 - val_loss: 0.2405 - val_accuracy: 0.9175\n",
            "Epoch 18/20\n",
            "1375/1375 [==============================] - 4s 3ms/step - loss: 0.2171 - accuracy: 0.9250 - val_loss: 0.2429 - val_accuracy: 0.9158\n",
            "Epoch 19/20\n",
            "1375/1375 [==============================] - 4s 3ms/step - loss: 0.2181 - accuracy: 0.9246 - val_loss: 0.2328 - val_accuracy: 0.9205\n",
            "Epoch 20/20\n",
            "1375/1375 [==============================] - 4s 3ms/step - loss: 0.2112 - accuracy: 0.9272 - val_loss: 0.2332 - val_accuracy: 0.9208\n"
          ],
          "name": "stdout"
        }
      ]
    },
    {
      "cell_type": "code",
      "metadata": {
        "id": "CEQsoPqlA2mW"
      },
      "source": [
        "model_A.save(\"my_model_A.h5\")"
      ],
      "execution_count": 28,
      "outputs": []
    },
    {
      "cell_type": "code",
      "metadata": {
        "id": "VXznrnZ0BZmR"
      },
      "source": [
        "model_B = keras.models.Sequential()\r\n",
        "model_B.add(keras.layers.Flatten(input_shape=[28, 28]))\r\n",
        "for n_hidden in (300, 100, 50, 50, 50):\r\n",
        "    model_B.add(keras.layers.Dense(n_hidden, activation=\"selu\"))\r\n",
        "model_B.add(keras.layers.Dense(1, activation=\"sigmoid\"))"
      ],
      "execution_count": 29,
      "outputs": []
    },
    {
      "cell_type": "code",
      "metadata": {
        "id": "OzaTkR62CgPc"
      },
      "source": [
        "model_B.compile(loss=\"binary_crossentropy\",\r\n",
        "                optimizer=keras.optimizers.SGD(lr=1e-3),\r\n",
        "                metrics=[\"accuracy\"])"
      ],
      "execution_count": 30,
      "outputs": []
    },
    {
      "cell_type": "code",
      "metadata": {
        "colab": {
          "base_uri": "https://localhost:8080/"
        },
        "id": "5zI9BxikCiid",
        "outputId": "2033a24f-9690-4148-a36c-a6b01dfff24c"
      },
      "source": [
        "history = model_B.fit(X_train_B, y_train_B, epochs=20,\r\n",
        "                      validation_data=(X_valid_B, y_valid_B))"
      ],
      "execution_count": 31,
      "outputs": [
        {
          "output_type": "stream",
          "text": [
            "Epoch 1/20\n",
            "7/7 [==============================] - 1s 40ms/step - loss: 1.0360 - accuracy: 0.4975 - val_loss: 0.6314 - val_accuracy: 0.6004\n",
            "Epoch 2/20\n",
            "7/7 [==============================] - 0s 16ms/step - loss: 0.5883 - accuracy: 0.6971 - val_loss: 0.4784 - val_accuracy: 0.8529\n",
            "Epoch 3/20\n",
            "7/7 [==============================] - 0s 16ms/step - loss: 0.4380 - accuracy: 0.8854 - val_loss: 0.4102 - val_accuracy: 0.8945\n",
            "Epoch 4/20\n",
            "7/7 [==============================] - 0s 16ms/step - loss: 0.4021 - accuracy: 0.8712 - val_loss: 0.3647 - val_accuracy: 0.9178\n",
            "Epoch 5/20\n",
            "7/7 [==============================] - 0s 16ms/step - loss: 0.3361 - accuracy: 0.9348 - val_loss: 0.3300 - val_accuracy: 0.9320\n",
            "Epoch 6/20\n",
            "7/7 [==============================] - 0s 18ms/step - loss: 0.3113 - accuracy: 0.9233 - val_loss: 0.3019 - val_accuracy: 0.9402\n",
            "Epoch 7/20\n",
            "7/7 [==============================] - 0s 17ms/step - loss: 0.2817 - accuracy: 0.9299 - val_loss: 0.2804 - val_accuracy: 0.9422\n",
            "Epoch 8/20\n",
            "7/7 [==============================] - 0s 16ms/step - loss: 0.2632 - accuracy: 0.9379 - val_loss: 0.2606 - val_accuracy: 0.9473\n",
            "Epoch 9/20\n",
            "7/7 [==============================] - 0s 16ms/step - loss: 0.2373 - accuracy: 0.9481 - val_loss: 0.2428 - val_accuracy: 0.9523\n",
            "Epoch 10/20\n",
            "7/7 [==============================] - 0s 17ms/step - loss: 0.2229 - accuracy: 0.9657 - val_loss: 0.2281 - val_accuracy: 0.9544\n",
            "Epoch 11/20\n",
            "7/7 [==============================] - 0s 16ms/step - loss: 0.2155 - accuracy: 0.9590 - val_loss: 0.2150 - val_accuracy: 0.9584\n",
            "Epoch 12/20\n",
            "7/7 [==============================] - 0s 16ms/step - loss: 0.1834 - accuracy: 0.9738 - val_loss: 0.2036 - val_accuracy: 0.9584\n",
            "Epoch 13/20\n",
            "7/7 [==============================] - 0s 17ms/step - loss: 0.1671 - accuracy: 0.9828 - val_loss: 0.1931 - val_accuracy: 0.9615\n",
            "Epoch 14/20\n",
            "7/7 [==============================] - 0s 16ms/step - loss: 0.1527 - accuracy: 0.9915 - val_loss: 0.1838 - val_accuracy: 0.9635\n",
            "Epoch 15/20\n",
            "7/7 [==============================] - 0s 16ms/step - loss: 0.1595 - accuracy: 0.9904 - val_loss: 0.1746 - val_accuracy: 0.9686\n",
            "Epoch 16/20\n",
            "7/7 [==============================] - 0s 16ms/step - loss: 0.1473 - accuracy: 0.9937 - val_loss: 0.1674 - val_accuracy: 0.9686\n",
            "Epoch 17/20\n",
            "7/7 [==============================] - 0s 17ms/step - loss: 0.1412 - accuracy: 0.9944 - val_loss: 0.1604 - val_accuracy: 0.9706\n",
            "Epoch 18/20\n",
            "7/7 [==============================] - 0s 16ms/step - loss: 0.1242 - accuracy: 0.9931 - val_loss: 0.1539 - val_accuracy: 0.9706\n",
            "Epoch 19/20\n",
            "7/7 [==============================] - 0s 17ms/step - loss: 0.1224 - accuracy: 0.9931 - val_loss: 0.1482 - val_accuracy: 0.9716\n",
            "Epoch 20/20\n",
            "7/7 [==============================] - 0s 16ms/step - loss: 0.1096 - accuracy: 0.9912 - val_loss: 0.1431 - val_accuracy: 0.9716\n"
          ],
          "name": "stdout"
        }
      ]
    },
    {
      "cell_type": "code",
      "metadata": {
        "colab": {
          "base_uri": "https://localhost:8080/"
        },
        "id": "g9EMgmlBCmlP",
        "outputId": "3423ddf5-a487-41ae-94d0-58687eb1f8ab"
      },
      "source": [
        "model.summary()"
      ],
      "execution_count": 32,
      "outputs": [
        {
          "output_type": "stream",
          "text": [
            "Model: \"sequential_2\"\n",
            "_________________________________________________________________\n",
            "Layer (type)                 Output Shape              Param #   \n",
            "=================================================================\n",
            "flatten_2 (Flatten)          (None, 784)               0         \n",
            "_________________________________________________________________\n",
            "batch_normalization_3 (Batch (None, 784)               3136      \n",
            "_________________________________________________________________\n",
            "dense_104 (Dense)            (None, 300)               235200    \n",
            "_________________________________________________________________\n",
            "batch_normalization_4 (Batch (None, 300)               1200      \n",
            "_________________________________________________________________\n",
            "dense_105 (Dense)            (None, 100)               30000     \n",
            "_________________________________________________________________\n",
            "batch_normalization_5 (Batch (None, 100)               400       \n",
            "_________________________________________________________________\n",
            "dense_106 (Dense)            (None, 10)                1010      \n",
            "=================================================================\n",
            "Total params: 270,946\n",
            "Trainable params: 268,578\n",
            "Non-trainable params: 2,368\n",
            "_________________________________________________________________\n"
          ],
          "name": "stdout"
        }
      ]
    },
    {
      "cell_type": "code",
      "metadata": {
        "id": "2tjt4Df5Co7A"
      },
      "source": [
        "model_A = keras.models.load_model(\"my_model_A.h5\")\r\n",
        "model_B_on_A = keras.models.Sequential(model_A.layers[:-1])\r\n",
        "model_B_on_A.add(keras.layers.Dense(1, activation=\"sigmoid\"))"
      ],
      "execution_count": 34,
      "outputs": []
    },
    {
      "cell_type": "code",
      "metadata": {
        "id": "Jz2qSZO11UWM",
        "outputId": "e8f8e1b0-d8ec-4450-a8d1-4ea125609550",
        "colab": {
          "base_uri": "https://localhost:8080/"
        }
      },
      "source": [
        "model_A.summary()"
      ],
      "execution_count": 35,
      "outputs": [
        {
          "output_type": "stream",
          "text": [
            "Model: \"sequential_3\"\n",
            "_________________________________________________________________\n",
            "Layer (type)                 Output Shape              Param #   \n",
            "=================================================================\n",
            "flatten_3 (Flatten)          (None, 784)               0         \n",
            "_________________________________________________________________\n",
            "dense_107 (Dense)            (None, 300)               235500    \n",
            "_________________________________________________________________\n",
            "dense_108 (Dense)            (None, 100)               30100     \n",
            "_________________________________________________________________\n",
            "dense_109 (Dense)            (None, 50)                5050      \n",
            "_________________________________________________________________\n",
            "dense_110 (Dense)            (None, 50)                2550      \n",
            "_________________________________________________________________\n",
            "dense_111 (Dense)            (None, 50)                2550      \n",
            "_________________________________________________________________\n",
            "dense_112 (Dense)            (None, 8)                 408       \n",
            "=================================================================\n",
            "Total params: 276,158\n",
            "Trainable params: 276,158\n",
            "Non-trainable params: 0\n",
            "_________________________________________________________________\n"
          ],
          "name": "stdout"
        }
      ]
    },
    {
      "cell_type": "code",
      "metadata": {
        "id": "pdQFL7-z1XDB",
        "outputId": "d570b2e4-9406-487c-f8b2-dd1d00bc143c",
        "colab": {
          "base_uri": "https://localhost:8080/"
        }
      },
      "source": [
        "model_B_on_A.summary()"
      ],
      "execution_count": 36,
      "outputs": [
        {
          "output_type": "stream",
          "text": [
            "Model: \"sequential_6\"\n",
            "_________________________________________________________________\n",
            "Layer (type)                 Output Shape              Param #   \n",
            "=================================================================\n",
            "flatten_3 (Flatten)          (None, 784)               0         \n",
            "_________________________________________________________________\n",
            "dense_107 (Dense)            (None, 300)               235500    \n",
            "_________________________________________________________________\n",
            "dense_108 (Dense)            (None, 100)               30100     \n",
            "_________________________________________________________________\n",
            "dense_109 (Dense)            (None, 50)                5050      \n",
            "_________________________________________________________________\n",
            "dense_110 (Dense)            (None, 50)                2550      \n",
            "_________________________________________________________________\n",
            "dense_111 (Dense)            (None, 50)                2550      \n",
            "_________________________________________________________________\n",
            "dense_120 (Dense)            (None, 1)                 51        \n",
            "=================================================================\n",
            "Total params: 275,801\n",
            "Trainable params: 275,801\n",
            "Non-trainable params: 0\n",
            "_________________________________________________________________\n"
          ],
          "name": "stdout"
        }
      ]
    },
    {
      "cell_type": "code",
      "metadata": {
        "id": "5ETH09px1IUQ"
      },
      "source": [
        "model_A_clone = keras.models.clone_model(model_A)\r\n",
        "model_A_clone.set_weights(model_A.get_weights())"
      ],
      "execution_count": 37,
      "outputs": []
    },
    {
      "cell_type": "code",
      "metadata": {
        "id": "HVyaxDQs1tnr"
      },
      "source": [
        "for layer in model_B_on_A.layers[:-1]:\r\n",
        "  layer.trainable = False\r\n",
        "\r\n",
        "model_B_on_A.compile(loss=\"binary_crossentropy\",\r\n",
        "                     optimizer=keras.optimizers.SGD(learning_rate=1e-3),\r\n",
        "                     metrics=[\"accuracy\"])"
      ],
      "execution_count": 39,
      "outputs": []
    },
    {
      "cell_type": "code",
      "metadata": {
        "id": "htUXvpvW3lA5",
        "outputId": "c8dfbf40-49e1-4752-a394-bdc1bc7c346a",
        "colab": {
          "base_uri": "https://localhost:8080/"
        }
      },
      "source": [
        "history = model_B_on_A.fit(X_train_B, y_train_B, epochs=4,\r\n",
        "                           validation_data=(X_valid_B, y_valid_B))\r\n",
        "\r\n",
        "for layer in model_B_on_A.layers[:-1]:\r\n",
        "    layer.trainable = True\r\n",
        "\r\n",
        "model_B_on_A.compile(loss=\"binary_crossentropy\",\r\n",
        "                     optimizer=keras.optimizers.SGD(lr=1e-3),\r\n",
        "                     metrics=[\"accuracy\"])\r\n",
        "history = model_B_on_A.fit(X_train_B, y_train_B, epochs=16,\r\n",
        "                           validation_data=(X_valid_B, y_valid_B))"
      ],
      "execution_count": 40,
      "outputs": [
        {
          "output_type": "stream",
          "text": [
            "Epoch 1/4\n",
            "7/7 [==============================] - 1s 38ms/step - loss: 0.4701 - accuracy: 0.8218 - val_loss: 0.4436 - val_accuracy: 0.8174\n",
            "Epoch 2/4\n",
            "7/7 [==============================] - 0s 15ms/step - loss: 0.4001 - accuracy: 0.8649 - val_loss: 0.4145 - val_accuracy: 0.8306\n",
            "Epoch 3/4\n",
            "7/7 [==============================] - 0s 16ms/step - loss: 0.4021 - accuracy: 0.8326 - val_loss: 0.3880 - val_accuracy: 0.8458\n",
            "Epoch 4/4\n",
            "7/7 [==============================] - 0s 15ms/step - loss: 0.3533 - accuracy: 0.8887 - val_loss: 0.3650 - val_accuracy: 0.8529\n",
            "Epoch 1/16\n",
            "7/7 [==============================] - 1s 40ms/step - loss: 0.3287 - accuracy: 0.9006 - val_loss: 0.2487 - val_accuracy: 0.9523\n",
            "Epoch 2/16\n",
            "7/7 [==============================] - 0s 16ms/step - loss: 0.2008 - accuracy: 0.9877 - val_loss: 0.1968 - val_accuracy: 0.9797\n",
            "Epoch 3/16\n",
            "7/7 [==============================] - 0s 16ms/step - loss: 0.1694 - accuracy: 0.9931 - val_loss: 0.1655 - val_accuracy: 0.9899\n",
            "Epoch 4/16\n",
            "7/7 [==============================] - 0s 16ms/step - loss: 0.1336 - accuracy: 1.0000 - val_loss: 0.1452 - val_accuracy: 0.9919\n",
            "Epoch 5/16\n",
            "7/7 [==============================] - 0s 17ms/step - loss: 0.1141 - accuracy: 1.0000 - val_loss: 0.1302 - val_accuracy: 0.9929\n",
            "Epoch 6/16\n",
            "7/7 [==============================] - 0s 16ms/step - loss: 0.1139 - accuracy: 1.0000 - val_loss: 0.1188 - val_accuracy: 0.9919\n",
            "Epoch 7/16\n",
            "7/7 [==============================] - 0s 16ms/step - loss: 0.0997 - accuracy: 1.0000 - val_loss: 0.1098 - val_accuracy: 0.9919\n",
            "Epoch 8/16\n",
            "7/7 [==============================] - 0s 16ms/step - loss: 0.0881 - accuracy: 1.0000 - val_loss: 0.1020 - val_accuracy: 0.9919\n",
            "Epoch 9/16\n",
            "7/7 [==============================] - 0s 17ms/step - loss: 0.0789 - accuracy: 1.0000 - val_loss: 0.0955 - val_accuracy: 0.9919\n",
            "Epoch 10/16\n",
            "7/7 [==============================] - 0s 16ms/step - loss: 0.0704 - accuracy: 1.0000 - val_loss: 0.0901 - val_accuracy: 0.9919\n",
            "Epoch 11/16\n",
            "7/7 [==============================] - 0s 16ms/step - loss: 0.0658 - accuracy: 1.0000 - val_loss: 0.0853 - val_accuracy: 0.9919\n",
            "Epoch 12/16\n",
            "7/7 [==============================] - 0s 20ms/step - loss: 0.0694 - accuracy: 1.0000 - val_loss: 0.0810 - val_accuracy: 0.9919\n",
            "Epoch 13/16\n",
            "7/7 [==============================] - 0s 16ms/step - loss: 0.0577 - accuracy: 1.0000 - val_loss: 0.0772 - val_accuracy: 0.9919\n",
            "Epoch 14/16\n",
            "7/7 [==============================] - 0s 18ms/step - loss: 0.0549 - accuracy: 1.0000 - val_loss: 0.0740 - val_accuracy: 0.9919\n",
            "Epoch 15/16\n",
            "7/7 [==============================] - 0s 16ms/step - loss: 0.0552 - accuracy: 1.0000 - val_loss: 0.0711 - val_accuracy: 0.9919\n",
            "Epoch 16/16\n",
            "7/7 [==============================] - 0s 16ms/step - loss: 0.0489 - accuracy: 1.0000 - val_loss: 0.0684 - val_accuracy: 0.9919\n"
          ],
          "name": "stdout"
        }
      ]
    },
    {
      "cell_type": "code",
      "metadata": {
        "id": "aglIbgU34FIi",
        "outputId": "08b798a2-a857-43c9-ce84-e77f1b8549e1",
        "colab": {
          "base_uri": "https://localhost:8080/"
        }
      },
      "source": [
        "model_B.evaluate(X_test_B, y_test_B)"
      ],
      "execution_count": 41,
      "outputs": [
        {
          "output_type": "stream",
          "text": [
            "63/63 [==============================] - 0s 2ms/step - loss: 0.1408 - accuracy: 0.9705\n"
          ],
          "name": "stdout"
        },
        {
          "output_type": "execute_result",
          "data": {
            "text/plain": [
              "[0.14084088802337646, 0.9704999923706055]"
            ]
          },
          "metadata": {
            "tags": []
          },
          "execution_count": 41
        }
      ]
    },
    {
      "cell_type": "code",
      "metadata": {
        "id": "LMH9KIvs4InW",
        "outputId": "6864ad05-bee5-4f98-ab6a-6ba1226cdf9b",
        "colab": {
          "base_uri": "https://localhost:8080/"
        }
      },
      "source": [
        "model_B_on_A.evaluate(X_test_B, y_test_B)"
      ],
      "execution_count": 42,
      "outputs": [
        {
          "output_type": "stream",
          "text": [
            "63/63 [==============================] - 0s 2ms/step - loss: 0.0635 - accuracy: 0.9980\n"
          ],
          "name": "stdout"
        },
        {
          "output_type": "execute_result",
          "data": {
            "text/plain": [
              "[0.06347920745611191, 0.9980000257492065]"
            ]
          },
          "metadata": {
            "tags": []
          },
          "execution_count": 42
        }
      ]
    },
    {
      "cell_type": "code",
      "metadata": {
        "id": "aOm7TbHh4Ka_"
      },
      "source": [
        ""
      ],
      "execution_count": null,
      "outputs": []
    }
  ]
}