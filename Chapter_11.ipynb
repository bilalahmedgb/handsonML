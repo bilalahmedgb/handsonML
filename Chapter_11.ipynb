{
  "nbformat": 4,
  "nbformat_minor": 0,
  "metadata": {
    "colab": {
      "name": "Untitled0.ipynb",
      "provenance": [],
      "authorship_tag": "ABX9TyO9usCfnGpbaCJIa7YmsI25",
      "include_colab_link": true
    },
    "kernelspec": {
      "name": "python3",
      "display_name": "Python 3"
    }
  },
  "cells": [
    {
      "cell_type": "markdown",
      "metadata": {
        "id": "view-in-github",
        "colab_type": "text"
      },
      "source": [
        "<a href=\"https://colab.research.google.com/github/bilalahmedgb/handsonML/blob/main/Chapter_11.ipynb\" target=\"_parent\"><img src=\"https://colab.research.google.com/assets/colab-badge.svg\" alt=\"Open In Colab\"/></a>"
      ]
    },
    {
      "cell_type": "code",
      "metadata": {
        "id": "8FwDpfCKRWWs"
      },
      "source": [
        "import numpy as np\r\n",
        "import matplotlib.pyplot as plt\r\n",
        "import matplotlib as mpl"
      ],
      "execution_count": 2,
      "outputs": []
    },
    {
      "cell_type": "code",
      "metadata": {
        "id": "DLbgwXAdRqa2"
      },
      "source": [
        "import tensorflow as tf\r\n",
        "from tensorflow import keras"
      ],
      "execution_count": 3,
      "outputs": []
    },
    {
      "cell_type": "code",
      "metadata": {
        "id": "D0uGoaI_RTvi",
        "outputId": "3d6fc6b8-d842-48aa-fe3f-c303e4dac1e0",
        "colab": {
          "base_uri": "https://localhost:8080/"
        }
      },
      "source": [
        "(X_train_full, y_train_full), (X_test, y_test) = keras.datasets.fashion_mnist.load_data()\r\n",
        "\r\n",
        "X_train_full = X_train_full/255.\r\n",
        "X_test = X_test/255.\r\n",
        "\r\n",
        "X_valid, X_train = X_train_full[:5000], X_train_full[5000:]\r\n",
        "y_valid, y_train = y_train_full[:5000], y_train_full[5000:]\r\n"
      ],
      "execution_count": 4,
      "outputs": [
        {
          "output_type": "stream",
          "text": [
            "Downloading data from https://storage.googleapis.com/tensorflow/tf-keras-datasets/train-labels-idx1-ubyte.gz\n",
            "32768/29515 [=================================] - 0s 0us/step\n",
            "Downloading data from https://storage.googleapis.com/tensorflow/tf-keras-datasets/train-images-idx3-ubyte.gz\n",
            "26427392/26421880 [==============================] - 0s 0us/step\n",
            "Downloading data from https://storage.googleapis.com/tensorflow/tf-keras-datasets/t10k-labels-idx1-ubyte.gz\n",
            "8192/5148 [===============================================] - 0s 0us/step\n",
            "Downloading data from https://storage.googleapis.com/tensorflow/tf-keras-datasets/t10k-images-idx3-ubyte.gz\n",
            "4423680/4422102 [==============================] - 0s 0us/step\n"
          ],
          "name": "stdout"
        }
      ]
    },
    {
      "cell_type": "code",
      "metadata": {
        "id": "42KZvyUYUcTX"
      },
      "source": [
        "pixel_means = X_train.mean(axis=0, keepdims=True)\r\n",
        "pixel_stds = X_train.std(axis=0, keepdims=True)\r\n",
        "X_train_scaled = (X_train - pixel_means) / pixel_stds\r\n",
        "X_valid_scaled = (X_valid - pixel_means) / pixel_stds\r\n",
        "X_test_scaled = (X_test - pixel_means) / pixel_stds"
      ],
      "execution_count": 11,
      "outputs": []
    },
    {
      "cell_type": "code",
      "metadata": {
        "id": "FZG9gkN1SMDK"
      },
      "source": [
        "model = keras.models.Sequential()\r\n",
        "model.add(keras.layers.Flatten(input_shape=[28, 28]))\r\n",
        "model.add(keras.layers.Dense(300, activation=\"relu\", kernel_initializer=\"he_normal\"))\r\n",
        "for layer in range(99):\r\n",
        "  model.add(keras.layers.Dense(100, activation=\"relu\", kernel_initializer=\"he_normal\"))\r\n",
        "model.add(keras.layers.Dense(10, activation=\"softmax\"))"
      ],
      "execution_count": 7,
      "outputs": []
    },
    {
      "cell_type": "code",
      "metadata": {
        "id": "W3-Qyp-WT2m-"
      },
      "source": [
        "model.summary()"
      ],
      "execution_count": null,
      "outputs": []
    },
    {
      "cell_type": "code",
      "metadata": {
        "id": "dmUOdAoaUB94"
      },
      "source": [
        "model.compile(loss=\"sparse_categorical_crossentropy\",\r\n",
        "              optimizer=keras.optimizers.SGD(lr=1e-3),\r\n",
        "              metrics=[\"accuracy\"])"
      ],
      "execution_count": 10,
      "outputs": []
    },
    {
      "cell_type": "code",
      "metadata": {
        "id": "LO6dFI33USHo",
        "outputId": "8c5e05f7-ef1f-4297-c9e2-df1cd73c9738",
        "colab": {
          "base_uri": "https://localhost:8080/"
        }
      },
      "source": [
        "history = model.fit(X_train, y_train, epochs=5,\r\n",
        "                    validation_data=(X_valid_scaled, y_valid))  "
      ],
      "execution_count": 12,
      "outputs": [
        {
          "output_type": "stream",
          "text": [
            "Epoch 1/5\n",
            "1719/1719 [==============================] - 30s 16ms/step - loss: 2.1252 - accuracy: 0.1807 - val_loss: 3.1339 - val_accuracy: 0.1282\n",
            "Epoch 2/5\n",
            "1719/1719 [==============================] - 26s 15ms/step - loss: 1.8110 - accuracy: 0.2988 - val_loss: 2.7390 - val_accuracy: 0.1984\n",
            "Epoch 3/5\n",
            "1719/1719 [==============================] - 25s 15ms/step - loss: 1.2629 - accuracy: 0.4697 - val_loss: 2.3704 - val_accuracy: 0.3550\n",
            "Epoch 4/5\n",
            "1719/1719 [==============================] - 25s 15ms/step - loss: 1.0591 - accuracy: 0.5655 - val_loss: 1.9439 - val_accuracy: 0.4358\n",
            "Epoch 5/5\n",
            "1719/1719 [==============================] - 26s 15ms/step - loss: 0.8457 - accuracy: 0.6668 - val_loss: 1.6523 - val_accuracy: 0.4778\n"
          ],
          "name": "stdout"
        }
      ]
    },
    {
      "cell_type": "markdown",
      "metadata": {
        "id": "Z2EjkIJwVJmq"
      },
      "source": [
        "# Batch Normalization"
      ]
    },
    {
      "cell_type": "code",
      "metadata": {
        "id": "WX9ak8oIVJRR"
      },
      "source": [
        "model = keras.models.Sequential([\r\n",
        "              keras.layers.Flatten(input_shape=[28, 28]),\r\n",
        "              keras.layers.BatchNormalization(),\r\n",
        "              keras.layers.Dense(300, activation=\"relu\"),\r\n",
        "              keras.layers.BatchNormalization(),\r\n",
        "              keras.layers.Dense(100, activation=\"relu\"),\r\n",
        "              keras.layers.BatchNormalization(),\r\n",
        "              keras.layers.Dense(10, activation=\"softmax\")\r\n",
        "])"
      ],
      "execution_count": 13,
      "outputs": []
    },
    {
      "cell_type": "code",
      "metadata": {
        "id": "H0iIREeKVpa4",
        "outputId": "b2a775e7-cd19-46c4-a483-51aa93aff4c5",
        "colab": {
          "base_uri": "https://localhost:8080/"
        }
      },
      "source": [
        "model.summary()"
      ],
      "execution_count": 14,
      "outputs": [
        {
          "output_type": "stream",
          "text": [
            "Model: \"sequential_3\"\n",
            "_________________________________________________________________\n",
            "Layer (type)                 Output Shape              Param #   \n",
            "=================================================================\n",
            "flatten_2 (Flatten)          (None, 784)               0         \n",
            "_________________________________________________________________\n",
            "batch_normalization (BatchNo (None, 784)               3136      \n",
            "_________________________________________________________________\n",
            "dense_202 (Dense)            (None, 300)               235500    \n",
            "_________________________________________________________________\n",
            "batch_normalization_1 (Batch (None, 300)               1200      \n",
            "_________________________________________________________________\n",
            "dense_203 (Dense)            (None, 100)               30100     \n",
            "_________________________________________________________________\n",
            "batch_normalization_2 (Batch (None, 100)               400       \n",
            "_________________________________________________________________\n",
            "dense_204 (Dense)            (None, 10)                1010      \n",
            "=================================================================\n",
            "Total params: 271,346\n",
            "Trainable params: 268,978\n",
            "Non-trainable params: 2,368\n",
            "_________________________________________________________________\n"
          ],
          "name": "stdout"
        }
      ]
    },
    {
      "cell_type": "code",
      "metadata": {
        "id": "NmDeSFzHVrVV",
        "outputId": "7e66b7e3-e5ab-482a-df48-31d38a83f54c",
        "colab": {
          "base_uri": "https://localhost:8080/"
        }
      },
      "source": [
        "bn1 = model.layers[1]\r\n",
        "[(var.name, var.trainable) for var in bn1.variables] "
      ],
      "execution_count": 16,
      "outputs": [
        {
          "output_type": "execute_result",
          "data": {
            "text/plain": [
              "[('batch_normalization/gamma:0', True),\n",
              " ('batch_normalization/beta:0', True),\n",
              " ('batch_normalization/moving_mean:0', False),\n",
              " ('batch_normalization/moving_variance:0', False)]"
            ]
          },
          "metadata": {
            "tags": []
          },
          "execution_count": 16
        }
      ]
    },
    {
      "cell_type": "code",
      "metadata": {
        "id": "VFCJiWq8WASl"
      },
      "source": [
        "model.compile(loss=\"sparse_categorical_crossentropy\",\r\n",
        "              optimizer=keras.optimizers.SGD(lr=1e-3),\r\n",
        "              metrics=[\"accuracy\"])"
      ],
      "execution_count": 19,
      "outputs": []
    },
    {
      "cell_type": "code",
      "metadata": {
        "id": "3Tm_R_rQWW-H",
        "outputId": "7e29f45e-65cb-4b26-a288-f127596cf944",
        "colab": {
          "base_uri": "https://localhost:8080/"
        }
      },
      "source": [
        "history = model.fit(X_train, y_train, epochs=10,\r\n",
        "                    validation_data=(X_valid, y_valid))"
      ],
      "execution_count": 20,
      "outputs": [
        {
          "output_type": "stream",
          "text": [
            "Epoch 1/10\n",
            "1719/1719 [==============================] - 10s 5ms/step - loss: 1.1669 - accuracy: 0.6160 - val_loss: 0.5492 - val_accuracy: 0.8134\n",
            "Epoch 2/10\n",
            "1719/1719 [==============================] - 9s 5ms/step - loss: 0.5943 - accuracy: 0.7984 - val_loss: 0.4731 - val_accuracy: 0.8382\n",
            "Epoch 3/10\n",
            "1719/1719 [==============================] - 9s 5ms/step - loss: 0.5222 - accuracy: 0.8184 - val_loss: 0.4376 - val_accuracy: 0.8498\n",
            "Epoch 4/10\n",
            "1719/1719 [==============================] - 9s 5ms/step - loss: 0.4884 - accuracy: 0.8291 - val_loss: 0.4153 - val_accuracy: 0.8536\n",
            "Epoch 5/10\n",
            "1719/1719 [==============================] - 9s 6ms/step - loss: 0.4565 - accuracy: 0.8408 - val_loss: 0.4007 - val_accuracy: 0.8614\n",
            "Epoch 6/10\n",
            "1719/1719 [==============================] - 9s 5ms/step - loss: 0.4382 - accuracy: 0.8462 - val_loss: 0.3891 - val_accuracy: 0.8636\n",
            "Epoch 7/10\n",
            "1719/1719 [==============================] - 9s 5ms/step - loss: 0.4229 - accuracy: 0.8536 - val_loss: 0.3814 - val_accuracy: 0.8672\n",
            "Epoch 8/10\n",
            "1719/1719 [==============================] - 9s 5ms/step - loss: 0.4150 - accuracy: 0.8529 - val_loss: 0.3725 - val_accuracy: 0.8686\n",
            "Epoch 9/10\n",
            "1719/1719 [==============================] - 9s 5ms/step - loss: 0.4074 - accuracy: 0.8561 - val_loss: 0.3666 - val_accuracy: 0.8710\n",
            "Epoch 10/10\n",
            "1719/1719 [==============================] - 9s 5ms/step - loss: 0.4015 - accuracy: 0.8598 - val_loss: 0.3616 - val_accuracy: 0.8726\n"
          ],
          "name": "stdout"
        }
      ]
    },
    {
      "cell_type": "code",
      "metadata": {
        "id": "odL2xZy9Wd2d"
      },
      "source": [
        "#Creating model with use_bias=False"
      ],
      "execution_count": 21,
      "outputs": []
    },
    {
      "cell_type": "code",
      "metadata": {
        "id": "CayqfZXCXGKx"
      },
      "source": [
        "model = keras.models.Sequential([\r\n",
        "    keras.layers.Flatten(input_shape=[28, 28]),\r\n",
        "    keras.layers.BatchNormalization(),\r\n",
        "    keras.layers.Dense(300, activation=\"relu\", kernel_initializer=\"he_normal\", use_bias=False),\r\n",
        "    keras.layers.BatchNormalization(),\r\n",
        "    keras.layers.Dense(100, activation=\"relu\", kernel_initializer=\"he_normal\", use_bias=False),\r\n",
        "    keras.layers.BatchNormalization(),\r\n",
        "    keras.layers.Dense(10, activation=\"softmax\")\r\n",
        "])"
      ],
      "execution_count": 25,
      "outputs": []
    },
    {
      "cell_type": "code",
      "metadata": {
        "id": "I5x_u3GHXZq0"
      },
      "source": [
        "model.compile(loss=\"sparse_categorical_crossentropy\",\r\n",
        "              optimizer=keras.optimizers.SGD(lr=1e-3),\r\n",
        "              metrics=[\"accuracy\"])"
      ],
      "execution_count": 26,
      "outputs": []
    },
    {
      "cell_type": "code",
      "metadata": {
        "id": "A4ULPOgLXdzO",
        "outputId": "98c4ca8a-99d1-46b3-88cf-8a46d5304dd2",
        "colab": {
          "base_uri": "https://localhost:8080/"
        }
      },
      "source": [
        "history = model.fit(X_train, y_train, epochs=10,\r\n",
        "                    validation_data=(X_valid, y_valid))"
      ],
      "execution_count": 27,
      "outputs": [
        {
          "output_type": "stream",
          "text": [
            "Epoch 1/10\n",
            "1719/1719 [==============================] - 10s 6ms/step - loss: 1.2687 - accuracy: 0.5787 - val_loss: 0.5969 - val_accuracy: 0.8018\n",
            "Epoch 2/10\n",
            "1719/1719 [==============================] - 9s 5ms/step - loss: 0.6403 - accuracy: 0.7792 - val_loss: 0.5099 - val_accuracy: 0.8300\n",
            "Epoch 3/10\n",
            "1719/1719 [==============================] - 9s 5ms/step - loss: 0.5603 - accuracy: 0.8078 - val_loss: 0.4700 - val_accuracy: 0.8436\n",
            "Epoch 4/10\n",
            "1719/1719 [==============================] - 9s 5ms/step - loss: 0.5222 - accuracy: 0.8165 - val_loss: 0.4461 - val_accuracy: 0.8492\n",
            "Epoch 5/10\n",
            "1719/1719 [==============================] - 9s 5ms/step - loss: 0.4869 - accuracy: 0.8315 - val_loss: 0.4285 - val_accuracy: 0.8562\n",
            "Epoch 6/10\n",
            "1719/1719 [==============================] - 9s 5ms/step - loss: 0.4642 - accuracy: 0.8375 - val_loss: 0.4162 - val_accuracy: 0.8604\n",
            "Epoch 7/10\n",
            "1719/1719 [==============================] - 9s 5ms/step - loss: 0.4474 - accuracy: 0.8428 - val_loss: 0.4058 - val_accuracy: 0.8630\n",
            "Epoch 8/10\n",
            "1719/1719 [==============================] - 9s 5ms/step - loss: 0.4328 - accuracy: 0.8484 - val_loss: 0.3942 - val_accuracy: 0.8648\n",
            "Epoch 9/10\n",
            "1719/1719 [==============================] - 9s 5ms/step - loss: 0.4290 - accuracy: 0.8488 - val_loss: 0.3881 - val_accuracy: 0.8672\n",
            "Epoch 10/10\n",
            "1719/1719 [==============================] - 9s 5ms/step - loss: 0.4198 - accuracy: 0.8539 - val_loss: 0.3840 - val_accuracy: 0.8672\n"
          ],
          "name": "stdout"
        }
      ]
    },
    {
      "cell_type": "code",
      "metadata": {
        "id": "OS381hs0Xf_v"
      },
      "source": [
        ""
      ],
      "execution_count": null,
      "outputs": []
    }
  ]
}