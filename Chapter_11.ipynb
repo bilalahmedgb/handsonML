{
  "nbformat": 4,
  "nbformat_minor": 0,
  "metadata": {
    "colab": {
      "name": "Untitled0.ipynb",
      "provenance": [],
      "authorship_tag": "ABX9TyPTjpZEsuogEb+L0GAX9WSu",
      "include_colab_link": true
    },
    "kernelspec": {
      "name": "python3",
      "display_name": "Python 3"
    }
  },
  "cells": [
    {
      "cell_type": "markdown",
      "metadata": {
        "id": "view-in-github",
        "colab_type": "text"
      },
      "source": [
        "<a href=\"https://colab.research.google.com/github/bilalahmedgb/handsonML/blob/main/Chapter_11.ipynb\" target=\"_parent\"><img src=\"https://colab.research.google.com/assets/colab-badge.svg\" alt=\"Open In Colab\"/></a>"
      ]
    },
    {
      "cell_type": "code",
      "metadata": {
        "id": "8FwDpfCKRWWs"
      },
      "source": [
        "import numpy as np\r\n",
        "import matplotlib.pyplot as plt\r\n",
        "import matplotlib as mpl"
      ],
      "execution_count": 1,
      "outputs": []
    },
    {
      "cell_type": "code",
      "metadata": {
        "id": "DLbgwXAdRqa2"
      },
      "source": [
        "import tensorflow as tf\r\n",
        "from tensorflow import keras"
      ],
      "execution_count": 2,
      "outputs": []
    },
    {
      "cell_type": "code",
      "metadata": {
        "id": "D0uGoaI_RTvi",
        "colab": {
          "base_uri": "https://localhost:8080/"
        },
        "outputId": "03beb6c0-d933-4fa7-8250-7736c70c7207"
      },
      "source": [
        "(X_train_full, y_train_full), (X_test, y_test) = keras.datasets.fashion_mnist.load_data()\r\n",
        "\r\n",
        "X_train_full = X_train_full/255.\r\n",
        "X_test = X_test/255.\r\n",
        "\r\n",
        "X_valid, X_train = X_train_full[:5000], X_train_full[5000:]\r\n",
        "y_valid, y_train = y_train_full[:5000], y_train_full[5000:]\r\n"
      ],
      "execution_count": 3,
      "outputs": [
        {
          "output_type": "stream",
          "text": [
            "Downloading data from https://storage.googleapis.com/tensorflow/tf-keras-datasets/train-labels-idx1-ubyte.gz\n",
            "32768/29515 [=================================] - 0s 0us/step\n",
            "Downloading data from https://storage.googleapis.com/tensorflow/tf-keras-datasets/train-images-idx3-ubyte.gz\n",
            "26427392/26421880 [==============================] - 0s 0us/step\n",
            "Downloading data from https://storage.googleapis.com/tensorflow/tf-keras-datasets/t10k-labels-idx1-ubyte.gz\n",
            "8192/5148 [===============================================] - 0s 0us/step\n",
            "Downloading data from https://storage.googleapis.com/tensorflow/tf-keras-datasets/t10k-images-idx3-ubyte.gz\n",
            "4423680/4422102 [==============================] - 0s 0us/step\n"
          ],
          "name": "stdout"
        }
      ]
    },
    {
      "cell_type": "code",
      "metadata": {
        "id": "42KZvyUYUcTX"
      },
      "source": [
        "pixel_means = X_train.mean(axis=0, keepdims=True)\r\n",
        "pixel_stds = X_train.std(axis=0, keepdims=True)\r\n",
        "X_train_scaled = (X_train - pixel_means) / pixel_stds\r\n",
        "X_valid_scaled = (X_valid - pixel_means) / pixel_stds\r\n",
        "X_test_scaled = (X_test - pixel_means) / pixel_stds"
      ],
      "execution_count": 4,
      "outputs": []
    },
    {
      "cell_type": "code",
      "metadata": {
        "id": "FZG9gkN1SMDK"
      },
      "source": [
        "model = keras.models.Sequential()\r\n",
        "model.add(keras.layers.Flatten(input_shape=[28, 28]))\r\n",
        "model.add(keras.layers.Dense(300, activation=\"relu\", kernel_initializer=\"he_normal\"))\r\n",
        "for layer in range(99):\r\n",
        "  model.add(keras.layers.Dense(100, activation=\"relu\", kernel_initializer=\"he_normal\"))\r\n",
        "model.add(keras.layers.Dense(10, activation=\"softmax\"))"
      ],
      "execution_count": null,
      "outputs": []
    },
    {
      "cell_type": "code",
      "metadata": {
        "id": "W3-Qyp-WT2m-",
        "colab": {
          "base_uri": "https://localhost:8080/"
        },
        "outputId": "942a89d8-4c4a-488e-b5b8-78d707d80983"
      },
      "source": [
        "model.summary()"
      ],
      "execution_count": null,
      "outputs": [
        {
          "output_type": "stream",
          "text": [
            "Model: \"sequential\"\n",
            "_________________________________________________________________\n",
            "Layer (type)                 Output Shape              Param #   \n",
            "=================================================================\n",
            "flatten (Flatten)            (None, 784)               0         \n",
            "_________________________________________________________________\n",
            "dense (Dense)                (None, 300)               235500    \n",
            "_________________________________________________________________\n",
            "dense_1 (Dense)              (None, 100)               30100     \n",
            "_________________________________________________________________\n",
            "dense_2 (Dense)              (None, 100)               10100     \n",
            "_________________________________________________________________\n",
            "dense_3 (Dense)              (None, 100)               10100     \n",
            "_________________________________________________________________\n",
            "dense_4 (Dense)              (None, 100)               10100     \n",
            "_________________________________________________________________\n",
            "dense_5 (Dense)              (None, 100)               10100     \n",
            "_________________________________________________________________\n",
            "dense_6 (Dense)              (None, 100)               10100     \n",
            "_________________________________________________________________\n",
            "dense_7 (Dense)              (None, 100)               10100     \n",
            "_________________________________________________________________\n",
            "dense_8 (Dense)              (None, 100)               10100     \n",
            "_________________________________________________________________\n",
            "dense_9 (Dense)              (None, 100)               10100     \n",
            "_________________________________________________________________\n",
            "dense_10 (Dense)             (None, 100)               10100     \n",
            "_________________________________________________________________\n",
            "dense_11 (Dense)             (None, 100)               10100     \n",
            "_________________________________________________________________\n",
            "dense_12 (Dense)             (None, 100)               10100     \n",
            "_________________________________________________________________\n",
            "dense_13 (Dense)             (None, 100)               10100     \n",
            "_________________________________________________________________\n",
            "dense_14 (Dense)             (None, 100)               10100     \n",
            "_________________________________________________________________\n",
            "dense_15 (Dense)             (None, 100)               10100     \n",
            "_________________________________________________________________\n",
            "dense_16 (Dense)             (None, 100)               10100     \n",
            "_________________________________________________________________\n",
            "dense_17 (Dense)             (None, 100)               10100     \n",
            "_________________________________________________________________\n",
            "dense_18 (Dense)             (None, 100)               10100     \n",
            "_________________________________________________________________\n",
            "dense_19 (Dense)             (None, 100)               10100     \n",
            "_________________________________________________________________\n",
            "dense_20 (Dense)             (None, 100)               10100     \n",
            "_________________________________________________________________\n",
            "dense_21 (Dense)             (None, 100)               10100     \n",
            "_________________________________________________________________\n",
            "dense_22 (Dense)             (None, 100)               10100     \n",
            "_________________________________________________________________\n",
            "dense_23 (Dense)             (None, 100)               10100     \n",
            "_________________________________________________________________\n",
            "dense_24 (Dense)             (None, 100)               10100     \n",
            "_________________________________________________________________\n",
            "dense_25 (Dense)             (None, 100)               10100     \n",
            "_________________________________________________________________\n",
            "dense_26 (Dense)             (None, 100)               10100     \n",
            "_________________________________________________________________\n",
            "dense_27 (Dense)             (None, 100)               10100     \n",
            "_________________________________________________________________\n",
            "dense_28 (Dense)             (None, 100)               10100     \n",
            "_________________________________________________________________\n",
            "dense_29 (Dense)             (None, 100)               10100     \n",
            "_________________________________________________________________\n",
            "dense_30 (Dense)             (None, 100)               10100     \n",
            "_________________________________________________________________\n",
            "dense_31 (Dense)             (None, 100)               10100     \n",
            "_________________________________________________________________\n",
            "dense_32 (Dense)             (None, 100)               10100     \n",
            "_________________________________________________________________\n",
            "dense_33 (Dense)             (None, 100)               10100     \n",
            "_________________________________________________________________\n",
            "dense_34 (Dense)             (None, 100)               10100     \n",
            "_________________________________________________________________\n",
            "dense_35 (Dense)             (None, 100)               10100     \n",
            "_________________________________________________________________\n",
            "dense_36 (Dense)             (None, 100)               10100     \n",
            "_________________________________________________________________\n",
            "dense_37 (Dense)             (None, 100)               10100     \n",
            "_________________________________________________________________\n",
            "dense_38 (Dense)             (None, 100)               10100     \n",
            "_________________________________________________________________\n",
            "dense_39 (Dense)             (None, 100)               10100     \n",
            "_________________________________________________________________\n",
            "dense_40 (Dense)             (None, 100)               10100     \n",
            "_________________________________________________________________\n",
            "dense_41 (Dense)             (None, 100)               10100     \n",
            "_________________________________________________________________\n",
            "dense_42 (Dense)             (None, 100)               10100     \n",
            "_________________________________________________________________\n",
            "dense_43 (Dense)             (None, 100)               10100     \n",
            "_________________________________________________________________\n",
            "dense_44 (Dense)             (None, 100)               10100     \n",
            "_________________________________________________________________\n",
            "dense_45 (Dense)             (None, 100)               10100     \n",
            "_________________________________________________________________\n",
            "dense_46 (Dense)             (None, 100)               10100     \n",
            "_________________________________________________________________\n",
            "dense_47 (Dense)             (None, 100)               10100     \n",
            "_________________________________________________________________\n",
            "dense_48 (Dense)             (None, 100)               10100     \n",
            "_________________________________________________________________\n",
            "dense_49 (Dense)             (None, 100)               10100     \n",
            "_________________________________________________________________\n",
            "dense_50 (Dense)             (None, 100)               10100     \n",
            "_________________________________________________________________\n",
            "dense_51 (Dense)             (None, 100)               10100     \n",
            "_________________________________________________________________\n",
            "dense_52 (Dense)             (None, 100)               10100     \n",
            "_________________________________________________________________\n",
            "dense_53 (Dense)             (None, 100)               10100     \n",
            "_________________________________________________________________\n",
            "dense_54 (Dense)             (None, 100)               10100     \n",
            "_________________________________________________________________\n",
            "dense_55 (Dense)             (None, 100)               10100     \n",
            "_________________________________________________________________\n",
            "dense_56 (Dense)             (None, 100)               10100     \n",
            "_________________________________________________________________\n",
            "dense_57 (Dense)             (None, 100)               10100     \n",
            "_________________________________________________________________\n",
            "dense_58 (Dense)             (None, 100)               10100     \n",
            "_________________________________________________________________\n",
            "dense_59 (Dense)             (None, 100)               10100     \n",
            "_________________________________________________________________\n",
            "dense_60 (Dense)             (None, 100)               10100     \n",
            "_________________________________________________________________\n",
            "dense_61 (Dense)             (None, 100)               10100     \n",
            "_________________________________________________________________\n",
            "dense_62 (Dense)             (None, 100)               10100     \n",
            "_________________________________________________________________\n",
            "dense_63 (Dense)             (None, 100)               10100     \n",
            "_________________________________________________________________\n",
            "dense_64 (Dense)             (None, 100)               10100     \n",
            "_________________________________________________________________\n",
            "dense_65 (Dense)             (None, 100)               10100     \n",
            "_________________________________________________________________\n",
            "dense_66 (Dense)             (None, 100)               10100     \n",
            "_________________________________________________________________\n",
            "dense_67 (Dense)             (None, 100)               10100     \n",
            "_________________________________________________________________\n",
            "dense_68 (Dense)             (None, 100)               10100     \n",
            "_________________________________________________________________\n",
            "dense_69 (Dense)             (None, 100)               10100     \n",
            "_________________________________________________________________\n",
            "dense_70 (Dense)             (None, 100)               10100     \n",
            "_________________________________________________________________\n",
            "dense_71 (Dense)             (None, 100)               10100     \n",
            "_________________________________________________________________\n",
            "dense_72 (Dense)             (None, 100)               10100     \n",
            "_________________________________________________________________\n",
            "dense_73 (Dense)             (None, 100)               10100     \n",
            "_________________________________________________________________\n",
            "dense_74 (Dense)             (None, 100)               10100     \n",
            "_________________________________________________________________\n",
            "dense_75 (Dense)             (None, 100)               10100     \n",
            "_________________________________________________________________\n",
            "dense_76 (Dense)             (None, 100)               10100     \n",
            "_________________________________________________________________\n",
            "dense_77 (Dense)             (None, 100)               10100     \n",
            "_________________________________________________________________\n",
            "dense_78 (Dense)             (None, 100)               10100     \n",
            "_________________________________________________________________\n",
            "dense_79 (Dense)             (None, 100)               10100     \n",
            "_________________________________________________________________\n",
            "dense_80 (Dense)             (None, 100)               10100     \n",
            "_________________________________________________________________\n",
            "dense_81 (Dense)             (None, 100)               10100     \n",
            "_________________________________________________________________\n",
            "dense_82 (Dense)             (None, 100)               10100     \n",
            "_________________________________________________________________\n",
            "dense_83 (Dense)             (None, 100)               10100     \n",
            "_________________________________________________________________\n",
            "dense_84 (Dense)             (None, 100)               10100     \n",
            "_________________________________________________________________\n",
            "dense_85 (Dense)             (None, 100)               10100     \n",
            "_________________________________________________________________\n",
            "dense_86 (Dense)             (None, 100)               10100     \n",
            "_________________________________________________________________\n",
            "dense_87 (Dense)             (None, 100)               10100     \n",
            "_________________________________________________________________\n",
            "dense_88 (Dense)             (None, 100)               10100     \n",
            "_________________________________________________________________\n",
            "dense_89 (Dense)             (None, 100)               10100     \n",
            "_________________________________________________________________\n",
            "dense_90 (Dense)             (None, 100)               10100     \n",
            "_________________________________________________________________\n",
            "dense_91 (Dense)             (None, 100)               10100     \n",
            "_________________________________________________________________\n",
            "dense_92 (Dense)             (None, 100)               10100     \n",
            "_________________________________________________________________\n",
            "dense_93 (Dense)             (None, 100)               10100     \n",
            "_________________________________________________________________\n",
            "dense_94 (Dense)             (None, 100)               10100     \n",
            "_________________________________________________________________\n",
            "dense_95 (Dense)             (None, 100)               10100     \n",
            "_________________________________________________________________\n",
            "dense_96 (Dense)             (None, 100)               10100     \n",
            "_________________________________________________________________\n",
            "dense_97 (Dense)             (None, 100)               10100     \n",
            "_________________________________________________________________\n",
            "dense_98 (Dense)             (None, 100)               10100     \n",
            "_________________________________________________________________\n",
            "dense_99 (Dense)             (None, 100)               10100     \n",
            "_________________________________________________________________\n",
            "dense_100 (Dense)            (None, 10)                1010      \n",
            "=================================================================\n",
            "Total params: 1,256,410\n",
            "Trainable params: 1,256,410\n",
            "Non-trainable params: 0\n",
            "_________________________________________________________________\n"
          ],
          "name": "stdout"
        }
      ]
    },
    {
      "cell_type": "code",
      "metadata": {
        "id": "dmUOdAoaUB94"
      },
      "source": [
        "model.compile(loss=\"sparse_categorical_crossentropy\",\r\n",
        "              optimizer=keras.optimizers.SGD(lr=1e-3),\r\n",
        "              metrics=[\"accuracy\"])"
      ],
      "execution_count": null,
      "outputs": []
    },
    {
      "cell_type": "code",
      "metadata": {
        "id": "LO6dFI33USHo",
        "colab": {
          "base_uri": "https://localhost:8080/"
        },
        "outputId": "0160b900-fb6d-425e-be5d-7c6104cdad30"
      },
      "source": [
        "history = model.fit(X_train, y_train, epochs=5,\r\n",
        "                    validation_data=(X_valid_scaled, y_valid))  "
      ],
      "execution_count": null,
      "outputs": [
        {
          "output_type": "stream",
          "text": [
            "Epoch 1/5\n",
            "1719/1719 [==============================] - 29s 15ms/step - loss: 2.0861 - accuracy: 0.2030 - val_loss: 2.6179 - val_accuracy: 0.1498\n",
            "Epoch 2/5\n",
            "1719/1719 [==============================] - 25s 15ms/step - loss: 1.4446 - accuracy: 0.4142 - val_loss: 2.9312 - val_accuracy: 0.2716\n",
            "Epoch 3/5\n",
            "1719/1719 [==============================] - 25s 15ms/step - loss: 0.9774 - accuracy: 0.5859 - val_loss: 2.1276 - val_accuracy: 0.2328\n",
            "Epoch 4/5\n",
            "1719/1719 [==============================] - 25s 14ms/step - loss: 1.1251 - accuracy: 0.5357 - val_loss: 2.3639 - val_accuracy: 0.3226\n",
            "Epoch 5/5\n",
            "1719/1719 [==============================] - 25s 15ms/step - loss: 0.8905 - accuracy: 0.6432 - val_loss: 1.9392 - val_accuracy: 0.3848\n"
          ],
          "name": "stdout"
        }
      ]
    },
    {
      "cell_type": "markdown",
      "metadata": {
        "id": "Z2EjkIJwVJmq"
      },
      "source": [
        "# Batch Normalization"
      ]
    },
    {
      "cell_type": "code",
      "metadata": {
        "id": "WX9ak8oIVJRR"
      },
      "source": [
        "model = keras.models.Sequential([\r\n",
        "              keras.layers.Flatten(input_shape=[28, 28]),\r\n",
        "              keras.layers.BatchNormalization(),\r\n",
        "              keras.layers.Dense(300, activation=\"relu\"),\r\n",
        "              keras.layers.BatchNormalization(),\r\n",
        "              keras.layers.Dense(100, activation=\"relu\"),\r\n",
        "              keras.layers.BatchNormalization(),\r\n",
        "              keras.layers.Dense(10, activation=\"softmax\")\r\n",
        "])"
      ],
      "execution_count": null,
      "outputs": []
    },
    {
      "cell_type": "code",
      "metadata": {
        "id": "H0iIREeKVpa4",
        "colab": {
          "base_uri": "https://localhost:8080/"
        },
        "outputId": "6f9ccf60-1d0e-4058-c295-19299a9bc368"
      },
      "source": [
        "model.summary()"
      ],
      "execution_count": null,
      "outputs": [
        {
          "output_type": "stream",
          "text": [
            "Model: \"sequential_1\"\n",
            "_________________________________________________________________\n",
            "Layer (type)                 Output Shape              Param #   \n",
            "=================================================================\n",
            "flatten_1 (Flatten)          (None, 784)               0         \n",
            "_________________________________________________________________\n",
            "batch_normalization (BatchNo (None, 784)               3136      \n",
            "_________________________________________________________________\n",
            "dense_101 (Dense)            (None, 300)               235500    \n",
            "_________________________________________________________________\n",
            "batch_normalization_1 (Batch (None, 300)               1200      \n",
            "_________________________________________________________________\n",
            "dense_102 (Dense)            (None, 100)               30100     \n",
            "_________________________________________________________________\n",
            "batch_normalization_2 (Batch (None, 100)               400       \n",
            "_________________________________________________________________\n",
            "dense_103 (Dense)            (None, 10)                1010      \n",
            "=================================================================\n",
            "Total params: 271,346\n",
            "Trainable params: 268,978\n",
            "Non-trainable params: 2,368\n",
            "_________________________________________________________________\n"
          ],
          "name": "stdout"
        }
      ]
    },
    {
      "cell_type": "code",
      "metadata": {
        "id": "NmDeSFzHVrVV",
        "colab": {
          "base_uri": "https://localhost:8080/"
        },
        "outputId": "5513399e-33b2-4f2a-aa2b-086971db1e70"
      },
      "source": [
        "bn1 = model.layers[1]\r\n",
        "[(var.name, var.trainable) for var in bn1.variables] "
      ],
      "execution_count": null,
      "outputs": [
        {
          "output_type": "execute_result",
          "data": {
            "text/plain": [
              "[('batch_normalization/gamma:0', True),\n",
              " ('batch_normalization/beta:0', True),\n",
              " ('batch_normalization/moving_mean:0', False),\n",
              " ('batch_normalization/moving_variance:0', False)]"
            ]
          },
          "metadata": {
            "tags": []
          },
          "execution_count": 11
        }
      ]
    },
    {
      "cell_type": "code",
      "metadata": {
        "id": "VFCJiWq8WASl"
      },
      "source": [
        "model.compile(loss=\"sparse_categorical_crossentropy\",\r\n",
        "              optimizer=keras.optimizers.SGD(lr=1e-3),\r\n",
        "              metrics=[\"accuracy\"])"
      ],
      "execution_count": null,
      "outputs": []
    },
    {
      "cell_type": "code",
      "metadata": {
        "id": "3Tm_R_rQWW-H",
        "colab": {
          "base_uri": "https://localhost:8080/"
        },
        "outputId": "ee10ece5-9396-498c-aaac-77b91d33ca42"
      },
      "source": [
        "history = model.fit(X_train, y_train, epochs=10,\r\n",
        "                    validation_data=(X_valid, y_valid))"
      ],
      "execution_count": null,
      "outputs": [
        {
          "output_type": "stream",
          "text": [
            "Epoch 1/10\n",
            "1719/1719 [==============================] - 10s 5ms/step - loss: 1.1978 - accuracy: 0.6090 - val_loss: 0.5573 - val_accuracy: 0.8104\n",
            "Epoch 2/10\n",
            "1719/1719 [==============================] - 9s 5ms/step - loss: 0.5995 - accuracy: 0.7932 - val_loss: 0.4745 - val_accuracy: 0.8398\n",
            "Epoch 3/10\n",
            "1719/1719 [==============================] - 9s 5ms/step - loss: 0.5193 - accuracy: 0.8187 - val_loss: 0.4425 - val_accuracy: 0.8496\n",
            "Epoch 4/10\n",
            "1719/1719 [==============================] - 9s 5ms/step - loss: 0.4781 - accuracy: 0.8321 - val_loss: 0.4196 - val_accuracy: 0.8554\n",
            "Epoch 5/10\n",
            "1719/1719 [==============================] - 9s 5ms/step - loss: 0.4559 - accuracy: 0.8389 - val_loss: 0.4045 - val_accuracy: 0.8602\n",
            "Epoch 6/10\n",
            "1719/1719 [==============================] - 9s 5ms/step - loss: 0.4452 - accuracy: 0.8428 - val_loss: 0.3926 - val_accuracy: 0.8626\n",
            "Epoch 7/10\n",
            "1719/1719 [==============================] - 9s 5ms/step - loss: 0.4246 - accuracy: 0.8511 - val_loss: 0.3829 - val_accuracy: 0.8664\n",
            "Epoch 8/10\n",
            "1719/1719 [==============================] - 9s 5ms/step - loss: 0.4157 - accuracy: 0.8517 - val_loss: 0.3759 - val_accuracy: 0.8690\n",
            "Epoch 9/10\n",
            "1719/1719 [==============================] - 9s 5ms/step - loss: 0.4032 - accuracy: 0.8566 - val_loss: 0.3703 - val_accuracy: 0.8670\n",
            "Epoch 10/10\n",
            "1719/1719 [==============================] - 9s 5ms/step - loss: 0.3905 - accuracy: 0.8609 - val_loss: 0.3646 - val_accuracy: 0.8696\n"
          ],
          "name": "stdout"
        }
      ]
    },
    {
      "cell_type": "code",
      "metadata": {
        "id": "odL2xZy9Wd2d"
      },
      "source": [
        "#Creating model with use_bias=False"
      ],
      "execution_count": null,
      "outputs": []
    },
    {
      "cell_type": "code",
      "metadata": {
        "id": "CayqfZXCXGKx"
      },
      "source": [
        "model = keras.models.Sequential([\r\n",
        "    keras.layers.Flatten(input_shape=[28, 28]),\r\n",
        "    keras.layers.BatchNormalization(),\r\n",
        "    keras.layers.Dense(300, activation=\"relu\", kernel_initializer=\"he_normal\", use_bias=False),\r\n",
        "    keras.layers.BatchNormalization(),\r\n",
        "    keras.layers.Dense(100, activation=\"relu\", kernel_initializer=\"he_normal\", use_bias=False),\r\n",
        "    keras.layers.BatchNormalization(),\r\n",
        "    keras.layers.Dense(10, activation=\"softmax\")\r\n",
        "])"
      ],
      "execution_count": null,
      "outputs": []
    },
    {
      "cell_type": "code",
      "metadata": {
        "id": "I5x_u3GHXZq0"
      },
      "source": [
        "model.compile(loss=\"sparse_categorical_crossentropy\",\r\n",
        "              optimizer=keras.optimizers.SGD(lr=1e-3),\r\n",
        "              metrics=[\"accuracy\"])"
      ],
      "execution_count": null,
      "outputs": []
    },
    {
      "cell_type": "code",
      "metadata": {
        "id": "A4ULPOgLXdzO",
        "colab": {
          "base_uri": "https://localhost:8080/"
        },
        "outputId": "ad7a0452-4b2a-4593-adb3-4ba01a010711"
      },
      "source": [
        "history = model.fit(X_train, y_train, epochs=10,\r\n",
        "                    validation_data=(X_valid, y_valid))"
      ],
      "execution_count": null,
      "outputs": [
        {
          "output_type": "stream",
          "text": [
            "Epoch 1/10\n",
            "1719/1719 [==============================] - 10s 5ms/step - loss: 1.3101 - accuracy: 0.5696 - val_loss: 0.5867 - val_accuracy: 0.8040\n",
            "Epoch 2/10\n",
            "1719/1719 [==============================] - 10s 6ms/step - loss: 0.6449 - accuracy: 0.7792 - val_loss: 0.5023 - val_accuracy: 0.8316\n",
            "Epoch 3/10\n",
            "1719/1719 [==============================] - 9s 5ms/step - loss: 0.5698 - accuracy: 0.8052 - val_loss: 0.4625 - val_accuracy: 0.8418\n",
            "Epoch 4/10\n",
            "1719/1719 [==============================] - 9s 5ms/step - loss: 0.5230 - accuracy: 0.8179 - val_loss: 0.4385 - val_accuracy: 0.8498\n",
            "Epoch 5/10\n",
            "1719/1719 [==============================] - 9s 5ms/step - loss: 0.4918 - accuracy: 0.8300 - val_loss: 0.4205 - val_accuracy: 0.8554\n",
            "Epoch 6/10\n",
            "1719/1719 [==============================] - 9s 5ms/step - loss: 0.4736 - accuracy: 0.8344 - val_loss: 0.4090 - val_accuracy: 0.8600\n",
            "Epoch 7/10\n",
            "1719/1719 [==============================] - 14s 8ms/step - loss: 0.4602 - accuracy: 0.8396 - val_loss: 0.3982 - val_accuracy: 0.8626\n",
            "Epoch 8/10\n",
            "1719/1719 [==============================] - 9s 5ms/step - loss: 0.4483 - accuracy: 0.8421 - val_loss: 0.3890 - val_accuracy: 0.8646\n",
            "Epoch 9/10\n",
            "1719/1719 [==============================] - 9s 5ms/step - loss: 0.4327 - accuracy: 0.8490 - val_loss: 0.3815 - val_accuracy: 0.8688\n",
            "Epoch 10/10\n",
            "1719/1719 [==============================] - 9s 5ms/step - loss: 0.4180 - accuracy: 0.8530 - val_loss: 0.3757 - val_accuracy: 0.8682\n"
          ],
          "name": "stdout"
        }
      ]
    },
    {
      "cell_type": "markdown",
      "metadata": {
        "id": "9-r0W5A8-3Lo"
      },
      "source": [
        "# Reusing Pretrained Layers"
      ]
    },
    {
      "cell_type": "code",
      "metadata": {
        "id": "-Gvm3cIk-5tY"
      },
      "source": [
        "def split_dataset(X, y):\r\n",
        "    y_5_or_6 = (y == 5) | (y == 6) # sandals or shirts\r\n",
        "    y_A = y[~y_5_or_6]\r\n",
        "    y_A[y_A > 6] -= 2 # class indices 7, 8, 9 should be moved to 5, 6, 7\r\n",
        "    y_B = (y[y_5_or_6] == 6).astype(np.float32) # binary classification task: is it a shirt (class 6)?\r\n",
        "    return ((X[~y_5_or_6], y_A),\r\n",
        "            (X[y_5_or_6], y_B))"
      ],
      "execution_count": null,
      "outputs": []
    },
    {
      "cell_type": "code",
      "metadata": {
        "id": "cYrkdZOr-7Hy"
      },
      "source": [
        "(X_train_A, y_train_A), (X_train_B, y_train_B) = split_dataset(X_train, y_train)\r\n",
        "(X_valid_A, y_valid_A), (X_valid_B, y_valid_B) = split_dataset(X_valid, y_valid)\r\n",
        "(X_test_A, y_test_A), (X_test_B, y_test_B) = split_dataset(X_test, y_test)\r\n",
        "X_train_B = X_train_B[:200]\r\n",
        "y_train_B = y_train_B[:200]"
      ],
      "execution_count": null,
      "outputs": []
    },
    {
      "cell_type": "code",
      "metadata": {
        "id": "8VCUl4-3_fET"
      },
      "source": [
        "#type(y_train_B)"
      ],
      "execution_count": null,
      "outputs": []
    },
    {
      "cell_type": "code",
      "metadata": {
        "colab": {
          "base_uri": "https://localhost:8080/"
        },
        "id": "c2tQt1bH_CXc",
        "outputId": "624a82e5-f669-49f8-b31f-bec34b311fa8"
      },
      "source": [
        "y_train_A[:30]"
      ],
      "execution_count": null,
      "outputs": [
        {
          "output_type": "execute_result",
          "data": {
            "text/plain": [
              "array([4, 0, 5, 7, 7, 7, 4, 4, 3, 4, 0, 1, 6, 3, 4, 3, 2, 6, 5, 3, 4, 5,\n",
              "       1, 3, 4, 2, 0, 6, 7, 1], dtype=uint8)"
            ]
          },
          "metadata": {
            "tags": []
          },
          "execution_count": 9
        }
      ]
    },
    {
      "cell_type": "code",
      "metadata": {
        "colab": {
          "base_uri": "https://localhost:8080/"
        },
        "id": "NJ3jANL-_L8Y",
        "outputId": "51ba0066-a701-42c1-8f7d-09fa8d2468dc"
      },
      "source": [
        "y_train_B[:30]"
      ],
      "execution_count": null,
      "outputs": [
        {
          "output_type": "execute_result",
          "data": {
            "text/plain": [
              "array([1., 1., 0., 0., 0., 0., 1., 1., 1., 0., 0., 1., 1., 0., 0., 0., 0.,\n",
              "       0., 0., 1., 1., 0., 0., 1., 1., 0., 1., 1., 1., 1.], dtype=float32)"
            ]
          },
          "metadata": {
            "tags": []
          },
          "execution_count": 10
        }
      ]
    },
    {
      "cell_type": "code",
      "metadata": {
        "id": "3RNCqOop_R-N"
      },
      "source": [
        "tf.random.set_seed(42)\r\n",
        "np.random.seed(42)"
      ],
      "execution_count": null,
      "outputs": []
    },
    {
      "cell_type": "code",
      "metadata": {
        "id": "0rtdhPMI_1Go"
      },
      "source": [
        "model_A = keras.models.Sequential()\r\n",
        "model_A.add(keras.layers.Flatten(input_shape=[28,28]))\r\n",
        "\r\n",
        "for n_hidden in (300, 100, 50, 50, 50):\r\n",
        "  model_A.add(keras.layers.Dense(n_hidden, activation=\"selu\"))\r\n",
        "model_A.add(keras.layers.Dense(8, activation=\"softmax\"))"
      ],
      "execution_count": null,
      "outputs": []
    },
    {
      "cell_type": "code",
      "metadata": {
        "colab": {
          "base_uri": "https://localhost:8080/"
        },
        "id": "6fAWEilNAQaP",
        "outputId": "a94baf8f-d2cc-45b5-fa02-d1272a4bf359"
      },
      "source": [
        "model_A.summary()"
      ],
      "execution_count": null,
      "outputs": [
        {
          "output_type": "stream",
          "text": [
            "Model: \"sequential\"\n",
            "_________________________________________________________________\n",
            "Layer (type)                 Output Shape              Param #   \n",
            "=================================================================\n",
            "flatten (Flatten)            (None, 784)               0         \n",
            "_________________________________________________________________\n",
            "dense (Dense)                (None, 300)               235500    \n",
            "_________________________________________________________________\n",
            "dense_1 (Dense)              (None, 100)               30100     \n",
            "_________________________________________________________________\n",
            "dense_2 (Dense)              (None, 50)                5050      \n",
            "_________________________________________________________________\n",
            "dense_3 (Dense)              (None, 50)                2550      \n",
            "_________________________________________________________________\n",
            "dense_4 (Dense)              (None, 50)                2550      \n",
            "_________________________________________________________________\n",
            "dense_5 (Dense)              (None, 8)                 408       \n",
            "=================================================================\n",
            "Total params: 276,158\n",
            "Trainable params: 276,158\n",
            "Non-trainable params: 0\n",
            "_________________________________________________________________\n"
          ],
          "name": "stdout"
        }
      ]
    },
    {
      "cell_type": "code",
      "metadata": {
        "id": "0odVvBHJAc8L"
      },
      "source": [
        "model_A.compile(loss=\"sparse_categorical_crossentropy\",\r\n",
        "                optimizer=keras.optimizers.SGD(learning_rate=1e-3),\r\n",
        "                metrics=[\"accuracy\"])"
      ],
      "execution_count": null,
      "outputs": []
    },
    {
      "cell_type": "code",
      "metadata": {
        "colab": {
          "base_uri": "https://localhost:8080/"
        },
        "id": "OjFsuxhgAtG7",
        "outputId": "0c951f8e-64a3-49f9-a301-972e5bef6204"
      },
      "source": [
        "history = model_A.fit(X_train_A, y_train_A, epochs=20,\r\n",
        "                      validation_data=(X_valid_A, y_valid_A))"
      ],
      "execution_count": null,
      "outputs": [
        {
          "output_type": "stream",
          "text": [
            "Epoch 1/20\n",
            "1375/1375 [==============================] - 5s 4ms/step - loss: 0.9248 - accuracy: 0.6994 - val_loss: 0.3890 - val_accuracy: 0.8677\n",
            "Epoch 2/20\n",
            "1375/1375 [==============================] - 5s 3ms/step - loss: 0.3651 - accuracy: 0.8748 - val_loss: 0.3289 - val_accuracy: 0.8824\n",
            "Epoch 3/20\n",
            "1375/1375 [==============================] - 4s 3ms/step - loss: 0.3182 - accuracy: 0.8897 - val_loss: 0.3013 - val_accuracy: 0.8991\n",
            "Epoch 4/20\n",
            "1375/1375 [==============================] - 5s 3ms/step - loss: 0.3048 - accuracy: 0.8954 - val_loss: 0.2892 - val_accuracy: 0.9013\n",
            "Epoch 5/20\n",
            "1375/1375 [==============================] - 5s 3ms/step - loss: 0.2803 - accuracy: 0.9029 - val_loss: 0.2774 - val_accuracy: 0.9066\n",
            "Epoch 6/20\n",
            "1375/1375 [==============================] - 4s 3ms/step - loss: 0.2700 - accuracy: 0.9080 - val_loss: 0.2733 - val_accuracy: 0.9071\n",
            "Epoch 7/20\n",
            "1375/1375 [==============================] - 5s 3ms/step - loss: 0.2625 - accuracy: 0.9091 - val_loss: 0.2720 - val_accuracy: 0.9091\n",
            "Epoch 8/20\n",
            "1375/1375 [==============================] - 5s 3ms/step - loss: 0.2608 - accuracy: 0.9117 - val_loss: 0.2589 - val_accuracy: 0.9141\n",
            "Epoch 9/20\n",
            "1375/1375 [==============================] - 5s 3ms/step - loss: 0.2557 - accuracy: 0.9108 - val_loss: 0.2562 - val_accuracy: 0.9143\n",
            "Epoch 10/20\n",
            "1375/1375 [==============================] - 4s 3ms/step - loss: 0.2510 - accuracy: 0.9138 - val_loss: 0.2540 - val_accuracy: 0.9165\n",
            "Epoch 11/20\n",
            "1375/1375 [==============================] - 5s 3ms/step - loss: 0.2430 - accuracy: 0.9170 - val_loss: 0.2494 - val_accuracy: 0.9155\n",
            "Epoch 12/20\n",
            "1375/1375 [==============================] - 5s 3ms/step - loss: 0.2422 - accuracy: 0.9171 - val_loss: 0.2511 - val_accuracy: 0.9128\n",
            "Epoch 13/20\n",
            "1375/1375 [==============================] - 4s 3ms/step - loss: 0.2359 - accuracy: 0.9181 - val_loss: 0.2446 - val_accuracy: 0.9163\n",
            "Epoch 14/20\n",
            "1375/1375 [==============================] - 4s 3ms/step - loss: 0.2266 - accuracy: 0.9232 - val_loss: 0.2413 - val_accuracy: 0.9178\n",
            "Epoch 15/20\n",
            "1375/1375 [==============================] - 5s 3ms/step - loss: 0.2224 - accuracy: 0.9242 - val_loss: 0.2446 - val_accuracy: 0.9193\n",
            "Epoch 16/20\n",
            "1375/1375 [==============================] - 5s 4ms/step - loss: 0.2260 - accuracy: 0.9218 - val_loss: 0.2386 - val_accuracy: 0.9195\n",
            "Epoch 17/20\n",
            "1375/1375 [==============================] - 5s 4ms/step - loss: 0.2191 - accuracy: 0.9250 - val_loss: 0.2405 - val_accuracy: 0.9175\n",
            "Epoch 18/20\n",
            "1375/1375 [==============================] - 5s 4ms/step - loss: 0.2171 - accuracy: 0.9250 - val_loss: 0.2429 - val_accuracy: 0.9158\n",
            "Epoch 19/20\n",
            "1375/1375 [==============================] - 9s 7ms/step - loss: 0.2181 - accuracy: 0.9246 - val_loss: 0.2328 - val_accuracy: 0.9205\n",
            "Epoch 20/20\n",
            "1375/1375 [==============================] - 6s 4ms/step - loss: 0.2112 - accuracy: 0.9272 - val_loss: 0.2332 - val_accuracy: 0.9208\n"
          ],
          "name": "stdout"
        }
      ]
    },
    {
      "cell_type": "code",
      "metadata": {
        "id": "CEQsoPqlA2mW"
      },
      "source": [
        "model_A.save(\"my_model_A.h5\")"
      ],
      "execution_count": null,
      "outputs": []
    },
    {
      "cell_type": "code",
      "metadata": {
        "id": "VXznrnZ0BZmR"
      },
      "source": [
        "model_B = keras.models.Sequential()\r\n",
        "model_B.add(keras.layers.Flatten(input_shape=[28, 28]))\r\n",
        "for n_hidden in (300, 100, 50, 50, 50):\r\n",
        "    model_B.add(keras.layers.Dense(n_hidden, activation=\"selu\"))\r\n",
        "model_B.add(keras.layers.Dense(1, activation=\"sigmoid\"))"
      ],
      "execution_count": null,
      "outputs": []
    },
    {
      "cell_type": "code",
      "metadata": {
        "id": "OzaTkR62CgPc"
      },
      "source": [
        "model_B.compile(loss=\"binary_crossentropy\",\r\n",
        "                optimizer=keras.optimizers.SGD(lr=1e-3),\r\n",
        "                metrics=[\"accuracy\"])"
      ],
      "execution_count": null,
      "outputs": []
    },
    {
      "cell_type": "code",
      "metadata": {
        "colab": {
          "base_uri": "https://localhost:8080/"
        },
        "id": "5zI9BxikCiid",
        "outputId": "2033a24f-9690-4148-a36c-a6b01dfff24c"
      },
      "source": [
        "history = model_B.fit(X_train_B, y_train_B, epochs=20,\r\n",
        "                      validation_data=(X_valid_B, y_valid_B))"
      ],
      "execution_count": null,
      "outputs": [
        {
          "output_type": "stream",
          "text": [
            "Epoch 1/20\n",
            "7/7 [==============================] - 1s 40ms/step - loss: 1.0360 - accuracy: 0.4975 - val_loss: 0.6314 - val_accuracy: 0.6004\n",
            "Epoch 2/20\n",
            "7/7 [==============================] - 0s 16ms/step - loss: 0.5883 - accuracy: 0.6971 - val_loss: 0.4784 - val_accuracy: 0.8529\n",
            "Epoch 3/20\n",
            "7/7 [==============================] - 0s 16ms/step - loss: 0.4380 - accuracy: 0.8854 - val_loss: 0.4102 - val_accuracy: 0.8945\n",
            "Epoch 4/20\n",
            "7/7 [==============================] - 0s 16ms/step - loss: 0.4021 - accuracy: 0.8712 - val_loss: 0.3647 - val_accuracy: 0.9178\n",
            "Epoch 5/20\n",
            "7/7 [==============================] - 0s 16ms/step - loss: 0.3361 - accuracy: 0.9348 - val_loss: 0.3300 - val_accuracy: 0.9320\n",
            "Epoch 6/20\n",
            "7/7 [==============================] - 0s 18ms/step - loss: 0.3113 - accuracy: 0.9233 - val_loss: 0.3019 - val_accuracy: 0.9402\n",
            "Epoch 7/20\n",
            "7/7 [==============================] - 0s 17ms/step - loss: 0.2817 - accuracy: 0.9299 - val_loss: 0.2804 - val_accuracy: 0.9422\n",
            "Epoch 8/20\n",
            "7/7 [==============================] - 0s 16ms/step - loss: 0.2632 - accuracy: 0.9379 - val_loss: 0.2606 - val_accuracy: 0.9473\n",
            "Epoch 9/20\n",
            "7/7 [==============================] - 0s 16ms/step - loss: 0.2373 - accuracy: 0.9481 - val_loss: 0.2428 - val_accuracy: 0.9523\n",
            "Epoch 10/20\n",
            "7/7 [==============================] - 0s 17ms/step - loss: 0.2229 - accuracy: 0.9657 - val_loss: 0.2281 - val_accuracy: 0.9544\n",
            "Epoch 11/20\n",
            "7/7 [==============================] - 0s 16ms/step - loss: 0.2155 - accuracy: 0.9590 - val_loss: 0.2150 - val_accuracy: 0.9584\n",
            "Epoch 12/20\n",
            "7/7 [==============================] - 0s 16ms/step - loss: 0.1834 - accuracy: 0.9738 - val_loss: 0.2036 - val_accuracy: 0.9584\n",
            "Epoch 13/20\n",
            "7/7 [==============================] - 0s 17ms/step - loss: 0.1671 - accuracy: 0.9828 - val_loss: 0.1931 - val_accuracy: 0.9615\n",
            "Epoch 14/20\n",
            "7/7 [==============================] - 0s 16ms/step - loss: 0.1527 - accuracy: 0.9915 - val_loss: 0.1838 - val_accuracy: 0.9635\n",
            "Epoch 15/20\n",
            "7/7 [==============================] - 0s 16ms/step - loss: 0.1595 - accuracy: 0.9904 - val_loss: 0.1746 - val_accuracy: 0.9686\n",
            "Epoch 16/20\n",
            "7/7 [==============================] - 0s 16ms/step - loss: 0.1473 - accuracy: 0.9937 - val_loss: 0.1674 - val_accuracy: 0.9686\n",
            "Epoch 17/20\n",
            "7/7 [==============================] - 0s 17ms/step - loss: 0.1412 - accuracy: 0.9944 - val_loss: 0.1604 - val_accuracy: 0.9706\n",
            "Epoch 18/20\n",
            "7/7 [==============================] - 0s 16ms/step - loss: 0.1242 - accuracy: 0.9931 - val_loss: 0.1539 - val_accuracy: 0.9706\n",
            "Epoch 19/20\n",
            "7/7 [==============================] - 0s 17ms/step - loss: 0.1224 - accuracy: 0.9931 - val_loss: 0.1482 - val_accuracy: 0.9716\n",
            "Epoch 20/20\n",
            "7/7 [==============================] - 0s 16ms/step - loss: 0.1096 - accuracy: 0.9912 - val_loss: 0.1431 - val_accuracy: 0.9716\n"
          ],
          "name": "stdout"
        }
      ]
    },
    {
      "cell_type": "code",
      "metadata": {
        "colab": {
          "base_uri": "https://localhost:8080/"
        },
        "id": "g9EMgmlBCmlP",
        "outputId": "3423ddf5-a487-41ae-94d0-58687eb1f8ab"
      },
      "source": [
        "model.summary()"
      ],
      "execution_count": null,
      "outputs": [
        {
          "output_type": "stream",
          "text": [
            "Model: \"sequential_2\"\n",
            "_________________________________________________________________\n",
            "Layer (type)                 Output Shape              Param #   \n",
            "=================================================================\n",
            "flatten_2 (Flatten)          (None, 784)               0         \n",
            "_________________________________________________________________\n",
            "batch_normalization_3 (Batch (None, 784)               3136      \n",
            "_________________________________________________________________\n",
            "dense_104 (Dense)            (None, 300)               235200    \n",
            "_________________________________________________________________\n",
            "batch_normalization_4 (Batch (None, 300)               1200      \n",
            "_________________________________________________________________\n",
            "dense_105 (Dense)            (None, 100)               30000     \n",
            "_________________________________________________________________\n",
            "batch_normalization_5 (Batch (None, 100)               400       \n",
            "_________________________________________________________________\n",
            "dense_106 (Dense)            (None, 10)                1010      \n",
            "=================================================================\n",
            "Total params: 270,946\n",
            "Trainable params: 268,578\n",
            "Non-trainable params: 2,368\n",
            "_________________________________________________________________\n"
          ],
          "name": "stdout"
        }
      ]
    },
    {
      "cell_type": "code",
      "metadata": {
        "id": "2tjt4Df5Co7A"
      },
      "source": [
        "model_A = keras.models.load_model(\"my_model_A.h5\")\r\n",
        "model_B_on_A = keras.models.Sequential(model_A.layers[:-1])\r\n",
        "model_B_on_A.add(keras.layers.Dense(1, activation=\"sigmoid\"))"
      ],
      "execution_count": null,
      "outputs": []
    },
    {
      "cell_type": "code",
      "metadata": {
        "colab": {
          "base_uri": "https://localhost:8080/"
        },
        "id": "Jz2qSZO11UWM",
        "outputId": "e8f8e1b0-d8ec-4450-a8d1-4ea125609550"
      },
      "source": [
        "model_A.summary()"
      ],
      "execution_count": null,
      "outputs": [
        {
          "output_type": "stream",
          "text": [
            "Model: \"sequential_3\"\n",
            "_________________________________________________________________\n",
            "Layer (type)                 Output Shape              Param #   \n",
            "=================================================================\n",
            "flatten_3 (Flatten)          (None, 784)               0         \n",
            "_________________________________________________________________\n",
            "dense_107 (Dense)            (None, 300)               235500    \n",
            "_________________________________________________________________\n",
            "dense_108 (Dense)            (None, 100)               30100     \n",
            "_________________________________________________________________\n",
            "dense_109 (Dense)            (None, 50)                5050      \n",
            "_________________________________________________________________\n",
            "dense_110 (Dense)            (None, 50)                2550      \n",
            "_________________________________________________________________\n",
            "dense_111 (Dense)            (None, 50)                2550      \n",
            "_________________________________________________________________\n",
            "dense_112 (Dense)            (None, 8)                 408       \n",
            "=================================================================\n",
            "Total params: 276,158\n",
            "Trainable params: 276,158\n",
            "Non-trainable params: 0\n",
            "_________________________________________________________________\n"
          ],
          "name": "stdout"
        }
      ]
    },
    {
      "cell_type": "code",
      "metadata": {
        "colab": {
          "base_uri": "https://localhost:8080/"
        },
        "id": "pdQFL7-z1XDB",
        "outputId": "d570b2e4-9406-487c-f8b2-dd1d00bc143c"
      },
      "source": [
        "model_B_on_A.summary()"
      ],
      "execution_count": null,
      "outputs": [
        {
          "output_type": "stream",
          "text": [
            "Model: \"sequential_6\"\n",
            "_________________________________________________________________\n",
            "Layer (type)                 Output Shape              Param #   \n",
            "=================================================================\n",
            "flatten_3 (Flatten)          (None, 784)               0         \n",
            "_________________________________________________________________\n",
            "dense_107 (Dense)            (None, 300)               235500    \n",
            "_________________________________________________________________\n",
            "dense_108 (Dense)            (None, 100)               30100     \n",
            "_________________________________________________________________\n",
            "dense_109 (Dense)            (None, 50)                5050      \n",
            "_________________________________________________________________\n",
            "dense_110 (Dense)            (None, 50)                2550      \n",
            "_________________________________________________________________\n",
            "dense_111 (Dense)            (None, 50)                2550      \n",
            "_________________________________________________________________\n",
            "dense_120 (Dense)            (None, 1)                 51        \n",
            "=================================================================\n",
            "Total params: 275,801\n",
            "Trainable params: 275,801\n",
            "Non-trainable params: 0\n",
            "_________________________________________________________________\n"
          ],
          "name": "stdout"
        }
      ]
    },
    {
      "cell_type": "code",
      "metadata": {
        "id": "5ETH09px1IUQ"
      },
      "source": [
        "model_A_clone = keras.models.clone_model(model_A)\r\n",
        "model_A_clone.set_weights(model_A.get_weights())"
      ],
      "execution_count": null,
      "outputs": []
    },
    {
      "cell_type": "code",
      "metadata": {
        "id": "HVyaxDQs1tnr"
      },
      "source": [
        "for layer in model_B_on_A.layers[:-1]:\r\n",
        "  layer.trainable = False\r\n",
        "\r\n",
        "model_B_on_A.compile(loss=\"binary_crossentropy\",\r\n",
        "                     optimizer=keras.optimizers.SGD(learning_rate=1e-3),\r\n",
        "                     metrics=[\"accuracy\"])"
      ],
      "execution_count": null,
      "outputs": []
    },
    {
      "cell_type": "code",
      "metadata": {
        "colab": {
          "base_uri": "https://localhost:8080/"
        },
        "id": "htUXvpvW3lA5",
        "outputId": "c8dfbf40-49e1-4752-a394-bdc1bc7c346a"
      },
      "source": [
        "history = model_B_on_A.fit(X_train_B, y_train_B, epochs=4,\r\n",
        "                           validation_data=(X_valid_B, y_valid_B))\r\n",
        "\r\n",
        "for layer in model_B_on_A.layers[:-1]:\r\n",
        "    layer.trainable = True\r\n",
        "\r\n",
        "model_B_on_A.compile(loss=\"binary_crossentropy\",\r\n",
        "                     optimizer=keras.optimizers.SGD(lr=1e-3),\r\n",
        "                     metrics=[\"accuracy\"])\r\n",
        "history = model_B_on_A.fit(X_train_B, y_train_B, epochs=16,\r\n",
        "                           validation_data=(X_valid_B, y_valid_B))"
      ],
      "execution_count": null,
      "outputs": [
        {
          "output_type": "stream",
          "text": [
            "Epoch 1/4\n",
            "7/7 [==============================] - 1s 38ms/step - loss: 0.4701 - accuracy: 0.8218 - val_loss: 0.4436 - val_accuracy: 0.8174\n",
            "Epoch 2/4\n",
            "7/7 [==============================] - 0s 15ms/step - loss: 0.4001 - accuracy: 0.8649 - val_loss: 0.4145 - val_accuracy: 0.8306\n",
            "Epoch 3/4\n",
            "7/7 [==============================] - 0s 16ms/step - loss: 0.4021 - accuracy: 0.8326 - val_loss: 0.3880 - val_accuracy: 0.8458\n",
            "Epoch 4/4\n",
            "7/7 [==============================] - 0s 15ms/step - loss: 0.3533 - accuracy: 0.8887 - val_loss: 0.3650 - val_accuracy: 0.8529\n",
            "Epoch 1/16\n",
            "7/7 [==============================] - 1s 40ms/step - loss: 0.3287 - accuracy: 0.9006 - val_loss: 0.2487 - val_accuracy: 0.9523\n",
            "Epoch 2/16\n",
            "7/7 [==============================] - 0s 16ms/step - loss: 0.2008 - accuracy: 0.9877 - val_loss: 0.1968 - val_accuracy: 0.9797\n",
            "Epoch 3/16\n",
            "7/7 [==============================] - 0s 16ms/step - loss: 0.1694 - accuracy: 0.9931 - val_loss: 0.1655 - val_accuracy: 0.9899\n",
            "Epoch 4/16\n",
            "7/7 [==============================] - 0s 16ms/step - loss: 0.1336 - accuracy: 1.0000 - val_loss: 0.1452 - val_accuracy: 0.9919\n",
            "Epoch 5/16\n",
            "7/7 [==============================] - 0s 17ms/step - loss: 0.1141 - accuracy: 1.0000 - val_loss: 0.1302 - val_accuracy: 0.9929\n",
            "Epoch 6/16\n",
            "7/7 [==============================] - 0s 16ms/step - loss: 0.1139 - accuracy: 1.0000 - val_loss: 0.1188 - val_accuracy: 0.9919\n",
            "Epoch 7/16\n",
            "7/7 [==============================] - 0s 16ms/step - loss: 0.0997 - accuracy: 1.0000 - val_loss: 0.1098 - val_accuracy: 0.9919\n",
            "Epoch 8/16\n",
            "7/7 [==============================] - 0s 16ms/step - loss: 0.0881 - accuracy: 1.0000 - val_loss: 0.1020 - val_accuracy: 0.9919\n",
            "Epoch 9/16\n",
            "7/7 [==============================] - 0s 17ms/step - loss: 0.0789 - accuracy: 1.0000 - val_loss: 0.0955 - val_accuracy: 0.9919\n",
            "Epoch 10/16\n",
            "7/7 [==============================] - 0s 16ms/step - loss: 0.0704 - accuracy: 1.0000 - val_loss: 0.0901 - val_accuracy: 0.9919\n",
            "Epoch 11/16\n",
            "7/7 [==============================] - 0s 16ms/step - loss: 0.0658 - accuracy: 1.0000 - val_loss: 0.0853 - val_accuracy: 0.9919\n",
            "Epoch 12/16\n",
            "7/7 [==============================] - 0s 20ms/step - loss: 0.0694 - accuracy: 1.0000 - val_loss: 0.0810 - val_accuracy: 0.9919\n",
            "Epoch 13/16\n",
            "7/7 [==============================] - 0s 16ms/step - loss: 0.0577 - accuracy: 1.0000 - val_loss: 0.0772 - val_accuracy: 0.9919\n",
            "Epoch 14/16\n",
            "7/7 [==============================] - 0s 18ms/step - loss: 0.0549 - accuracy: 1.0000 - val_loss: 0.0740 - val_accuracy: 0.9919\n",
            "Epoch 15/16\n",
            "7/7 [==============================] - 0s 16ms/step - loss: 0.0552 - accuracy: 1.0000 - val_loss: 0.0711 - val_accuracy: 0.9919\n",
            "Epoch 16/16\n",
            "7/7 [==============================] - 0s 16ms/step - loss: 0.0489 - accuracy: 1.0000 - val_loss: 0.0684 - val_accuracy: 0.9919\n"
          ],
          "name": "stdout"
        }
      ]
    },
    {
      "cell_type": "code",
      "metadata": {
        "colab": {
          "base_uri": "https://localhost:8080/"
        },
        "id": "aglIbgU34FIi",
        "outputId": "08b798a2-a857-43c9-ce84-e77f1b8549e1"
      },
      "source": [
        "model_B.evaluate(X_test_B, y_test_B)"
      ],
      "execution_count": null,
      "outputs": [
        {
          "output_type": "stream",
          "text": [
            "63/63 [==============================] - 0s 2ms/step - loss: 0.1408 - accuracy: 0.9705\n"
          ],
          "name": "stdout"
        },
        {
          "output_type": "execute_result",
          "data": {
            "text/plain": [
              "[0.14084088802337646, 0.9704999923706055]"
            ]
          },
          "metadata": {
            "tags": []
          },
          "execution_count": 41
        }
      ]
    },
    {
      "cell_type": "code",
      "metadata": {
        "colab": {
          "base_uri": "https://localhost:8080/",
          "height": 163
        },
        "id": "LMH9KIvs4InW",
        "outputId": "a2232186-611b-4d27-b2d8-e8951830a564"
      },
      "source": [
        "model_B_on_A.evaluate(X_test_B, y_test_B)"
      ],
      "execution_count": null,
      "outputs": [
        {
          "output_type": "error",
          "ename": "NameError",
          "evalue": "ignored",
          "traceback": [
            "\u001b[0;31m---------------------------------------------------------------------------\u001b[0m",
            "\u001b[0;31mNameError\u001b[0m                                 Traceback (most recent call last)",
            "\u001b[0;32m<ipython-input-1-cf62c58a1dd2>\u001b[0m in \u001b[0;36m<module>\u001b[0;34m()\u001b[0m\n\u001b[0;32m----> 1\u001b[0;31m \u001b[0mmodel_B_on_A\u001b[0m\u001b[0;34m.\u001b[0m\u001b[0mevaluate\u001b[0m\u001b[0;34m(\u001b[0m\u001b[0mX_test_B\u001b[0m\u001b[0;34m,\u001b[0m \u001b[0my_test_B\u001b[0m\u001b[0;34m)\u001b[0m\u001b[0;34m\u001b[0m\u001b[0;34m\u001b[0m\u001b[0m\n\u001b[0m",
            "\u001b[0;31mNameError\u001b[0m: name 'model_B_on_A' is not defined"
          ]
        }
      ]
    },
    {
      "cell_type": "markdown",
      "metadata": {
        "id": "ifmH_XDb9yn4"
      },
      "source": [
        "# Learning Rate Scheduling"
      ]
    },
    {
      "cell_type": "code",
      "metadata": {
        "id": "AgwnRKni920z"
      },
      "source": [
        "# Power Scheduling"
      ],
      "execution_count": null,
      "outputs": []
    },
    {
      "cell_type": "code",
      "metadata": {
        "id": "34EiZxBV948F"
      },
      "source": [
        "optimizer = keras.optimizers.SGD(learning_rate=0.01, decay=1e-4)"
      ],
      "execution_count": null,
      "outputs": []
    },
    {
      "cell_type": "code",
      "metadata": {
        "id": "zOEAQTIf99_e"
      },
      "source": [
        "model = keras.models.Sequential([\r\n",
        "              keras.layers.Flatten(input_shape=[28, 28]),\r\n",
        "              keras.layers.Dense(300, activation=\"selu\", kernel_initializer=\"lecun_normal\"),\r\n",
        "              keras.layers.Dense(100, activation=\"selu\", kernel_initializer=\"lecun_normal\"),\r\n",
        "              keras.layers.Dense(10, activation=\"softmax\")\r\n",
        "])\r\n",
        "model.compile(loss=\"sparse_categorical_crossentropy\", optimizer=optimizer, metrics=[\"accuracy\"])"
      ],
      "execution_count": null,
      "outputs": []
    },
    {
      "cell_type": "code",
      "metadata": {
        "id": "Z6DYMIu2-i-o",
        "colab": {
          "base_uri": "https://localhost:8080/"
        },
        "outputId": "0b36a055-c7aa-4f87-9b3f-6c1b3e399ff0"
      },
      "source": [
        "n_epochs=25\r\n",
        "\r\n",
        "history = model.fit(X_train_scaled, y_train, epochs=n_epochs,\r\n",
        "                    validation_data=(X_valid_scaled, y_valid))"
      ],
      "execution_count": null,
      "outputs": [
        {
          "output_type": "stream",
          "text": [
            "Epoch 1/25\n",
            "1719/1719 [==============================] - 6s 3ms/step - loss: 0.6037 - accuracy: 0.7890 - val_loss: 0.4025 - val_accuracy: 0.8598\n",
            "Epoch 2/25\n",
            "1719/1719 [==============================] - 6s 3ms/step - loss: 0.3882 - accuracy: 0.8625 - val_loss: 0.3720 - val_accuracy: 0.8718\n",
            "Epoch 3/25\n",
            "1719/1719 [==============================] - 6s 3ms/step - loss: 0.3530 - accuracy: 0.8766 - val_loss: 0.3705 - val_accuracy: 0.8698\n",
            "Epoch 4/25\n",
            "1719/1719 [==============================] - 6s 3ms/step - loss: 0.3318 - accuracy: 0.8814 - val_loss: 0.3479 - val_accuracy: 0.8784\n",
            "Epoch 5/25\n",
            "1719/1719 [==============================] - 6s 3ms/step - loss: 0.3208 - accuracy: 0.8854 - val_loss: 0.3420 - val_accuracy: 0.8770\n",
            "Epoch 6/25\n",
            "1719/1719 [==============================] - 6s 3ms/step - loss: 0.2956 - accuracy: 0.8943 - val_loss: 0.3404 - val_accuracy: 0.8826\n",
            "Epoch 7/25\n",
            "1719/1719 [==============================] - 6s 3ms/step - loss: 0.2909 - accuracy: 0.8972 - val_loss: 0.3348 - val_accuracy: 0.8836\n",
            "Epoch 8/25\n",
            "1719/1719 [==============================] - 6s 3ms/step - loss: 0.2747 - accuracy: 0.9026 - val_loss: 0.3381 - val_accuracy: 0.8788\n",
            "Epoch 9/25\n",
            "1719/1719 [==============================] - 6s 3ms/step - loss: 0.2755 - accuracy: 0.9013 - val_loss: 0.3295 - val_accuracy: 0.8842\n",
            "Epoch 10/25\n",
            "1719/1719 [==============================] - 6s 3ms/step - loss: 0.2626 - accuracy: 0.9076 - val_loss: 0.3273 - val_accuracy: 0.8836\n",
            "Epoch 11/25\n",
            "1719/1719 [==============================] - 6s 3ms/step - loss: 0.2548 - accuracy: 0.9114 - val_loss: 0.3270 - val_accuracy: 0.8858\n",
            "Epoch 12/25\n",
            "1719/1719 [==============================] - 6s 3ms/step - loss: 0.2497 - accuracy: 0.9126 - val_loss: 0.3377 - val_accuracy: 0.8802\n",
            "Epoch 13/25\n",
            "1719/1719 [==============================] - 6s 3ms/step - loss: 0.2442 - accuracy: 0.9143 - val_loss: 0.3253 - val_accuracy: 0.8878\n",
            "Epoch 14/25\n",
            "1719/1719 [==============================] - 6s 4ms/step - loss: 0.2406 - accuracy: 0.9137 - val_loss: 0.3281 - val_accuracy: 0.8852\n",
            "Epoch 15/25\n",
            "1719/1719 [==============================] - 7s 4ms/step - loss: 0.2392 - accuracy: 0.9154 - val_loss: 0.3234 - val_accuracy: 0.8846\n",
            "Epoch 16/25\n",
            "1719/1719 [==============================] - 7s 4ms/step - loss: 0.2342 - accuracy: 0.9174 - val_loss: 0.3210 - val_accuracy: 0.8856\n",
            "Epoch 17/25\n",
            "1719/1719 [==============================] - 7s 4ms/step - loss: 0.2257 - accuracy: 0.9219 - val_loss: 0.3244 - val_accuracy: 0.8902\n",
            "Epoch 18/25\n",
            "1719/1719 [==============================] - 6s 3ms/step - loss: 0.2265 - accuracy: 0.9199 - val_loss: 0.3199 - val_accuracy: 0.8890\n",
            "Epoch 19/25\n",
            "1719/1719 [==============================] - 6s 4ms/step - loss: 0.2259 - accuracy: 0.9210 - val_loss: 0.3223 - val_accuracy: 0.8886\n",
            "Epoch 20/25\n",
            "1719/1719 [==============================] - 7s 4ms/step - loss: 0.2242 - accuracy: 0.9224 - val_loss: 0.3203 - val_accuracy: 0.8876\n",
            "Epoch 21/25\n",
            "1719/1719 [==============================] - 6s 4ms/step - loss: 0.2213 - accuracy: 0.9241 - val_loss: 0.3203 - val_accuracy: 0.8886\n",
            "Epoch 22/25\n",
            "1719/1719 [==============================] - 6s 3ms/step - loss: 0.2184 - accuracy: 0.9234 - val_loss: 0.3188 - val_accuracy: 0.8890\n",
            "Epoch 23/25\n",
            "1719/1719 [==============================] - 6s 4ms/step - loss: 0.2144 - accuracy: 0.9247 - val_loss: 0.3203 - val_accuracy: 0.8886\n",
            "Epoch 24/25\n",
            "1719/1719 [==============================] - 6s 3ms/step - loss: 0.2078 - accuracy: 0.9284 - val_loss: 0.3214 - val_accuracy: 0.8872\n",
            "Epoch 25/25\n",
            "1719/1719 [==============================] - 6s 4ms/step - loss: 0.2121 - accuracy: 0.9272 - val_loss: 0.3210 - val_accuracy: 0.8902\n"
          ],
          "name": "stdout"
        }
      ]
    },
    {
      "cell_type": "code",
      "metadata": {
        "id": "hEPuxu7H-77b",
        "colab": {
          "base_uri": "https://localhost:8080/",
          "height": 296
        },
        "outputId": "7e1cb6cd-bf0b-483b-cc9c-ccbca63425d6"
      },
      "source": [
        "learning_rate = 0.01\r\n",
        "decay = 1e-4\r\n",
        "batch_size = 32\r\n",
        "n_steps_per_epoch = len(X_train) // batch_size\r\n",
        "epochs = np.arange(n_epochs)\r\n",
        "lrs = learning_rate / (1 + decay * epochs * n_steps_per_epoch)\r\n",
        "\r\n",
        "plt.plot(epochs, lrs, \"o-\")\r\n",
        "plt.axis([0, n_epochs - 1, 0, 0.01])\r\n",
        "plt.xlabel(\"Epoch\")\r\n",
        "plt.ylabel(\"Learning Rate\")\r\n",
        "plt.title(\"Power Scheduling\", fontsize=14)\r\n",
        "plt.grid(True)\r\n",
        "plt.show()"
      ],
      "execution_count": null,
      "outputs": [
        {
          "output_type": "display_data",
          "data": {
            "image/png": "[encoded data removed]",
            "text/plain": [
              "<Figure size 432x288 with 1 Axes>"
            ]
          },
          "metadata": {
            "tags": [],
            "needs_background": "light"
          }
        }
      ]
    },
    {
      "cell_type": "code",
      "metadata": {
        "id": "snZtgkhB_5tC"
      },
      "source": [
        "# Exponential Scheduling"
      ],
      "execution_count": null,
      "outputs": []
    },
    {
      "cell_type": "code",
      "metadata": {
        "id": "Oz9ywpE1Achg"
      },
      "source": [
        "def exponential_decay_fn(epoch):\r\n",
        "  return 0.01 * 0.1**(epoch/20)"
      ],
      "execution_count": null,
      "outputs": []
    },
    {
      "cell_type": "code",
      "metadata": {
        "id": "GfgWAzM1AjR3"
      },
      "source": [
        "def exponential_decay(lr0, s):\r\n",
        "  def exponential_decay_fn(epoch):\r\n",
        "    return lr0 * 0.1**(epoch / s)\r\n",
        "  return exponential_decay_fn\r\n",
        "\r\n",
        "exponential_decay_fn = exponential_decay(lr0=0.01, s=20)"
      ],
      "execution_count": null,
      "outputs": []
    },
    {
      "cell_type": "code",
      "metadata": {
        "id": "RIA85MKYA8MB"
      },
      "source": [
        "model = keras.models.Sequential([\r\n",
        "                    keras.layers.Flatten(input_shape=[28, 28]),\r\n",
        "                    keras.layers.Dense(300, activation=\"selu\", kernel_initializer=\"lecun_normal\"),\r\n",
        "                    keras.layers.Dense(100, activation=\"selu\", kernel_initializer=\"lecun_normal\"),\r\n",
        "                    keras.layers.Dense(10, activation=\"softmax\")\r\n",
        "])\r\n",
        "\r\n",
        "model.compile(loss=\"sparse_categorical_crossentropy\", optimizer=\"nadam\", metrics=[\"accuracy\"])\r\n",
        "n_epochs = 25"
      ],
      "execution_count": null,
      "outputs": []
    },
    {
      "cell_type": "code",
      "metadata": {
        "id": "xw--bcaLBe1-",
        "colab": {
          "base_uri": "https://localhost:8080/"
        },
        "outputId": "80ff794d-122c-4c30-85e4-2e888ecf4530"
      },
      "source": [
        "lr_scheduler = keras.callbacks.LearningRateScheduler(exponential_decay_fn)\r\n",
        "history = model.fit(X_train_scaled, y_train, epochs=n_epochs,\r\n",
        "                    validation_data=(X_valid_scaled, y_valid),\r\n",
        "                    callbacks=[lr_scheduler])"
      ],
      "execution_count": null,
      "outputs": [
        {
          "output_type": "stream",
          "text": [
            "Epoch 1/25\n",
            "1719/1719 [==============================] - 12s 7ms/step - loss: 1.0979 - accuracy: 0.7331 - val_loss: 0.9395 - val_accuracy: 0.6994\n",
            "Epoch 2/25\n",
            "1719/1719 [==============================] - 11s 6ms/step - loss: 0.8030 - accuracy: 0.7674 - val_loss: 0.6111 - val_accuracy: 0.8294\n",
            "Epoch 3/25\n",
            "1719/1719 [==============================] - 11s 6ms/step - loss: 0.6610 - accuracy: 0.8077 - val_loss: 0.7778 - val_accuracy: 0.7658\n",
            "Epoch 4/25\n",
            "1719/1719 [==============================] - 11s 6ms/step - loss: 0.6482 - accuracy: 0.8182 - val_loss: 0.5523 - val_accuracy: 0.8358\n",
            "Epoch 5/25\n",
            "1719/1719 [==============================] - 11s 6ms/step - loss: 0.5417 - accuracy: 0.8346 - val_loss: 0.5322 - val_accuracy: 0.8516\n",
            "Epoch 6/25\n",
            "1719/1719 [==============================] - 11s 7ms/step - loss: 0.5190 - accuracy: 0.8504 - val_loss: 0.5443 - val_accuracy: 0.8674\n",
            "Epoch 7/25\n",
            "1719/1719 [==============================] - 11s 6ms/step - loss: 0.4439 - accuracy: 0.8687 - val_loss: 0.5361 - val_accuracy: 0.8344\n",
            "Epoch 8/25\n",
            "1719/1719 [==============================] - 11s 6ms/step - loss: 0.4183 - accuracy: 0.8737 - val_loss: 0.5145 - val_accuracy: 0.8530\n",
            "Epoch 9/25\n",
            "1719/1719 [==============================] - 11s 6ms/step - loss: 0.3916 - accuracy: 0.8796 - val_loss: 0.6011 - val_accuracy: 0.8602\n",
            "Epoch 10/25\n",
            "1719/1719 [==============================] - 11s 6ms/step - loss: 0.3673 - accuracy: 0.8884 - val_loss: 0.4976 - val_accuracy: 0.8790\n",
            "Epoch 11/25\n",
            "1719/1719 [==============================] - 11s 6ms/step - loss: 0.3307 - accuracy: 0.8968 - val_loss: 0.4745 - val_accuracy: 0.8756\n",
            "Epoch 12/25\n",
            "1719/1719 [==============================] - 11s 6ms/step - loss: 0.3218 - accuracy: 0.9003 - val_loss: 0.4963 - val_accuracy: 0.8694\n",
            "Epoch 13/25\n",
            "1719/1719 [==============================] - 11s 6ms/step - loss: 0.2879 - accuracy: 0.9092 - val_loss: 0.4629 - val_accuracy: 0.8792\n",
            "Epoch 14/25\n",
            "1719/1719 [==============================] - 11s 6ms/step - loss: 0.2622 - accuracy: 0.9138 - val_loss: 0.4542 - val_accuracy: 0.8776\n",
            "Epoch 15/25\n",
            "1719/1719 [==============================] - 11s 6ms/step - loss: 0.2525 - accuracy: 0.9172 - val_loss: 0.4396 - val_accuracy: 0.8850\n",
            "Epoch 16/25\n",
            "1719/1719 [==============================] - 11s 6ms/step - loss: 0.2277 - accuracy: 0.9255 - val_loss: 0.4460 - val_accuracy: 0.8870\n",
            "Epoch 17/25\n",
            "1719/1719 [==============================] - 11s 6ms/step - loss: 0.2055 - accuracy: 0.9329 - val_loss: 0.5007 - val_accuracy: 0.8828\n",
            "Epoch 18/25\n",
            "1719/1719 [==============================] - 11s 6ms/step - loss: 0.2031 - accuracy: 0.9327 - val_loss: 0.4845 - val_accuracy: 0.8862\n",
            "Epoch 19/25\n",
            "1719/1719 [==============================] - 11s 6ms/step - loss: 0.1815 - accuracy: 0.9426 - val_loss: 0.5233 - val_accuracy: 0.8918\n",
            "Epoch 20/25\n",
            "1719/1719 [==============================] - 11s 6ms/step - loss: 0.1690 - accuracy: 0.9452 - val_loss: 0.4976 - val_accuracy: 0.8850\n",
            "Epoch 21/25\n",
            "1719/1719 [==============================] - 11s 6ms/step - loss: 0.1550 - accuracy: 0.9502 - val_loss: 0.5202 - val_accuracy: 0.8874\n",
            "Epoch 22/25\n",
            "1719/1719 [==============================] - 11s 6ms/step - loss: 0.1505 - accuracy: 0.9512 - val_loss: 0.5287 - val_accuracy: 0.8944\n",
            "Epoch 23/25\n",
            "1719/1719 [==============================] - 11s 6ms/step - loss: 0.1331 - accuracy: 0.9593 - val_loss: 0.5678 - val_accuracy: 0.8868\n",
            "Epoch 24/25\n",
            "1719/1719 [==============================] - 11s 6ms/step - loss: 0.1244 - accuracy: 0.9614 - val_loss: 0.5783 - val_accuracy: 0.8890\n",
            "Epoch 25/25\n",
            "1719/1719 [==============================] - 11s 6ms/step - loss: 0.1148 - accuracy: 0.9643 - val_loss: 0.5958 - val_accuracy: 0.8898\n"
          ],
          "name": "stdout"
        }
      ]
    },
    {
      "cell_type": "code",
      "metadata": {
        "id": "hcm1jC1_Bvtp",
        "colab": {
          "base_uri": "https://localhost:8080/",
          "height": 296
        },
        "outputId": "6b9cefa7-d186-437a-d26a-c6b96bb99ecf"
      },
      "source": [
        "plt.plot(history.epoch, history.history[\"lr\"], \"o-\")\r\n",
        "plt.axis([0, n_epochs-1, 0, 0.011])\r\n",
        "plt.xlabel(\"Epoch\")\r\n",
        "plt.ylabel(\"Learning Rate\")\r\n",
        "plt.title(\"Exponential Scheduling\", fontsize=14)\r\n",
        "plt.grid(True)\r\n",
        "plt.show()"
      ],
      "execution_count": null,
      "outputs": [
        {
          "output_type": "display_data",
          "data": {
            "image/png": "[encoded data removed]",
            "text/plain": [
              "<Figure size 432x288 with 1 Axes>"
            ]
          },
          "metadata": {
            "tags": [],
            "needs_background": "light"
          }
        }
      ]
    },
    {
      "cell_type": "markdown",
      "metadata": {
        "id": "lIgMN9vEumh5"
      },
      "source": [
        "# Deep Learning on CIFAR10"
      ]
    },
    {
      "cell_type": "code",
      "metadata": {
        "id": "WBjFsEn6uh4I"
      },
      "source": [
        "keras.backend.clear_session()\r\n",
        "tf.random.set_seed(42)\r\n",
        "np.random.seed(42)\r\n",
        "import os"
      ],
      "execution_count": 11,
      "outputs": []
    },
    {
      "cell_type": "code",
      "metadata": {
        "id": "9IDmdZtnvdCN"
      },
      "source": [
        "model = keras.models.Sequential()\r\n",
        "model.add(keras.layers.Flatten(input_shape=[32, 32, 3]))\r\n",
        "for _ in range(20):\r\n",
        "  model.add(keras.layers.Dense(100, \r\n",
        "                               activation=\"elu\",\r\n",
        "                               kernel_initializer=\"he_normal\"))"
      ],
      "execution_count": 7,
      "outputs": []
    },
    {
      "cell_type": "code",
      "metadata": {
        "id": "evLRFp6ZwA_y"
      },
      "source": [
        "model.add(keras.layers.Dense(10, activation=\"softmax\"))"
      ],
      "execution_count": 8,
      "outputs": []
    },
    {
      "cell_type": "code",
      "metadata": {
        "id": "JO8PxxEaxId7"
      },
      "source": [
        "optimizer = keras.optimizers.Nadam(learning_rate=5e-5)\r\n",
        "model.compile(loss=\"sparse_categorical_crossentropy\",\r\n",
        "              optimizer=optimizer,\r\n",
        "              metrics=[\"accuracy\"])"
      ],
      "execution_count": 9,
      "outputs": []
    },
    {
      "cell_type": "code",
      "metadata": {
        "id": "mGSmeWNzyFdI",
        "outputId": "1cc641ce-ff2a-4ad1-d515-f89331861b20",
        "colab": {
          "base_uri": "https://localhost:8080/"
        }
      },
      "source": [
        "(X_train_full, y_train_full), (X_test, y_test) = keras.datasets.cifar10.load_data()\r\n",
        "\r\n",
        "X_train = X_train_full[5000:]\r\n",
        "y_train = y_train_full[5000:]\r\n",
        "X_valid = X_train_full[:5000]\r\n",
        "y_valid = y_train_full[:5000]"
      ],
      "execution_count": 10,
      "outputs": [
        {
          "output_type": "stream",
          "text": [
            "Downloading data from https://www.cs.toronto.edu/~kriz/cifar-10-python.tar.gz\n",
            "170500096/170498071 [==============================] - 3s 0us/step\n"
          ],
          "name": "stdout"
        }
      ]
    },
    {
      "cell_type": "code",
      "metadata": {
        "id": "JPPKySsVyrWo"
      },
      "source": [
        "early_stopping_cb = keras.callbacks.EarlyStopping(patience=20)\r\n",
        "model_checkpoint_cb = keras.callbacks.ModelCheckpoint(\"my_cifar10_model.h5\", save_best_only=True)\r\n",
        "run_index = 1\r\n",
        "run_logdir = os.path.join(os.curdir, \"my_cifar10_logs\", \"run_{:03d}\".format(run_index))\r\n",
        "tensorboard_cb = keras.callbacks.TensorBoard(run_logdir)\r\n",
        "callbacks = [early_stopping_cb, model_checkpoint_cb, tensorboard_cb]"
      ],
      "execution_count": 13,
      "outputs": []
    },
    {
      "cell_type": "code",
      "metadata": {
        "id": "dGGpHcKKz8dc",
        "outputId": "3106e7b7-914d-4979-c26e-1718adc96566",
        "colab": {
          "base_uri": "https://localhost:8080/"
        }
      },
      "source": [
        "model.fit(X_train, y_train, epochs=100,\r\n",
        "          validation_data=(X_valid, y_valid),\r\n",
        "          callbacks=callbacks)"
      ],
      "execution_count": 14,
      "outputs": [
        {
          "output_type": "stream",
          "text": [
            "Epoch 1/100\n",
            "1407/1407 [==============================] - 23s 14ms/step - loss: 9.8803 - accuracy: 0.1323 - val_loss: 2.1512 - val_accuracy: 0.2278\n",
            "Epoch 2/100\n",
            "1407/1407 [==============================] - 19s 13ms/step - loss: 2.0979 - accuracy: 0.2324 - val_loss: 2.0026 - val_accuracy: 0.2490\n",
            "Epoch 3/100\n",
            "1407/1407 [==============================] - 19s 14ms/step - loss: 1.9602 - accuracy: 0.2819 - val_loss: 1.9251 - val_accuracy: 0.2912\n",
            "Epoch 4/100\n",
            "1407/1407 [==============================] - 19s 14ms/step - loss: 1.8670 - accuracy: 0.3167 - val_loss: 1.8850 - val_accuracy: 0.3184\n",
            "Epoch 5/100\n",
            "1407/1407 [==============================] - 19s 14ms/step - loss: 1.8039 - accuracy: 0.3459 - val_loss: 1.7782 - val_accuracy: 0.3392\n",
            "Epoch 6/100\n",
            "1407/1407 [==============================] - 19s 14ms/step - loss: 1.7543 - accuracy: 0.3632 - val_loss: 1.7527 - val_accuracy: 0.3582\n",
            "Epoch 7/100\n",
            "1407/1407 [==============================] - 19s 14ms/step - loss: 1.7117 - accuracy: 0.3805 - val_loss: 1.7397 - val_accuracy: 0.3586\n",
            "Epoch 8/100\n",
            "1407/1407 [==============================] - 19s 13ms/step - loss: 1.6737 - accuracy: 0.3937 - val_loss: 1.6730 - val_accuracy: 0.3878\n",
            "Epoch 9/100\n",
            "1407/1407 [==============================] - 19s 13ms/step - loss: 1.6453 - accuracy: 0.4076 - val_loss: 1.6641 - val_accuracy: 0.3884\n",
            "Epoch 10/100\n",
            "1407/1407 [==============================] - 19s 14ms/step - loss: 1.6169 - accuracy: 0.4166 - val_loss: 1.6802 - val_accuracy: 0.3904\n",
            "Epoch 11/100\n",
            "1407/1407 [==============================] - 19s 14ms/step - loss: 1.5974 - accuracy: 0.4242 - val_loss: 1.6668 - val_accuracy: 0.3930\n",
            "Epoch 12/100\n",
            "1407/1407 [==============================] - 19s 13ms/step - loss: 1.5717 - accuracy: 0.4320 - val_loss: 1.6273 - val_accuracy: 0.4110\n",
            "Epoch 13/100\n",
            "1407/1407 [==============================] - 19s 14ms/step - loss: 1.5510 - accuracy: 0.4423 - val_loss: 1.6187 - val_accuracy: 0.4170\n",
            "Epoch 14/100\n",
            "1407/1407 [==============================] - 18s 13ms/step - loss: 1.5227 - accuracy: 0.4520 - val_loss: 1.6035 - val_accuracy: 0.4274\n",
            "Epoch 15/100\n",
            "1407/1407 [==============================] - 19s 13ms/step - loss: 1.5222 - accuracy: 0.4489 - val_loss: 1.5885 - val_accuracy: 0.4242\n",
            "Epoch 16/100\n",
            "1407/1407 [==============================] - 19s 14ms/step - loss: 1.5017 - accuracy: 0.4590 - val_loss: 1.5574 - val_accuracy: 0.4424\n",
            "Epoch 17/100\n",
            "1407/1407 [==============================] - 19s 13ms/step - loss: 1.4872 - accuracy: 0.4614 - val_loss: 1.5750 - val_accuracy: 0.4314\n",
            "Epoch 18/100\n",
            "1407/1407 [==============================] - 19s 14ms/step - loss: 1.4709 - accuracy: 0.4687 - val_loss: 1.5603 - val_accuracy: 0.4442\n",
            "Epoch 19/100\n",
            "1407/1407 [==============================] - 19s 14ms/step - loss: 1.4572 - accuracy: 0.4752 - val_loss: 1.5536 - val_accuracy: 0.4442\n",
            "Epoch 20/100\n",
            "1407/1407 [==============================] - 20s 14ms/step - loss: 1.4369 - accuracy: 0.4819 - val_loss: 1.5814 - val_accuracy: 0.4354\n",
            "Epoch 21/100\n",
            "1407/1407 [==============================] - 19s 13ms/step - loss: 1.4384 - accuracy: 0.4819 - val_loss: 1.5564 - val_accuracy: 0.4412\n",
            "Epoch 22/100\n",
            "1407/1407 [==============================] - 19s 14ms/step - loss: 1.4261 - accuracy: 0.4856 - val_loss: 1.5542 - val_accuracy: 0.4426\n",
            "Epoch 23/100\n",
            "1407/1407 [==============================] - 19s 14ms/step - loss: 1.4022 - accuracy: 0.4949 - val_loss: 1.5693 - val_accuracy: 0.4454\n",
            "Epoch 24/100\n",
            "1407/1407 [==============================] - 19s 14ms/step - loss: 1.3900 - accuracy: 0.4961 - val_loss: 1.5401 - val_accuracy: 0.4486\n",
            "Epoch 25/100\n",
            "1407/1407 [==============================] - 19s 13ms/step - loss: 1.3877 - accuracy: 0.5004 - val_loss: 1.5100 - val_accuracy: 0.4590\n",
            "Epoch 26/100\n",
            "1407/1407 [==============================] - 19s 13ms/step - loss: 1.3593 - accuracy: 0.5103 - val_loss: 1.5492 - val_accuracy: 0.4516\n",
            "Epoch 27/100\n",
            "1407/1407 [==============================] - 19s 13ms/step - loss: 1.3648 - accuracy: 0.5102 - val_loss: 1.5137 - val_accuracy: 0.4626\n",
            "Epoch 28/100\n",
            "1407/1407 [==============================] - 18s 13ms/step - loss: 1.3505 - accuracy: 0.5127 - val_loss: 1.5196 - val_accuracy: 0.4538\n",
            "Epoch 29/100\n",
            "1407/1407 [==============================] - 19s 13ms/step - loss: 1.3448 - accuracy: 0.5135 - val_loss: 1.5123 - val_accuracy: 0.4576\n",
            "Epoch 30/100\n",
            "1407/1407 [==============================] - 18s 13ms/step - loss: 1.3412 - accuracy: 0.5180 - val_loss: 1.5797 - val_accuracy: 0.4504\n",
            "Epoch 31/100\n",
            "1407/1407 [==============================] - 18s 13ms/step - loss: 1.3464 - accuracy: 0.5135 - val_loss: 1.5967 - val_accuracy: 0.4512\n",
            "Epoch 32/100\n",
            "1407/1407 [==============================] - 18s 13ms/step - loss: 1.3146 - accuracy: 0.5248 - val_loss: 1.5031 - val_accuracy: 0.4760\n",
            "Epoch 33/100\n",
            "1407/1407 [==============================] - 18s 13ms/step - loss: 1.3102 - accuracy: 0.5278 - val_loss: 1.5009 - val_accuracy: 0.4708\n",
            "Epoch 34/100\n",
            "1407/1407 [==============================] - 18s 13ms/step - loss: 1.2912 - accuracy: 0.5374 - val_loss: 1.5757 - val_accuracy: 0.4628\n",
            "Epoch 35/100\n",
            "1407/1407 [==============================] - 18s 13ms/step - loss: 1.2914 - accuracy: 0.5327 - val_loss: 1.5330 - val_accuracy: 0.4646\n",
            "Epoch 36/100\n",
            "1407/1407 [==============================] - 18s 13ms/step - loss: 1.2830 - accuracy: 0.5380 - val_loss: 1.5234 - val_accuracy: 0.4694\n",
            "Epoch 37/100\n",
            "1407/1407 [==============================] - 18s 13ms/step - loss: 1.2749 - accuracy: 0.5432 - val_loss: 1.5319 - val_accuracy: 0.4634\n",
            "Epoch 38/100\n",
            "1407/1407 [==============================] - 18s 13ms/step - loss: 1.2538 - accuracy: 0.5485 - val_loss: 1.5206 - val_accuracy: 0.4696\n",
            "Epoch 39/100\n",
            "1407/1407 [==============================] - 18s 13ms/step - loss: 1.2578 - accuracy: 0.5480 - val_loss: 1.5156 - val_accuracy: 0.4656\n",
            "Epoch 40/100\n",
            "1407/1407 [==============================] - 18s 13ms/step - loss: 1.2466 - accuracy: 0.5537 - val_loss: 1.5494 - val_accuracy: 0.4604\n",
            "Epoch 41/100\n",
            "1407/1407 [==============================] - 18s 13ms/step - loss: 1.2381 - accuracy: 0.5580 - val_loss: 1.5193 - val_accuracy: 0.4720\n",
            "Epoch 42/100\n",
            "1407/1407 [==============================] - 18s 13ms/step - loss: 1.2323 - accuracy: 0.5608 - val_loss: 1.5372 - val_accuracy: 0.4730\n",
            "Epoch 43/100\n",
            "1407/1407 [==============================] - 18s 13ms/step - loss: 1.2314 - accuracy: 0.5557 - val_loss: 1.5226 - val_accuracy: 0.4704\n",
            "Epoch 44/100\n",
            "1407/1407 [==============================] - 18s 13ms/step - loss: 1.2217 - accuracy: 0.5623 - val_loss: 1.5490 - val_accuracy: 0.4704\n",
            "Epoch 45/100\n",
            "1407/1407 [==============================] - 18s 13ms/step - loss: 1.2125 - accuracy: 0.5624 - val_loss: 1.5416 - val_accuracy: 0.4708\n",
            "Epoch 46/100\n",
            "1407/1407 [==============================] - 18s 13ms/step - loss: 1.1896 - accuracy: 0.5731 - val_loss: 1.5233 - val_accuracy: 0.4738\n",
            "Epoch 47/100\n",
            "1407/1407 [==============================] - 18s 13ms/step - loss: 1.1993 - accuracy: 0.5682 - val_loss: 1.5268 - val_accuracy: 0.4788\n",
            "Epoch 48/100\n",
            "1407/1407 [==============================] - 18s 13ms/step - loss: 1.1914 - accuracy: 0.5729 - val_loss: 1.5565 - val_accuracy: 0.4618\n",
            "Epoch 49/100\n",
            "1407/1407 [==============================] - 18s 13ms/step - loss: 1.1874 - accuracy: 0.5703 - val_loss: 1.5341 - val_accuracy: 0.4814\n",
            "Epoch 50/100\n",
            "1407/1407 [==============================] - 18s 13ms/step - loss: 1.1716 - accuracy: 0.5826 - val_loss: 1.5557 - val_accuracy: 0.4674\n",
            "Epoch 51/100\n",
            "1407/1407 [==============================] - 18s 13ms/step - loss: 1.1658 - accuracy: 0.5801 - val_loss: 1.5459 - val_accuracy: 0.4708\n",
            "Epoch 52/100\n",
            "1407/1407 [==============================] - 18s 13ms/step - loss: 1.1633 - accuracy: 0.5829 - val_loss: 1.5834 - val_accuracy: 0.4618\n",
            "Epoch 53/100\n",
            "1407/1407 [==============================] - 18s 13ms/step - loss: 1.1441 - accuracy: 0.5889 - val_loss: 1.5982 - val_accuracy: 0.4542\n"
          ],
          "name": "stdout"
        },
        {
          "output_type": "execute_result",
          "data": {
            "text/plain": [
              "<tensorflow.python.keras.callbacks.History at 0x7f0fa2a7c518>"
            ]
          },
          "metadata": {
            "tags": []
          },
          "execution_count": 14
        }
      ]
    },
    {
      "cell_type": "code",
      "metadata": {
        "id": "EjFH2re70Ecf",
        "outputId": "b0abd894-43eb-4062-eadd-4cea4317249c",
        "colab": {
          "base_uri": "https://localhost:8080/"
        }
      },
      "source": [
        "model = keras.models.load_model(\"my_cifar10_model.h5\")\r\n",
        "model.evaluate(X_valid, y_valid)"
      ],
      "execution_count": 15,
      "outputs": [
        {
          "output_type": "stream",
          "text": [
            "157/157 [==============================] - 1s 3ms/step - loss: 1.5009 - accuracy: 0.4708\n"
          ],
          "name": "stdout"
        },
        {
          "output_type": "execute_result",
          "data": {
            "text/plain": [
              "[1.5009092092514038, 0.4708000123500824]"
            ]
          },
          "metadata": {
            "tags": []
          },
          "execution_count": 15
        }
      ]
    },
    {
      "cell_type": "code",
      "metadata": {
        "id": "DzOYjJcx5Ue7",
        "outputId": "85e5fb24-e978-4b56-f746-06b5c2d1d236",
        "colab": {
          "base_uri": "https://localhost:8080/"
        }
      },
      "source": [
        "#Model with Batch Normalization\r\n",
        "\r\n",
        "model = keras.models.Sequential()\r\n",
        "model.add(keras.layers.Flatten(input_shape=[32, 32, 3]))\r\n",
        "model.add(keras.layers.BatchNormalization())\r\n",
        "\r\n",
        "for _ in range(20):\r\n",
        "  model.add(keras.layers.Dense(100, kernel_initializer=\"he_normal\"))\r\n",
        "  model.add(keras.layers.BatchNormalization())\r\n",
        "  model.add(keras.layers.Activation(\"elu\"))\r\n",
        "model.add(keras.layers.Dense(10, activation=\"softmax\"))\r\n",
        "\r\n",
        "optimizer=keras.optimizers.SGD(learning_rate=5e-4)\r\n",
        "model.compile(loss=\"sparse_categorical_crossentropy\",\r\n",
        "              optimizer=optimizer,\r\n",
        "              metrics=[\"accuracy\"])\r\n",
        "\r\n",
        "early_stopping_cb = keras.callbacks.EarlyStopping(patience=20)\r\n",
        "model_checkpoint_cb = keras.callbacks.ModelCheckpoint(\"my_cifar10_bn_model.h5\", save_best_only=True)\r\n",
        "run_index = 1 # increment every time you train the model\r\n",
        "run_logdir = os.path.join(os.curdir, \"my_cifar10_logs\", \"run_bn_{:03d}\".format(run_index))\r\n",
        "tensorboard_cb = keras.callbacks.TensorBoard(run_logdir)\r\n",
        "callbacks = [early_stopping_cb, model_checkpoint_cb, tensorboard_cb]\r\n",
        "\r\n",
        "model.fit(X_train, y_train, epochs=100,\r\n",
        "          validation_data=(X_valid, y_valid),\r\n",
        "          callbacks=callbacks)\r\n",
        "\r\n",
        "model = keras.models.load_model(\"my_cifar10_bn_model.h5\")\r\n",
        "model.evaluate(X_valid, y_valid)"
      ],
      "execution_count": 16,
      "outputs": [
        {
          "output_type": "stream",
          "text": [
            "Epoch 1/100\n",
            "1407/1407 [==============================] - 24s 13ms/step - loss: 2.4808 - accuracy: 0.1542 - val_loss: 2.0323 - val_accuracy: 0.2758\n",
            "Epoch 2/100\n",
            "1407/1407 [==============================] - 17s 12ms/step - loss: 2.0381 - accuracy: 0.2684 - val_loss: 1.8728 - val_accuracy: 0.3278\n",
            "Epoch 3/100\n",
            "1407/1407 [==============================] - 17s 12ms/step - loss: 1.9293 - accuracy: 0.3097 - val_loss: 1.7987 - val_accuracy: 0.3596\n",
            "Epoch 4/100\n",
            "1407/1407 [==============================] - 18s 13ms/step - loss: 1.8618 - accuracy: 0.3347 - val_loss: 1.7535 - val_accuracy: 0.3744\n",
            "Epoch 5/100\n",
            "1407/1407 [==============================] - 18s 13ms/step - loss: 1.8101 - accuracy: 0.3512 - val_loss: 1.7207 - val_accuracy: 0.3850\n",
            "Epoch 6/100\n",
            "1407/1407 [==============================] - 18s 13ms/step - loss: 1.7831 - accuracy: 0.3617 - val_loss: 1.6958 - val_accuracy: 0.3938\n",
            "Epoch 7/100\n",
            "1407/1407 [==============================] - 18s 12ms/step - loss: 1.7668 - accuracy: 0.3662 - val_loss: 1.6733 - val_accuracy: 0.4016\n",
            "Epoch 8/100\n",
            "1407/1407 [==============================] - 18s 13ms/step - loss: 1.7369 - accuracy: 0.3813 - val_loss: 1.6561 - val_accuracy: 0.4038\n",
            "Epoch 9/100\n",
            "1407/1407 [==============================] - 18s 13ms/step - loss: 1.7313 - accuracy: 0.3819 - val_loss: 1.6405 - val_accuracy: 0.4084\n",
            "Epoch 10/100\n",
            "1407/1407 [==============================] - 18s 13ms/step - loss: 1.7035 - accuracy: 0.3929 - val_loss: 1.6264 - val_accuracy: 0.4172\n",
            "Epoch 11/100\n",
            "1407/1407 [==============================] - 17s 12ms/step - loss: 1.6920 - accuracy: 0.3967 - val_loss: 1.6131 - val_accuracy: 0.4212\n",
            "Epoch 12/100\n",
            "1407/1407 [==============================] - 18s 13ms/step - loss: 1.6803 - accuracy: 0.4022 - val_loss: 1.5980 - val_accuracy: 0.4250\n",
            "Epoch 13/100\n",
            "1407/1407 [==============================] - 19s 14ms/step - loss: 1.6609 - accuracy: 0.4084 - val_loss: 1.5929 - val_accuracy: 0.4262\n",
            "Epoch 14/100\n",
            "1407/1407 [==============================] - 18s 13ms/step - loss: 1.6468 - accuracy: 0.4142 - val_loss: 1.5838 - val_accuracy: 0.4322\n",
            "Epoch 15/100\n",
            "1407/1407 [==============================] - 18s 13ms/step - loss: 1.6419 - accuracy: 0.4137 - val_loss: 1.5742 - val_accuracy: 0.4316\n",
            "Epoch 16/100\n",
            "1407/1407 [==============================] - 18s 13ms/step - loss: 1.6374 - accuracy: 0.4138 - val_loss: 1.5690 - val_accuracy: 0.4372\n",
            "Epoch 17/100\n",
            "1407/1407 [==============================] - 18s 13ms/step - loss: 1.6210 - accuracy: 0.4233 - val_loss: 1.5616 - val_accuracy: 0.4384\n",
            "Epoch 18/100\n",
            "1407/1407 [==============================] - 18s 13ms/step - loss: 1.6120 - accuracy: 0.4227 - val_loss: 1.5543 - val_accuracy: 0.4428\n",
            "Epoch 19/100\n",
            "1407/1407 [==============================] - 17s 12ms/step - loss: 1.6070 - accuracy: 0.4297 - val_loss: 1.5484 - val_accuracy: 0.4442\n",
            "Epoch 20/100\n",
            "1407/1407 [==============================] - 18s 13ms/step - loss: 1.5916 - accuracy: 0.4329 - val_loss: 1.5455 - val_accuracy: 0.4476\n",
            "Epoch 21/100\n",
            "1407/1407 [==============================] - 17s 12ms/step - loss: 1.5813 - accuracy: 0.4352 - val_loss: 1.5396 - val_accuracy: 0.4508\n",
            "Epoch 22/100\n",
            "1407/1407 [==============================] - 17s 12ms/step - loss: 1.5754 - accuracy: 0.4396 - val_loss: 1.5324 - val_accuracy: 0.4500\n",
            "Epoch 23/100\n",
            "1407/1407 [==============================] - 17s 12ms/step - loss: 1.5665 - accuracy: 0.4410 - val_loss: 1.5293 - val_accuracy: 0.4526\n",
            "Epoch 24/100\n",
            "1407/1407 [==============================] - 18s 13ms/step - loss: 1.5556 - accuracy: 0.4449 - val_loss: 1.5251 - val_accuracy: 0.4592\n",
            "Epoch 25/100\n",
            "1407/1407 [==============================] - 17s 12ms/step - loss: 1.5587 - accuracy: 0.4465 - val_loss: 1.5213 - val_accuracy: 0.4586\n",
            "Epoch 26/100\n",
            "1407/1407 [==============================] - 17s 12ms/step - loss: 1.5372 - accuracy: 0.4546 - val_loss: 1.5146 - val_accuracy: 0.4602\n",
            "Epoch 27/100\n",
            "1407/1407 [==============================] - 17s 12ms/step - loss: 1.5464 - accuracy: 0.4504 - val_loss: 1.5108 - val_accuracy: 0.4620\n",
            "Epoch 28/100\n",
            "1407/1407 [==============================] - 17s 12ms/step - loss: 1.5299 - accuracy: 0.4576 - val_loss: 1.5087 - val_accuracy: 0.4628\n",
            "Epoch 29/100\n",
            "1407/1407 [==============================] - 17s 12ms/step - loss: 1.5369 - accuracy: 0.4533 - val_loss: 1.5036 - val_accuracy: 0.4632\n",
            "Epoch 30/100\n",
            "1407/1407 [==============================] - 18s 13ms/step - loss: 1.5309 - accuracy: 0.4540 - val_loss: 1.5021 - val_accuracy: 0.4616\n",
            "Epoch 31/100\n",
            "1407/1407 [==============================] - 18s 13ms/step - loss: 1.5193 - accuracy: 0.4577 - val_loss: 1.4980 - val_accuracy: 0.4640\n",
            "Epoch 32/100\n",
            "1407/1407 [==============================] - 18s 12ms/step - loss: 1.5015 - accuracy: 0.4624 - val_loss: 1.4967 - val_accuracy: 0.4654\n",
            "Epoch 33/100\n",
            "1407/1407 [==============================] - 18s 13ms/step - loss: 1.5094 - accuracy: 0.4592 - val_loss: 1.4897 - val_accuracy: 0.4698\n",
            "Epoch 34/100\n",
            "1407/1407 [==============================] - 18s 13ms/step - loss: 1.4955 - accuracy: 0.4686 - val_loss: 1.4949 - val_accuracy: 0.4640\n",
            "Epoch 35/100\n",
            "1407/1407 [==============================] - 17s 12ms/step - loss: 1.5001 - accuracy: 0.4631 - val_loss: 1.4860 - val_accuracy: 0.4672\n",
            "Epoch 36/100\n",
            "1407/1407 [==============================] - 17s 12ms/step - loss: 1.4923 - accuracy: 0.4679 - val_loss: 1.4845 - val_accuracy: 0.4694\n",
            "Epoch 37/100\n",
            "1407/1407 [==============================] - 18s 13ms/step - loss: 1.4823 - accuracy: 0.4740 - val_loss: 1.4833 - val_accuracy: 0.4690\n",
            "Epoch 38/100\n",
            "1407/1407 [==============================] - 18s 13ms/step - loss: 1.4740 - accuracy: 0.4729 - val_loss: 1.4839 - val_accuracy: 0.4716\n",
            "Epoch 39/100\n",
            "1407/1407 [==============================] - 17s 12ms/step - loss: 1.4707 - accuracy: 0.4748 - val_loss: 1.4791 - val_accuracy: 0.4722\n",
            "Epoch 40/100\n",
            "1407/1407 [==============================] - 17s 12ms/step - loss: 1.4674 - accuracy: 0.4772 - val_loss: 1.4742 - val_accuracy: 0.4734\n",
            "Epoch 41/100\n",
            "1407/1407 [==============================] - 17s 12ms/step - loss: 1.4599 - accuracy: 0.4811 - val_loss: 1.4724 - val_accuracy: 0.4766\n",
            "Epoch 42/100\n",
            "1407/1407 [==============================] - 17s 12ms/step - loss: 1.4636 - accuracy: 0.4776 - val_loss: 1.4702 - val_accuracy: 0.4756\n",
            "Epoch 43/100\n",
            "1407/1407 [==============================] - 17s 12ms/step - loss: 1.4629 - accuracy: 0.4783 - val_loss: 1.4635 - val_accuracy: 0.4786\n",
            "Epoch 44/100\n",
            "1407/1407 [==============================] - 17s 12ms/step - loss: 1.4590 - accuracy: 0.4786 - val_loss: 1.4658 - val_accuracy: 0.4810\n",
            "Epoch 45/100\n",
            "1407/1407 [==============================] - 17s 12ms/step - loss: 1.4467 - accuracy: 0.4873 - val_loss: 1.4613 - val_accuracy: 0.4762\n",
            "Epoch 46/100\n",
            "1407/1407 [==============================] - 17s 12ms/step - loss: 1.4362 - accuracy: 0.4906 - val_loss: 1.4646 - val_accuracy: 0.4812\n",
            "Epoch 47/100\n",
            "1407/1407 [==============================] - 18s 12ms/step - loss: 1.4380 - accuracy: 0.4864 - val_loss: 1.4551 - val_accuracy: 0.4812\n",
            "Epoch 48/100\n",
            "1407/1407 [==============================] - 19s 13ms/step - loss: 1.4331 - accuracy: 0.4913 - val_loss: 1.4576 - val_accuracy: 0.4810\n",
            "Epoch 49/100\n",
            "1407/1407 [==============================] - 17s 12ms/step - loss: 1.4327 - accuracy: 0.4886 - val_loss: 1.4505 - val_accuracy: 0.4828\n",
            "Epoch 50/100\n",
            "1407/1407 [==============================] - 18s 13ms/step - loss: 1.4154 - accuracy: 0.4978 - val_loss: 1.4541 - val_accuracy: 0.4770\n",
            "Epoch 51/100\n",
            "1407/1407 [==============================] - 18s 13ms/step - loss: 1.4247 - accuracy: 0.4902 - val_loss: 1.4484 - val_accuracy: 0.4872\n",
            "Epoch 52/100\n",
            "1407/1407 [==============================] - 18s 13ms/step - loss: 1.4173 - accuracy: 0.4959 - val_loss: 1.4462 - val_accuracy: 0.4864\n",
            "Epoch 53/100\n",
            "1407/1407 [==============================] - 17s 12ms/step - loss: 1.4103 - accuracy: 0.4977 - val_loss: 1.4505 - val_accuracy: 0.4810\n",
            "Epoch 54/100\n",
            "1407/1407 [==============================] - 18s 12ms/step - loss: 1.3986 - accuracy: 0.5028 - val_loss: 1.4491 - val_accuracy: 0.4822\n",
            "Epoch 55/100\n",
            "1407/1407 [==============================] - 18s 13ms/step - loss: 1.4092 - accuracy: 0.5012 - val_loss: 1.4430 - val_accuracy: 0.4854\n",
            "Epoch 56/100\n",
            "1407/1407 [==============================] - 18s 13ms/step - loss: 1.3919 - accuracy: 0.5039 - val_loss: 1.4425 - val_accuracy: 0.4854\n",
            "Epoch 57/100\n",
            "1407/1407 [==============================] - 18s 13ms/step - loss: 1.3943 - accuracy: 0.5068 - val_loss: 1.4491 - val_accuracy: 0.4850\n",
            "Epoch 58/100\n",
            "1407/1407 [==============================] - 18s 13ms/step - loss: 1.3966 - accuracy: 0.5006 - val_loss: 1.4430 - val_accuracy: 0.4894\n",
            "Epoch 59/100\n",
            "1407/1407 [==============================] - 18s 13ms/step - loss: 1.3809 - accuracy: 0.5098 - val_loss: 1.4400 - val_accuracy: 0.4902\n",
            "Epoch 60/100\n",
            "1407/1407 [==============================] - 17s 12ms/step - loss: 1.3870 - accuracy: 0.5057 - val_loss: 1.4389 - val_accuracy: 0.4902\n",
            "Epoch 61/100\n",
            "1407/1407 [==============================] - 18s 12ms/step - loss: 1.3737 - accuracy: 0.5102 - val_loss: 1.4388 - val_accuracy: 0.4894\n",
            "Epoch 62/100\n",
            "1407/1407 [==============================] - 18s 13ms/step - loss: 1.3755 - accuracy: 0.5105 - val_loss: 1.4336 - val_accuracy: 0.4940\n",
            "Epoch 63/100\n",
            "1407/1407 [==============================] - 17s 12ms/step - loss: 1.3740 - accuracy: 0.5151 - val_loss: 1.4368 - val_accuracy: 0.4932\n",
            "Epoch 64/100\n",
            "1407/1407 [==============================] - 17s 12ms/step - loss: 1.3725 - accuracy: 0.5134 - val_loss: 1.4334 - val_accuracy: 0.4926\n",
            "Epoch 65/100\n",
            "1407/1407 [==============================] - 18s 13ms/step - loss: 1.3594 - accuracy: 0.5191 - val_loss: 1.4336 - val_accuracy: 0.4948\n",
            "Epoch 66/100\n",
            "1407/1407 [==============================] - 17s 12ms/step - loss: 1.3609 - accuracy: 0.5158 - val_loss: 1.4337 - val_accuracy: 0.4904\n",
            "Epoch 67/100\n",
            "1407/1407 [==============================] - 17s 12ms/step - loss: 1.3551 - accuracy: 0.5141 - val_loss: 1.4296 - val_accuracy: 0.4980\n",
            "Epoch 68/100\n",
            "1407/1407 [==============================] - 17s 12ms/step - loss: 1.3468 - accuracy: 0.5223 - val_loss: 1.4287 - val_accuracy: 0.4930\n",
            "Epoch 69/100\n",
            "1407/1407 [==============================] - 17s 12ms/step - loss: 1.3510 - accuracy: 0.5190 - val_loss: 1.4272 - val_accuracy: 0.4964\n",
            "Epoch 70/100\n",
            "1407/1407 [==============================] - 17s 12ms/step - loss: 1.3528 - accuracy: 0.5180 - val_loss: 1.4236 - val_accuracy: 0.4942\n",
            "Epoch 71/100\n",
            "1407/1407 [==============================] - 18s 12ms/step - loss: 1.3449 - accuracy: 0.5213 - val_loss: 1.4340 - val_accuracy: 0.4892\n",
            "Epoch 72/100\n",
            "1407/1407 [==============================] - 18s 12ms/step - loss: 1.3378 - accuracy: 0.5218 - val_loss: 1.4293 - val_accuracy: 0.5004\n",
            "Epoch 73/100\n",
            "1407/1407 [==============================] - 17s 12ms/step - loss: 1.3457 - accuracy: 0.5228 - val_loss: 1.4302 - val_accuracy: 0.4966\n",
            "Epoch 74/100\n",
            "1407/1407 [==============================] - 17s 12ms/step - loss: 1.3311 - accuracy: 0.5285 - val_loss: 1.4270 - val_accuracy: 0.4998\n",
            "Epoch 75/100\n",
            "1407/1407 [==============================] - 17s 12ms/step - loss: 1.3187 - accuracy: 0.5326 - val_loss: 1.4302 - val_accuracy: 0.4954\n",
            "Epoch 76/100\n",
            "1407/1407 [==============================] - 17s 12ms/step - loss: 1.3174 - accuracy: 0.5295 - val_loss: 1.4289 - val_accuracy: 0.5020\n",
            "Epoch 77/100\n",
            "1407/1407 [==============================] - 18s 12ms/step - loss: 1.3251 - accuracy: 0.5284 - val_loss: 1.4215 - val_accuracy: 0.4974\n",
            "Epoch 78/100\n",
            "1407/1407 [==============================] - 17s 12ms/step - loss: 1.3135 - accuracy: 0.5327 - val_loss: 1.4281 - val_accuracy: 0.5032\n",
            "Epoch 79/100\n",
            "1407/1407 [==============================] - 17s 12ms/step - loss: 1.3132 - accuracy: 0.5316 - val_loss: 1.4270 - val_accuracy: 0.5074\n",
            "Epoch 80/100\n",
            "1407/1407 [==============================] - 17s 12ms/step - loss: 1.3127 - accuracy: 0.5326 - val_loss: 1.4225 - val_accuracy: 0.4980\n",
            "Epoch 81/100\n",
            "1407/1407 [==============================] - 17s 12ms/step - loss: 1.3135 - accuracy: 0.5308 - val_loss: 1.4182 - val_accuracy: 0.5028\n",
            "Epoch 82/100\n",
            "1407/1407 [==============================] - 17s 12ms/step - loss: 1.3057 - accuracy: 0.5326 - val_loss: 1.4334 - val_accuracy: 0.4972\n",
            "Epoch 83/100\n",
            "1407/1407 [==============================] - 18s 13ms/step - loss: 1.2979 - accuracy: 0.5366 - val_loss: 1.4392 - val_accuracy: 0.5002\n",
            "Epoch 84/100\n",
            "1407/1407 [==============================] - 18s 13ms/step - loss: 1.3084 - accuracy: 0.5358 - val_loss: 1.4224 - val_accuracy: 0.4990\n",
            "Epoch 85/100\n",
            "1407/1407 [==============================] - 17s 12ms/step - loss: 1.3084 - accuracy: 0.5356 - val_loss: 1.4224 - val_accuracy: 0.5000\n",
            "Epoch 86/100\n",
            "1407/1407 [==============================] - 17s 12ms/step - loss: 1.2925 - accuracy: 0.5384 - val_loss: 1.4220 - val_accuracy: 0.5016\n",
            "Epoch 87/100\n",
            "1407/1407 [==============================] - 17s 12ms/step - loss: 1.2808 - accuracy: 0.5431 - val_loss: 1.4285 - val_accuracy: 0.4950\n",
            "Epoch 88/100\n",
            "1407/1407 [==============================] - 17s 12ms/step - loss: 1.2898 - accuracy: 0.5403 - val_loss: 1.4349 - val_accuracy: 0.4942\n",
            "Epoch 89/100\n",
            "1407/1407 [==============================] - 17s 12ms/step - loss: 1.2857 - accuracy: 0.5421 - val_loss: 1.4250 - val_accuracy: 0.5016\n",
            "Epoch 90/100\n",
            "1407/1407 [==============================] - 17s 12ms/step - loss: 1.2774 - accuracy: 0.5449 - val_loss: 1.4479 - val_accuracy: 0.4922\n",
            "Epoch 91/100\n",
            "1407/1407 [==============================] - 17s 12ms/step - loss: 1.2806 - accuracy: 0.5459 - val_loss: 1.4254 - val_accuracy: 0.5000\n",
            "Epoch 92/100\n",
            "1407/1407 [==============================] - 17s 12ms/step - loss: 1.2851 - accuracy: 0.5385 - val_loss: 1.4246 - val_accuracy: 0.5032\n",
            "Epoch 93/100\n",
            "1407/1407 [==============================] - 18s 13ms/step - loss: 1.2732 - accuracy: 0.5483 - val_loss: 1.4324 - val_accuracy: 0.4996\n",
            "Epoch 94/100\n",
            "1407/1407 [==============================] - 17s 12ms/step - loss: 1.2701 - accuracy: 0.5478 - val_loss: 1.4233 - val_accuracy: 0.5064\n",
            "Epoch 95/100\n",
            "1407/1407 [==============================] - 18s 13ms/step - loss: 1.2702 - accuracy: 0.5485 - val_loss: 1.4220 - val_accuracy: 0.5028\n",
            "Epoch 96/100\n",
            "1407/1407 [==============================] - 17s 12ms/step - loss: 1.2621 - accuracy: 0.5479 - val_loss: 1.4205 - val_accuracy: 0.5056\n",
            "Epoch 97/100\n",
            "1407/1407 [==============================] - 17s 12ms/step - loss: 1.2675 - accuracy: 0.5435 - val_loss: 1.4207 - val_accuracy: 0.5006\n",
            "Epoch 98/100\n",
            "1407/1407 [==============================] - 18s 12ms/step - loss: 1.2713 - accuracy: 0.5470 - val_loss: 1.4217 - val_accuracy: 0.5054\n",
            "Epoch 99/100\n",
            "1407/1407 [==============================] - 17s 12ms/step - loss: 1.2550 - accuracy: 0.5525 - val_loss: 1.4186 - val_accuracy: 0.5048\n",
            "Epoch 100/100\n",
            "1407/1407 [==============================] - 17s 12ms/step - loss: 1.2548 - accuracy: 0.5512 - val_loss: 1.4224 - val_accuracy: 0.5054\n",
            "157/157 [==============================] - 1s 4ms/step - loss: 1.4182 - accuracy: 0.5028\n"
          ],
          "name": "stdout"
        },
        {
          "output_type": "execute_result",
          "data": {
            "text/plain": [
              "[1.4181780815124512, 0.5027999877929688]"
            ]
          },
          "metadata": {
            "tags": []
          },
          "execution_count": 0
        }
      ]
    },
    {
      "cell_type": "code",
      "metadata": {
        "id": "kIEr5yqU7IGn"
      },
      "source": [
        ""
      ],
      "execution_count": null,
      "outputs": []
    }
  ]
}