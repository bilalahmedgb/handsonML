{
  "nbformat": 4,
  "nbformat_minor": 0,
  "metadata": {
    "colab": {
      "name": "Chapter_12.ipynb",
      "provenance": [],
      "authorship_tag": "ABX9TyNbKmE1kQ5wNktFjMZ/Brzv",
      "include_colab_link": true
    },
    "kernelspec": {
      "name": "python3",
      "display_name": "Python 3"
    }
  },
  "cells": [
    {
      "cell_type": "markdown",
      "metadata": {
        "id": "view-in-github",
        "colab_type": "text"
      },
      "source": [
        "<a href=\"https://colab.research.google.com/github/bilalahmedgb/handsonML/blob/main/Chapter_13.ipynb\" target=\"_parent\"><img src=\"https://colab.research.google.com/assets/colab-badge.svg\" alt=\"Open In Colab\"/></a>"
      ]
    },
    {
      "cell_type": "code",
      "metadata": {
        "id": "zmBOBD7SF5Le"
      },
      "source": [
        "import tensorflow as tf\r\n",
        "from tensorflow import keras\r\n",
        "import numpy as np\r\n",
        "import os"
      ],
      "execution_count": 5,
      "outputs": []
    },
    {
      "cell_type": "code",
      "metadata": {
        "id": "wOH1gkwfB_Fw"
      },
      "source": [
        "from sklearn.datasets import fetch_california_housing\r\n",
        "from sklearn.model_selection import train_test_split\r\n",
        "from sklearn.preprocessing import StandardScaler"
      ],
      "execution_count": 3,
      "outputs": []
    },
    {
      "cell_type": "code",
      "metadata": {
        "id": "eMgfHTE0CJuq",
        "outputId": "8edf3535-91f4-471c-9816-ad15fe16e0ed",
        "colab": {
          "base_uri": "https://localhost:8080/"
        }
      },
      "source": [
        "housing = fetch_california_housing()\r\n",
        "\r\n",
        "X_train_full, X_test, y_train_full, y_test = train_test_split(\r\n",
        "    housing.data, housing.target.reshape(-1,1), random_state=42)\r\n",
        "X_train, X_valid, y_train, y_valid = train_test_split(\r\n",
        "    X_train_full, y_train_full, random_state=42)\r\n",
        "\r\n",
        "scaler = StandardScaler()\r\n",
        "scaler.fit(X_train)\r\n",
        "X_mean = scaler.mean_\r\n",
        "X_std = scaler.scale_"
      ],
      "execution_count": 4,
      "outputs": [
        {
          "output_type": "stream",
          "text": [
            "Downloading Cal. housing from https://ndownloader.figshare.com/files/5976036 to /root/scikit_learn_data\n"
          ],
          "name": "stderr"
        }
      ]
    },
    {
      "cell_type": "code",
      "metadata": {
        "id": "tJBk0rLLCtVG"
      },
      "source": [
        "def save_to_multiple_csv_files(data, name_prefix, header=None, n_parts=10):\r\n",
        "  housing_dir = os.path.join(\"datasets\", \"housing\")\r\n",
        "  os.makedirs(housing_dir, exist_ok=True)\r\n",
        "  path_format = os.path.join(housing_dir, \"my_{}_{:02d}.csv\")\r\n",
        "\r\n",
        "  filepaths = []\r\n",
        "  m = len(data)\r\n",
        "  for file_idx, row_indices in enumerate(np.array_split(np.arange(m), n_parts)):\r\n",
        "    part_csv = path_format.format(name_prefix, file_idx)\r\n",
        "    filepaths.append(part_csv)\r\n",
        "    \r\n",
        "    with open(part_csv, \"wt\", encoding=\"utf-8\") as f:\r\n",
        "      if header is not None:\r\n",
        "        f.write(header)\r\n",
        "        f.write(\"\\n\")\r\n",
        "      for row_idx in row_indices:\r\n",
        "        f.write(\",\".join([repr(col) for col in data[row_idx]]))\r\n",
        "        f.write(\"\\n\")\r\n",
        "  return filepaths"
      ],
      "execution_count": 6,
      "outputs": []
    },
    {
      "cell_type": "code",
      "metadata": {
        "id": "6x0TW-kFEgRQ"
      },
      "source": [
        "train_data = np.c_[X_train, y_train]\r\n",
        "valid_data = np.c_[X_valid, y_valid]\r\n",
        "test_data = np.c_[X_test, y_test]\r\n",
        "header_cols = housing.feature_names + [\"MedianHouseValue\"]\r\n",
        "header = \",\".join(header_cols)\r\n",
        "\r\n",
        "train_filepaths = save_to_multiple_csv_files(train_data, \"train\", header, n_parts=20)\r\n",
        "valid_filepaths = save_to_multiple_csv_files(valid_data, \"Valid\", header, n_parts=10)\r\n",
        "test_filepaths = save_to_multiple_csv_files(test_data, \"test\", header, n_parts=10)"
      ],
      "execution_count": 7,
      "outputs": []
    },
    {
      "cell_type": "code",
      "metadata": {
        "id": "qJLqVVyWFH1z",
        "outputId": "d00fbce2-0bdc-400d-92de-9b725212d59d",
        "colab": {
          "base_uri": "https://localhost:8080/"
        }
      },
      "source": [
        "import pandas as pd\r\n",
        "\r\n",
        "#pd.read_csv(train_filepaths[0]).head()\r\n",
        "len(train_filepaths)"
      ],
      "execution_count": 9,
      "outputs": [
        {
          "output_type": "execute_result",
          "data": {
            "text/plain": [
              "20"
            ]
          },
          "metadata": {
            "tags": []
          },
          "execution_count": 9
        }
      ]
    },
    {
      "cell_type": "code",
      "metadata": {
        "id": "vozrVaWdFYyN",
        "outputId": "13f70bf3-c4c7-4605-cc26-b589cc8cf59a",
        "colab": {
          "base_uri": "https://localhost:8080/"
        }
      },
      "source": [
        "with open(train_filepaths[0]) as f:\r\n",
        "  for i in range(5):\r\n",
        "    print(f.readline(), end=\"\")"
      ],
      "execution_count": 10,
      "outputs": [
        {
          "output_type": "stream",
          "text": [
            "MedInc,HouseAge,AveRooms,AveBedrms,Population,AveOccup,Latitude,Longitude,MedianHouseValue\n",
            "3.5214,15.0,3.0499445061043287,1.106548279689234,1447.0,1.6059933407325193,37.63,-122.43,1.442\n",
            "5.3275,5.0,6.490059642147117,0.9910536779324056,3464.0,3.4433399602385686,33.69,-117.39,1.687\n",
            "3.1,29.0,7.5423728813559325,1.5915254237288134,1328.0,2.2508474576271187,38.44,-122.98,1.621\n",
            "7.1736,12.0,6.289002557544757,0.9974424552429667,1054.0,2.6956521739130435,33.55,-117.7,2.621\n"
          ],
          "name": "stdout"
        }
      ]
    },
    {
      "cell_type": "code",
      "metadata": {
        "id": "2fvJtdV_FyLk",
        "outputId": "ccf2b00d-9ace-4878-cfbd-f3487999ce01",
        "colab": {
          "base_uri": "https://localhost:8080/"
        }
      },
      "source": [
        "train_filepaths"
      ],
      "execution_count": 11,
      "outputs": [
        {
          "output_type": "execute_result",
          "data": {
            "text/plain": [
              "['datasets/housing/my_train_00.csv',\n",
              " 'datasets/housing/my_train_01.csv',\n",
              " 'datasets/housing/my_train_02.csv',\n",
              " 'datasets/housing/my_train_03.csv',\n",
              " 'datasets/housing/my_train_04.csv',\n",
              " 'datasets/housing/my_train_05.csv',\n",
              " 'datasets/housing/my_train_06.csv',\n",
              " 'datasets/housing/my_train_07.csv',\n",
              " 'datasets/housing/my_train_08.csv',\n",
              " 'datasets/housing/my_train_09.csv',\n",
              " 'datasets/housing/my_train_10.csv',\n",
              " 'datasets/housing/my_train_11.csv',\n",
              " 'datasets/housing/my_train_12.csv',\n",
              " 'datasets/housing/my_train_13.csv',\n",
              " 'datasets/housing/my_train_14.csv',\n",
              " 'datasets/housing/my_train_15.csv',\n",
              " 'datasets/housing/my_train_16.csv',\n",
              " 'datasets/housing/my_train_17.csv',\n",
              " 'datasets/housing/my_train_18.csv',\n",
              " 'datasets/housing/my_train_19.csv']"
            ]
          },
          "metadata": {
            "tags": []
          },
          "execution_count": 11
        }
      ]
    }
  ]
}